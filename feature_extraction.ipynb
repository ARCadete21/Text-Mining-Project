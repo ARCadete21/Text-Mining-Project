{
 "cells": [
  {
   "cell_type": "code",
   "execution_count": 21,
   "metadata": {},
   "outputs": [],
   "source": [
    "import pandas as pd\n",
    "from nltk.probability import FreqDist\n",
    "from nltk.tokenize import word_tokenize\n",
    "import math\n",
    "import gc"
   ]
  },
  {
   "cell_type": "code",
   "execution_count": null,
   "metadata": {},
   "outputs": [],
   "source": [
    "#gc.collect()"
   ]
  },
  {
   "cell_type": "code",
   "execution_count": 2,
   "metadata": {},
   "outputs": [],
   "source": [
    "path = 'C:\\\\Users\\\\ritaf\\\\Documents\\\\ESTUDOS\\\\NOVA IMS\\\\3º Ano\\\\Text Mining\\\\Projeto\\\\new_data\\\\'\n",
    "\n",
    "# Read the CSV file into a DataFrame\n",
    "data = pd.read_csv(path + 'text_train_btp_2.csv')"
   ]
  },
  {
   "cell_type": "code",
   "execution_count": null,
   "metadata": {},
   "outputs": [],
   "source": [
    "# import pandas as pd\n",
    "# import numpy as np\n",
    "\n",
    "# # create a sample dataframe\n",
    "# df = pd.DataFrame({'tag': ['a', 'a', 'a', 'b', 'b', 'c', 'c', 'c', 'c']})\n",
    "\n",
    "# # calculate the distribution of the tag column\n",
    "# tag_dist = df['tag'].value_counts(normalize=True)\n",
    "\n",
    "# # calculate the number of samples to take for each tag\n",
    "# sample_sizes = np.round(tag_dist * len(df)).astype(int)\n",
    "\n",
    "# # create a list of indices for each tag\n",
    "# tag_indices = [df[df['tag'] == tag].index.tolist() for tag in tag_dist.index]\n",
    "\n",
    "# # randomly sample from each tag group\n",
    "# sample_indices = []\n",
    "# for indices, size in zip(tag_indices, sample_sizes):\n",
    "#     sample_indices += np.random.choice(indices, size, replace=False).tolist()\n",
    "\n",
    "# # extract the sample dataframe\n",
    "# sample_df = df.loc[sample_indices]\n"
   ]
  },
  {
   "cell_type": "code",
   "execution_count": null,
   "metadata": {},
   "outputs": [],
   "source": [
    "data"
   ]
  },
  {
   "cell_type": "code",
   "execution_count": 3,
   "metadata": {},
   "outputs": [],
   "source": [
    "data = data[['lyrics_string_fdist', 'tag']]"
   ]
  },
  {
   "cell_type": "code",
   "execution_count": 4,
   "metadata": {},
   "outputs": [],
   "source": [
    "df = data.sample(frac = 0.2, random_state= 42)"
   ]
  },
  {
   "cell_type": "code",
   "execution_count": 5,
   "metadata": {},
   "outputs": [],
   "source": [
    "del data\n",
    "gc.collect()"
   ]
  },
  {
   "cell_type": "markdown",
   "metadata": {},
   "source": [
    "#### Separating lyrics by genre"
   ]
  },
  {
   "cell_type": "code",
   "execution_count": 7,
   "metadata": {},
   "outputs": [],
   "source": [
    "all_lyrics = df.drop(columns=['tag'])\n",
    "pop_lyrics = df.loc[df.tag=='pop'].drop(columns=['tag'])\n",
    "rap_lyrics = df.loc[df.tag=='rap'].drop(columns=['tag'])\n",
    "rock_lyrics = df.loc[df.tag=='rock'].drop(columns=['tag'])\n",
    "rb_lyrics = df.loc[df.tag=='rb'].drop(columns=['tag'])\n",
    "country_lyrics = df.loc[df.tag=='country'].drop(columns=['tag'])\n",
    "misc_lyrics = df.loc[df.tag=='misc'].drop(columns=['tag'])"
   ]
  },
  {
   "cell_type": "code",
   "execution_count": null,
   "metadata": {},
   "outputs": [],
   "source": [
    "#pop_lyrics_lst = pop_lyrics['lyrics_string_fdist']\n",
    "#rap_lyrics_lst = rap_lyrics['lyrics_string_fdist']\n",
    "#rock_lyrics_lst = rock_lyrics['lyrics_string_fdist']\n",
    "#rb_lyrics_lst = rb_lyrics['lyrics_string_fdist']\n",
    "#country_lyrics_lst = country_lyrics['lyrics_string_fdist']\n",
    "#misc_lyrics_lst = misc_lyrics['lyrics_string_fdist']"
   ]
  },
  {
   "cell_type": "code",
   "execution_count": 8,
   "metadata": {},
   "outputs": [
    {
     "data": {
      "text/plain": [
       "0"
      ]
     },
     "execution_count": 8,
     "metadata": {},
     "output_type": "execute_result"
    }
   ],
   "source": [
    "del df #, pop_lyrics, rap_lyrics, rock_lyrics, rb_lyrics, country_lyrics, misc_lyrics\n",
    "gc.collect()"
   ]
  },
  {
   "cell_type": "code",
   "execution_count": 12,
   "metadata": {},
   "outputs": [],
   "source": [
    "all_lyrics.dropna(subset=['lyrics_string_fdist'], inplace=True)\n",
    "pop_lyrics.dropna(subset=['lyrics_string_fdist'], inplace=True)\n",
    "rap_lyrics.dropna(subset=['lyrics_string_fdist'], inplace=True)\n",
    "rock_lyrics.dropna(subset=['lyrics_string_fdist'], inplace=True)\n",
    "rb_lyrics.dropna(subset=['lyrics_string_fdist'], inplace=True)\n",
    "country_lyrics.dropna(subset=['lyrics_string_fdist'], inplace=True)\n",
    "misc_lyrics.dropna(subset=['lyrics_string_fdist'], inplace=True)"
   ]
  },
  {
   "cell_type": "code",
   "execution_count": 14,
   "metadata": {},
   "outputs": [],
   "source": [
    "all_lyrics_lyrics = ' '.join(list(all_lyrics.lyrics_string_fdist))\n",
    "all_pop_lyrics = ' '.join(list(pop_lyrics.lyrics_string_fdist))\n",
    "all_rap_lyrics = ' '.join(list(rap_lyrics.lyrics_string_fdist))\n",
    "all_rock_lyrics = ' '.join(list(rock_lyrics.lyrics_string_fdist))\n",
    "all_rb_lyrics = ' '.join(list(rb_lyrics.lyrics_string_fdist))\n",
    "all_country_lyrics = ' '.join(list(country_lyrics.lyrics_string_fdist))\n",
    "all_misc_lyrics = ' '.join(list(misc_lyrics.lyrics_string_fdist))"
   ]
  },
  {
   "cell_type": "code",
   "execution_count": 15,
   "metadata": {},
   "outputs": [],
   "source": [
    "all_size = len(all_lyrics_lyrics)\n",
    "pop_size = len(all_pop_lyrics)\n",
    "rap_size = len(all_rap_lyrics)\n",
    "rock_size = len(all_rock_lyrics)\n",
    "rb_size = len(all_rb_lyrics)\n",
    "country_size = len(all_country_lyrics)\n",
    "misc_size = len(all_misc_lyrics)"
   ]
  },
  {
   "cell_type": "code",
   "execution_count": 16,
   "metadata": {},
   "outputs": [],
   "source": [
    "all_tokens = word_tokenize(all_lyrics_lyrics)\n",
    "pop_tokens = word_tokenize(all_pop_lyrics)\n",
    "rap_tokens = word_tokenize(all_rap_lyrics)\n",
    "rock_tokens = word_tokenize(all_rock_lyrics)\n",
    "rb_tokens = word_tokenize(all_rb_lyrics)\n",
    "country_tokens = word_tokenize(all_country_lyrics)\n",
    "misc_tokens = word_tokenize(all_misc_lyrics)"
   ]
  },
  {
   "cell_type": "code",
   "execution_count": 17,
   "metadata": {},
   "outputs": [],
   "source": [
    "freq_all = FreqDist(all_tokens)\n",
    "freq_pop = FreqDist(pop_tokens)\n",
    "freq_rap = FreqDist(rap_tokens)\n",
    "freq_rock = FreqDist(rock_tokens)\n",
    "freq_rb = FreqDist(rb_tokens)\n",
    "freq_country = FreqDist(country_tokens)\n",
    "freq_misc = FreqDist(misc_tokens)"
   ]
  },
  {
   "cell_type": "code",
   "execution_count": 18,
   "metadata": {},
   "outputs": [],
   "source": [
    "total_words_all = freq_all.N()\n",
    "total_words_pop = freq_pop.N()\n",
    "total_words_rap = freq_rap.N()\n",
    "total_words_rock = freq_rock.N()\n",
    "total_words_rb = freq_rb.N()\n",
    "total_words_country = freq_country.N()\n",
    "total_words_misc = freq_misc.N()"
   ]
  },
  {
   "cell_type": "code",
   "execution_count": 19,
   "metadata": {},
   "outputs": [],
   "source": [
    "percentage_all = FreqDist({word: count / total_words_all * 100 for word, count in freq_all.items()})\n",
    "percentage_pop = FreqDist({word: count / total_words_pop * 100 for word, count in freq_pop.items()})\n",
    "percentage_rap = FreqDist({word: count / total_words_rap * 100 for word, count in freq_rap.items()})\n",
    "percentage_rock = FreqDist({word: count / total_words_rock * 100 for word, count in freq_rock.items()})\n",
    "percentage_rb = FreqDist({word: count / total_words_rb * 100 for word, count in freq_rb.items()})\n",
    "percentage_country = FreqDist({word: count / total_words_country * 100 for word, count in freq_country.items()})\n",
    "percentage_misc = FreqDist({word: count / total_words_misc * 100 for word, count in freq_misc.items()})"
   ]
  },
  {
   "cell_type": "code",
   "execution_count": 30,
   "metadata": {},
   "outputs": [
    {
     "data": {
      "text/plain": [
       "[('dont', 2.543658562981474),\n",
       " ('know', 2.4531439084621365),\n",
       " ('like', 2.2388603024370086),\n",
       " ('love', 2.0023415747582174),\n",
       " ('got', 1.4903434637597033),\n",
       " ('get', 1.420489762989345),\n",
       " ('cant', 1.3459135585049342),\n",
       " ('never', 1.3449297035645065),\n",
       " ('want', 1.273895376865635),\n",
       " ('youre', 1.262089117580504),\n",
       " ('see', 1.1904644779173759),\n",
       " ('one', 1.1420588148483388),\n",
       " ('feel', 1.1099851437903996),\n",
       " ('time', 1.0537086411979417),\n",
       " ('make', 1.0448539467340934),\n",
       " ('need', 0.95591346011944),\n",
       " ('let', 0.9391879261321712),\n",
       " ('come', 0.884288820456312),\n",
       " ('say', 0.8772050648852333),\n",
       " ('take', 0.8608730728741354)]"
      ]
     },
     "execution_count": 30,
     "metadata": {},
     "output_type": "execute_result"
    }
   ],
   "source": [
    "percentage_pop.most_common(20)"
   ]
  },
  {
   "cell_type": "code",
   "execution_count": 27,
   "metadata": {},
   "outputs": [
    {
     "data": {
      "text/plain": [
       "2.4757565407717492"
      ]
     },
     "execution_count": 27,
     "metadata": {},
     "output_type": "execute_result"
    }
   ],
   "source": [
    "percentage_all['dont']"
   ]
  },
  {
   "cell_type": "code",
   "execution_count": 31,
   "metadata": {},
   "outputs": [
    {
     "data": {
      "text/plain": [
       "0.02705740145477619"
      ]
     },
     "execution_count": 31,
     "metadata": {},
     "output_type": "execute_result"
    }
   ],
   "source": [
    "math.log(percentage_pop['dont']/percentage_all['dont'])"
   ]
  },
  {
   "cell_type": "code",
   "execution_count": 32,
   "metadata": {},
   "outputs": [
    {
     "data": {
      "text/plain": [
       "0.39185467970861904"
      ]
     },
     "execution_count": 32,
     "metadata": {},
     "output_type": "execute_result"
    }
   ],
   "source": [
    "math.log(percentage_pop['love']/percentage_all['love'])"
   ]
  }
 ],
 "metadata": {
  "kernelspec": {
   "display_name": "NovaIMS",
   "language": "python",
   "name": "python3"
  },
  "language_info": {
   "codemirror_mode": {
    "name": "ipython",
    "version": 3
   },
   "file_extension": ".py",
   "mimetype": "text/x-python",
   "name": "python",
   "nbconvert_exporter": "python",
   "pygments_lexer": "ipython3",
   "version": "3.8.15"
  }
 },
 "nbformat": 4,
 "nbformat_minor": 2
}
