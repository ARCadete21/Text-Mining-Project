{
 "cells": [
  {
   "cell_type": "code",
   "execution_count": null,
   "metadata": {},
   "outputs": [],
   "source": [
    "import pandas as pd\n",
    "from nltk import word_tokenize\n",
    "from nltk.probability import FreqDist\n",
    "\n",
    "# Assuming df is your DataFrame and 'tag' is a column in df\n",
    "# containing genre information, and 'lyrics_string_fdist' is another column\n",
    "\n",
    "# Create a dictionary to store data for each genre and an 'all' category\n",
    "genre_data = {'all': {'lyrics': '', 'tokens': []}}\n",
    "\n",
    "# Iterate through unique genres\n",
    "for genre in data.tag.unique():\n",
    "    # Create a subset of the DataFrame for the current genre\n",
    "    genre_df = data.loc[data['tag'] == genre].drop(columns=['tag'])\n",
    "    \n",
    "    # Drop NaN values in 'lyrics_string_fdist'\n",
    "    genre_df.dropna(subset=['lyrics_string_fdist'], inplace=True)\n",
    "    \n",
    "    # Join the 'lyrics_string_fdist' column and tokenize\n",
    "    genre_lyrics = ' '.join(list(genre_df['lyrics_string_fdist']))\n",
    "    genre_tokens = word_tokenize(genre_lyrics)\n",
    "    \n",
    "    # Calculate frequency distribution\n",
    "    genre_freq = FreqDist(genre_tokens)\n",
    "    \n",
    "    # Store the data in the dictionary\n",
    "    genre_data[genre] = {'lyrics': genre_lyrics, 'tokens': genre_tokens}\n",
    "    \n",
    "    # Update the 'all' category\n",
    "    genre_data['all']['lyrics'] += genre_lyrics + ' '\n",
    "    genre_data['all']['tokens'] += genre_tokens\n",
    "\n",
    "# Calculate frequency distribution for the 'all' category\n",
    "genre_data['all']['freq'] = FreqDist(genre_data['all']['tokens'])\n",
    "\n",
    "# Access the frequency distributions for each genre using genre_data\n",
    "# For example: genre_data['freq_pop'], genre_data['freq_rap'], etc.\n",
    "# Access the 'all' category: genre_data['all']['freq']\n"
   ]
  }
 ],
 "metadata": {
  "language_info": {
   "name": "python"
  }
 },
 "nbformat": 4,
 "nbformat_minor": 2
}
