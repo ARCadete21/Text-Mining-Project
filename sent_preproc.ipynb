{
 "cells": [
  {
   "cell_type": "markdown",
   "metadata": {},
   "source": [
    "### Sentiment Analysis"
   ]
  },
  {
   "cell_type": "markdown",
   "metadata": {},
   "source": [
    "#### Imports"
   ]
  },
  {
   "cell_type": "code",
   "execution_count": 1,
   "metadata": {},
   "outputs": [
    {
     "name": "stderr",
     "output_type": "stream",
     "text": [
      "[nltk_data] Downloading package vader_lexicon to\n",
      "[nltk_data]     C:\\Users\\bruna\\AppData\\Roaming\\nltk_data...\n",
      "[nltk_data]   Package vader_lexicon is already up-to-date!\n"
     ]
    }
   ],
   "source": [
    "import pandas as pd\n",
    "import numpy as np\n",
    "\n",
    "import matplotlib.pyplot as plt\n",
    "from pylab import rcParams\n",
    "rcParams['figure.figsize'] = 15, 5\n",
    "\n",
    "import re\n",
    "from nltk.tokenize import RegexpTokenizer, word_tokenize\n",
    "from nltk.corpus import stopwords\n",
    "from nltk.probability import FreqDist\n",
    "from nltk.stem import WordNetLemmatizer\n",
    "from nltk import pos_tag\n",
    "\n",
    "from sklearn.feature_extraction.text import CountVectorizer\n",
    "\n",
    "import warnings\n",
    "warnings.filterwarnings('ignore')\n",
    "\n",
    "%load_ext autoreload\n",
    "%autoreload 2\n",
    "\n",
    "from utils import *\n",
    "from path import path\n",
    "\n",
    "\n",
    "\n",
    "### sent analysis\n",
    "\n",
    "import nltk\n",
    "import statistics\n",
    "\n",
    "#Preprocessing: tokenization and lemmatization\n",
    "\n",
    "from nltk.tokenize import PunktSentenceTokenizer\n",
    "sent_tokenizer = PunktSentenceTokenizer()\n",
    "\n",
    "#Sentiment Analysis with VADER\n",
    "nltk.download('vader_lexicon')\n",
    "from nltk.sentiment.vader import SentimentIntensityAnalyzer\n",
    "\n",
    "#Sentiment Analysis with TextBlob\n",
    "# !pip install textblob\n",
    "from textblob import TextBlob\n",
    "\n",
    "#Regression Metrics\n",
    "from scipy.stats import pearsonr\n",
    "from sklearn import preprocessing\n",
    "from sklearn.metrics import mean_squared_error\n",
    "from sklearn.metrics import mean_absolute_percentage_error\n",
    "\n",
    "#Visualization\n",
    "import matplotlib.pyplot as plt\n",
    "import seaborn as sns"
   ]
  },
  {
   "cell_type": "markdown",
   "metadata": {},
   "source": [
    "#### Get the data"
   ]
  },
  {
   "cell_type": "code",
   "execution_count": 2,
   "metadata": {},
   "outputs": [],
   "source": [
    "train_data = pd.read_csv(path + 'data_updated\\\\train.csv', index_col=-1)\n",
    "test_data = pd.read_csv(path + 'data_updated\\\\test.csv', index_col=-1)"
   ]
  },
  {
   "cell_type": "markdown",
   "metadata": {},
   "source": [
    "#### Get a data copy"
   ]
  },
  {
   "cell_type": "code",
   "execution_count": 3,
   "metadata": {},
   "outputs": [],
   "source": [
    "train = train_data.copy()"
   ]
  },
  {
   "cell_type": "markdown",
   "metadata": {},
   "source": [
    "#### Dataset with just the lyrics"
   ]
  },
  {
   "cell_type": "code",
   "execution_count": 4,
   "metadata": {},
   "outputs": [
    {
     "data": {
      "text/plain": [
       "id\n",
       "535805     When you said you loved me\\nDid you mean it th...\n",
       "7519483    Kid Naruto Rap\\n[Hook]\\nEverybody wants you to...\n",
       "4892808    [Verse 1]\\nPeople tell me I've changed\\nI find...\n",
       "1584150    You've been warned about me\\nDon't try to get ...\n",
       "7639050    [Verse 1]\\nI can see the end is coming but I’v...\n",
       "                                 ...                        \n",
       "1702980    If I knew when I was young that I'd be older\\n...\n",
       "4802970    [Intro: Lil Gotit]\\nCash\\nWah-wah-wah\\nWah-wah...\n",
       "403929     [Verse 1]\\nI was born inside a home\\nThe young...\n",
       "1000723    Rollin' by the pool the falling stars are not ...\n",
       "6177674    [Verse 1: GodlyRiskTaker A]\\nYeah Epic Games, ...\n",
       "Name: lyrics, Length: 134967, dtype: object"
      ]
     },
     "execution_count": 4,
     "metadata": {},
     "output_type": "execute_result"
    }
   ],
   "source": [
    "lyrics = train['lyrics'].copy()\n",
    "lyrics"
   ]
  },
  {
   "cell_type": "markdown",
   "metadata": {},
   "source": [
    "#### Stopwords Polarity"
   ]
  },
  {
   "cell_type": "code",
   "execution_count": 156,
   "metadata": {},
   "outputs": [],
   "source": [
    "stopwords = nltk.corpus.stopwords.words('english')"
   ]
  },
  {
   "cell_type": "code",
   "execution_count": 188,
   "metadata": {},
   "outputs": [
    {
     "data": {
      "text/plain": [
       "['i',\n",
       " 'me',\n",
       " 'my',\n",
       " 'myself',\n",
       " 'we',\n",
       " 'our',\n",
       " 'ours',\n",
       " 'ourselves',\n",
       " 'you',\n",
       " \"you're\",\n",
       " \"you've\",\n",
       " \"you'll\",\n",
       " \"you'd\",\n",
       " 'your',\n",
       " 'yours',\n",
       " 'yourself',\n",
       " 'yourselves',\n",
       " 'he',\n",
       " 'him',\n",
       " 'his',\n",
       " 'himself',\n",
       " 'she',\n",
       " \"she's\",\n",
       " 'her',\n",
       " 'hers',\n",
       " 'herself',\n",
       " 'it',\n",
       " \"it's\",\n",
       " 'its',\n",
       " 'itself',\n",
       " 'they',\n",
       " 'them',\n",
       " 'their',\n",
       " 'theirs',\n",
       " 'themselves',\n",
       " 'what',\n",
       " 'which',\n",
       " 'who',\n",
       " 'whom',\n",
       " 'this',\n",
       " 'that',\n",
       " \"that'll\",\n",
       " 'these',\n",
       " 'those',\n",
       " 'am',\n",
       " 'is',\n",
       " 'are',\n",
       " 'was',\n",
       " 'were',\n",
       " 'be',\n",
       " 'been',\n",
       " 'being',\n",
       " 'have',\n",
       " 'has',\n",
       " 'had',\n",
       " 'having',\n",
       " 'do',\n",
       " 'does',\n",
       " 'did',\n",
       " 'doing',\n",
       " 'a',\n",
       " 'an',\n",
       " 'the',\n",
       " 'and',\n",
       " 'but',\n",
       " 'if',\n",
       " 'or',\n",
       " 'because',\n",
       " 'as',\n",
       " 'until',\n",
       " 'while',\n",
       " 'of',\n",
       " 'at',\n",
       " 'by',\n",
       " 'for',\n",
       " 'with',\n",
       " 'about',\n",
       " 'against',\n",
       " 'between',\n",
       " 'into',\n",
       " 'through',\n",
       " 'during',\n",
       " 'before',\n",
       " 'after',\n",
       " 'above',\n",
       " 'below',\n",
       " 'to',\n",
       " 'from',\n",
       " 'up',\n",
       " 'down',\n",
       " 'in',\n",
       " 'out',\n",
       " 'on',\n",
       " 'off',\n",
       " 'over',\n",
       " 'under',\n",
       " 'again',\n",
       " 'further',\n",
       " 'then',\n",
       " 'once',\n",
       " 'here',\n",
       " 'there',\n",
       " 'when',\n",
       " 'where',\n",
       " 'why',\n",
       " 'how',\n",
       " 'all',\n",
       " 'any',\n",
       " 'both',\n",
       " 'each',\n",
       " 'few',\n",
       " 'more',\n",
       " 'most',\n",
       " 'other',\n",
       " 'some',\n",
       " 'such',\n",
       " 'no',\n",
       " 'nor',\n",
       " 'not',\n",
       " 'only',\n",
       " 'own',\n",
       " 'same',\n",
       " 'so',\n",
       " 'than',\n",
       " 'too',\n",
       " 'very',\n",
       " 's',\n",
       " 't',\n",
       " 'can',\n",
       " 'will',\n",
       " 'just',\n",
       " 'don',\n",
       " \"don't\",\n",
       " 'should',\n",
       " \"should've\",\n",
       " 'now',\n",
       " 'd',\n",
       " 'll',\n",
       " 'm',\n",
       " 'o',\n",
       " 're',\n",
       " 've',\n",
       " 'y',\n",
       " 'ain',\n",
       " 'aren',\n",
       " \"aren't\",\n",
       " 'couldn',\n",
       " \"couldn't\",\n",
       " 'didn',\n",
       " \"didn't\",\n",
       " 'doesn',\n",
       " \"doesn't\",\n",
       " 'hadn',\n",
       " \"hadn't\",\n",
       " 'hasn',\n",
       " \"hasn't\",\n",
       " 'haven',\n",
       " \"haven't\",\n",
       " 'isn',\n",
       " \"isn't\",\n",
       " 'ma',\n",
       " 'mightn',\n",
       " \"mightn't\",\n",
       " 'mustn',\n",
       " \"mustn't\",\n",
       " 'needn',\n",
       " \"needn't\",\n",
       " 'shan',\n",
       " \"shan't\",\n",
       " 'shouldn',\n",
       " \"shouldn't\",\n",
       " 'wasn',\n",
       " \"wasn't\",\n",
       " 'weren',\n",
       " \"weren't\",\n",
       " 'won',\n",
       " \"won't\",\n",
       " 'wouldn',\n",
       " \"wouldn't\"]"
      ]
     },
     "execution_count": 188,
     "metadata": {},
     "output_type": "execute_result"
    }
   ],
   "source": [
    "stopwords"
   ]
  },
  {
   "cell_type": "code",
   "execution_count": 152,
   "metadata": {},
   "outputs": [],
   "source": [
    "vader = SentimentIntensityAnalyzer()"
   ]
  },
  {
   "cell_type": "code",
   "execution_count": 157,
   "metadata": {},
   "outputs": [],
   "source": [
    "def vader_analysis(word_set, df):\n",
    "\n",
    "    # filter lyrics\n",
    "    df['filtered_lyrics'] = df['lyrics'].apply(lambda x: filter_lyrics(x, word_set))\n",
    "\n",
    "    # polarity lyric by lyric\n",
    "    df['polarity'] = df['filtered_lyrics'].apply(lambda x: vader.polarity_scores(x))\n",
    "\n",
    "    # extract the compound\n",
    "    df[\"polarity\"] =  df[\"filtered_lyrics\"].apply(lambda x: vader_wrapper(str(x)))\n",
    "\n",
    "    # extract the label\n",
    "    df['sentiment_label'] = np.select(\n",
    "    [df['polarity'] < -0.2, df['polarity'] > 0.2],\n",
    "    ['negative', 'positive'],\n",
    "    default='neutral')\n",
    "    \n",
    "    df = df.drop(\"lyrics\", axis=1)\n",
    "\n",
    "    return df"
   ]
  },
  {
   "cell_type": "code",
   "execution_count": 158,
   "metadata": {},
   "outputs": [],
   "source": [
    "stopwords_df = vader_analysis(stopwords, train)"
   ]
  },
  {
   "cell_type": "code",
   "execution_count": 161,
   "metadata": {},
   "outputs": [
    {
     "data": {
      "text/html": [
       "<div>\n",
       "<style scoped>\n",
       "    .dataframe tbody tr th:only-of-type {\n",
       "        vertical-align: middle;\n",
       "    }\n",
       "\n",
       "    .dataframe tbody tr th {\n",
       "        vertical-align: top;\n",
       "    }\n",
       "\n",
       "    .dataframe thead th {\n",
       "        text-align: right;\n",
       "    }\n",
       "</style>\n",
       "<table border=\"1\" class=\"dataframe\">\n",
       "  <thead>\n",
       "    <tr style=\"text-align: right;\">\n",
       "      <th></th>\n",
       "      <th>title</th>\n",
       "      <th>tag</th>\n",
       "      <th>artist</th>\n",
       "      <th>year</th>\n",
       "      <th>views</th>\n",
       "      <th>features</th>\n",
       "      <th>stopwords</th>\n",
       "      <th>polarity</th>\n",
       "      <th>filtered_lyrics</th>\n",
       "      <th>sentiment_label</th>\n",
       "    </tr>\n",
       "    <tr>\n",
       "      <th>id</th>\n",
       "      <th></th>\n",
       "      <th></th>\n",
       "      <th></th>\n",
       "      <th></th>\n",
       "      <th></th>\n",
       "      <th></th>\n",
       "      <th></th>\n",
       "      <th></th>\n",
       "      <th></th>\n",
       "      <th></th>\n",
       "    </tr>\n",
       "  </thead>\n",
       "  <tbody>\n",
       "    <tr>\n",
       "      <th>535805</th>\n",
       "      <td>Walk Away</td>\n",
       "      <td>rock</td>\n",
       "      <td>Tony Molina</td>\n",
       "      <td>2013</td>\n",
       "      <td>699</td>\n",
       "      <td>{}</td>\n",
       "      <td>you you me you it then you your was it all it'...</td>\n",
       "      <td>0.0000</td>\n",
       "      <td>you you me you it then you your was it all it'...</td>\n",
       "      <td>neutral</td>\n",
       "    </tr>\n",
       "    <tr>\n",
       "      <th>7519483</th>\n",
       "      <td>Gotta Make It Kid Naruto Rap</td>\n",
       "      <td>rap</td>\n",
       "      <td>Reece Lett</td>\n",
       "      <td>2021</td>\n",
       "      <td>4</td>\n",
       "      <td>{Sl!ck}</td>\n",
       "      <td>you to you to with your the in that it you to ...</td>\n",
       "      <td>0.0772</td>\n",
       "      <td>you to you to with your the in that it you to ...</td>\n",
       "      <td>neutral</td>\n",
       "    </tr>\n",
       "    <tr>\n",
       "      <th>4892808</th>\n",
       "      <td>​this is what i asked for</td>\n",
       "      <td>pop</td>\n",
       "      <td>Elliot (DNK)</td>\n",
       "      <td>2019</td>\n",
       "      <td>389</td>\n",
       "      <td>{}</td>\n",
       "      <td>me it to the same how to it again be now it al...</td>\n",
       "      <td>0.0000</td>\n",
       "      <td>me it to the same how to it again be now it al...</td>\n",
       "      <td>neutral</td>\n",
       "    </tr>\n",
       "    <tr>\n",
       "      <th>1584150</th>\n",
       "      <td>Stealing Hearts</td>\n",
       "      <td>pop</td>\n",
       "      <td>Katie Armiger</td>\n",
       "      <td>2013</td>\n",
       "      <td>126</td>\n",
       "      <td>{}</td>\n",
       "      <td>been about me to too you to me down but you wi...</td>\n",
       "      <td>0.0000</td>\n",
       "      <td>been about me to too you to me down but you wi...</td>\n",
       "      <td>neutral</td>\n",
       "    </tr>\n",
       "    <tr>\n",
       "      <th>7639050</th>\n",
       "      <td>Get Ready</td>\n",
       "      <td>country</td>\n",
       "      <td>John Campbell Munro</td>\n",
       "      <td>1</td>\n",
       "      <td>2</td>\n",
       "      <td>{}</td>\n",
       "      <td>can the is but the a to up the the where they ...</td>\n",
       "      <td>0.0000</td>\n",
       "      <td>can the is but the a to up the the where they ...</td>\n",
       "      <td>neutral</td>\n",
       "    </tr>\n",
       "    <tr>\n",
       "      <th>...</th>\n",
       "      <td>...</td>\n",
       "      <td>...</td>\n",
       "      <td>...</td>\n",
       "      <td>...</td>\n",
       "      <td>...</td>\n",
       "      <td>...</td>\n",
       "      <td>...</td>\n",
       "      <td>...</td>\n",
       "      <td>...</td>\n",
       "      <td>...</td>\n",
       "    </tr>\n",
       "    <tr>\n",
       "      <th>1702980</th>\n",
       "      <td>Manhattan</td>\n",
       "      <td>pop</td>\n",
       "      <td>Tijuana Sweetheart</td>\n",
       "      <td>2007</td>\n",
       "      <td>48</td>\n",
       "      <td>{}</td>\n",
       "      <td>when was that be are so that you didn't have a...</td>\n",
       "      <td>0.0000</td>\n",
       "      <td>when was that be are so that you didn't have a...</td>\n",
       "      <td>neutral</td>\n",
       "    </tr>\n",
       "    <tr>\n",
       "      <th>4802970</th>\n",
       "      <td>Belly Shit</td>\n",
       "      <td>rap</td>\n",
       "      <td>Lil Gotit</td>\n",
       "      <td>2019</td>\n",
       "      <td>3593</td>\n",
       "      <td>{\"Lil Troup\"}</td>\n",
       "      <td>is in the a that that these in the a a that a ...</td>\n",
       "      <td>-0.5267</td>\n",
       "      <td>is in the a that that these in the a a that a ...</td>\n",
       "      <td>negative</td>\n",
       "    </tr>\n",
       "    <tr>\n",
       "      <th>403929</th>\n",
       "      <td>The Four Loves</td>\n",
       "      <td>rock</td>\n",
       "      <td>Heath McNease</td>\n",
       "      <td>2014</td>\n",
       "      <td>301</td>\n",
       "      <td>{}</td>\n",
       "      <td>was a of the who with that he it her to her th...</td>\n",
       "      <td>-0.2960</td>\n",
       "      <td>was a of the who with that he it her to her th...</td>\n",
       "      <td>negative</td>\n",
       "    </tr>\n",
       "    <tr>\n",
       "      <th>1000723</th>\n",
       "      <td>Ball And Chain</td>\n",
       "      <td>pop</td>\n",
       "      <td>Transmatic</td>\n",
       "      <td>2001</td>\n",
       "      <td>46</td>\n",
       "      <td>{}</td>\n",
       "      <td>by the the are not was me the with on and we t...</td>\n",
       "      <td>-0.6808</td>\n",
       "      <td>by the the are not was me the with on and we t...</td>\n",
       "      <td>negative</td>\n",
       "    </tr>\n",
       "    <tr>\n",
       "      <th>6177674</th>\n",
       "      <td>It Aint Epic Enough</td>\n",
       "      <td>rap</td>\n",
       "      <td>TheGodlyRiskTakers</td>\n",
       "      <td>2020</td>\n",
       "      <td>6</td>\n",
       "      <td>{}</td>\n",
       "      <td>no just here to the your is you are all you to...</td>\n",
       "      <td>-0.7783</td>\n",
       "      <td>no just here to the your is you are all you to...</td>\n",
       "      <td>negative</td>\n",
       "    </tr>\n",
       "  </tbody>\n",
       "</table>\n",
       "<p>134967 rows × 10 columns</p>\n",
       "</div>"
      ],
      "text/plain": [
       "                                title      tag               artist  year  \\\n",
       "id                                                                          \n",
       "535805                      Walk Away     rock          Tony Molina  2013   \n",
       "7519483  Gotta Make It Kid Naruto Rap      rap           Reece Lett  2021   \n",
       "4892808     ​this is what i asked for      pop         Elliot (DNK)  2019   \n",
       "1584150               Stealing Hearts      pop        Katie Armiger  2013   \n",
       "7639050                     Get Ready  country  John Campbell Munro     1   \n",
       "...                               ...      ...                  ...   ...   \n",
       "1702980                     Manhattan      pop   Tijuana Sweetheart  2007   \n",
       "4802970                    Belly Shit      rap            Lil Gotit  2019   \n",
       "403929                 The Four Loves     rock        Heath McNease  2014   \n",
       "1000723                Ball And Chain      pop           Transmatic  2001   \n",
       "6177674           It Aint Epic Enough      rap   TheGodlyRiskTakers  2020   \n",
       "\n",
       "         views       features  \\\n",
       "id                              \n",
       "535805     699             {}   \n",
       "7519483      4        {Sl!ck}   \n",
       "4892808    389             {}   \n",
       "1584150    126             {}   \n",
       "7639050      2             {}   \n",
       "...        ...            ...   \n",
       "1702980     48             {}   \n",
       "4802970   3593  {\"Lil Troup\"}   \n",
       "403929     301             {}   \n",
       "1000723     46             {}   \n",
       "6177674      6             {}   \n",
       "\n",
       "                                                 stopwords  polarity  \\\n",
       "id                                                                     \n",
       "535805   you you me you it then you your was it all it'...    0.0000   \n",
       "7519483  you to you to with your the in that it you to ...    0.0772   \n",
       "4892808  me it to the same how to it again be now it al...    0.0000   \n",
       "1584150  been about me to too you to me down but you wi...    0.0000   \n",
       "7639050  can the is but the a to up the the where they ...    0.0000   \n",
       "...                                                    ...       ...   \n",
       "1702980  when was that be are so that you didn't have a...    0.0000   \n",
       "4802970  is in the a that that these in the a a that a ...   -0.5267   \n",
       "403929   was a of the who with that he it her to her th...   -0.2960   \n",
       "1000723  by the the are not was me the with on and we t...   -0.6808   \n",
       "6177674  no just here to the your is you are all you to...   -0.7783   \n",
       "\n",
       "                                           filtered_lyrics sentiment_label  \n",
       "id                                                                          \n",
       "535805   you you me you it then you your was it all it'...         neutral  \n",
       "7519483  you to you to with your the in that it you to ...         neutral  \n",
       "4892808  me it to the same how to it again be now it al...         neutral  \n",
       "1584150  been about me to too you to me down but you wi...         neutral  \n",
       "7639050  can the is but the a to up the the where they ...         neutral  \n",
       "...                                                    ...             ...  \n",
       "1702980  when was that be are so that you didn't have a...         neutral  \n",
       "4802970  is in the a that that these in the a a that a ...        negative  \n",
       "403929   was a of the who with that he it her to her th...        negative  \n",
       "1000723  by the the are not was me the with on and we t...        negative  \n",
       "6177674  no just here to the your is you are all you to...        negative  \n",
       "\n",
       "[134967 rows x 10 columns]"
      ]
     },
     "execution_count": 161,
     "metadata": {},
     "output_type": "execute_result"
    }
   ],
   "source": [
    "stopwords_df"
   ]
  },
  {
   "cell_type": "code",
   "execution_count": 183,
   "metadata": {},
   "outputs": [
    {
     "data": {
      "text/plain": [
       "179"
      ]
     },
     "execution_count": 183,
     "metadata": {},
     "output_type": "execute_result"
    }
   ],
   "source": [
    "len(stopwords)"
   ]
  },
  {
   "cell_type": "code",
   "execution_count": 187,
   "metadata": {},
   "outputs": [
    {
     "data": {
      "text/plain": [
       "2000"
      ]
     },
     "execution_count": 187,
     "metadata": {},
     "output_type": "execute_result"
    }
   ],
   "source": [
    "len(most_common_words)"
   ]
  },
  {
   "cell_type": "code",
   "execution_count": 189,
   "metadata": {},
   "outputs": [
    {
     "name": "stdout",
     "output_type": "stream",
     "text": [
      "can\n",
      "not\n",
      "me\n"
     ]
    }
   ],
   "source": [
    "count = 0\n",
    "for word in most_common_words:\n",
    "    if word in stopwords:\n",
    "        count += 1\n",
    "        print(word)"
   ]
  },
  {
   "cell_type": "code",
   "execution_count": 216,
   "metadata": {},
   "outputs": [
    {
     "name": "stdout",
     "output_type": "stream",
     "text": [
      "can\n",
      "not\n",
      "me\n"
     ]
    }
   ],
   "source": [
    "count = 0\n",
    "for word in relevant_words:\n",
    "    if word in stopwords:\n",
    "        count += 1\n",
    "        print(word)"
   ]
  },
  {
   "cell_type": "code",
   "execution_count": 186,
   "metadata": {},
   "outputs": [
    {
     "data": {
      "text/plain": [
       "3"
      ]
     },
     "execution_count": 186,
     "metadata": {},
     "output_type": "execute_result"
    }
   ],
   "source": [
    "count"
   ]
  },
  {
   "cell_type": "code",
   "execution_count": 200,
   "metadata": {},
   "outputs": [],
   "source": [
    "sent_compound_list = []\n",
    "\n",
    "for word in stopwords:\n",
    "    sent_compound_list.append(vader.polarity_scores(word)[\"compound\"])\n",
    "\n",
    "polarity = np.array(sent_compound_list).mean()"
   ]
  },
  {
   "cell_type": "code",
   "execution_count": 223,
   "metadata": {},
   "outputs": [
    {
     "data": {
      "text/plain": [
       "0.0"
      ]
     },
     "execution_count": 223,
     "metadata": {},
     "output_type": "execute_result"
    }
   ],
   "source": [
    "vader.polarity_scores(\"not\")[\"compound\"]"
   ]
  },
  {
   "cell_type": "code",
   "execution_count": 202,
   "metadata": {},
   "outputs": [
    {
     "data": {
      "text/plain": [
       "[0.0,\n",
       " 0.0,\n",
       " 0.0,\n",
       " 0.0,\n",
       " 0.0,\n",
       " 0.0,\n",
       " 0.0,\n",
       " 0.0,\n",
       " 0.0,\n",
       " 0.0,\n",
       " 0.0,\n",
       " 0.0,\n",
       " 0.0,\n",
       " 0.0,\n",
       " 0.0,\n",
       " 0.0,\n",
       " 0.0,\n",
       " 0.0,\n",
       " 0.0,\n",
       " 0.0,\n",
       " 0.0,\n",
       " 0.0,\n",
       " 0.0,\n",
       " 0.0,\n",
       " 0.0,\n",
       " 0.0,\n",
       " 0.0,\n",
       " 0.0,\n",
       " 0.0,\n",
       " 0.0,\n",
       " 0.0,\n",
       " 0.0,\n",
       " 0.0,\n",
       " 0.0,\n",
       " 0.0,\n",
       " 0.0,\n",
       " 0.0,\n",
       " 0.0,\n",
       " 0.0,\n",
       " 0.0,\n",
       " 0.0,\n",
       " 0.0,\n",
       " 0.0,\n",
       " 0.0,\n",
       " 0.0,\n",
       " 0.0,\n",
       " 0.0,\n",
       " 0.0,\n",
       " 0.0,\n",
       " 0.0,\n",
       " 0.0,\n",
       " 0.0,\n",
       " 0.0,\n",
       " 0.0,\n",
       " 0.0,\n",
       " 0.0,\n",
       " 0.0,\n",
       " 0.0,\n",
       " 0.0,\n",
       " 0.0,\n",
       " 0.0,\n",
       " 0.0,\n",
       " 0.0,\n",
       " 0.0,\n",
       " 0.0,\n",
       " 0.0,\n",
       " 0.0,\n",
       " 0.0,\n",
       " 0.0,\n",
       " 0.0,\n",
       " 0.0,\n",
       " 0.0,\n",
       " 0.0,\n",
       " 0.0,\n",
       " 0.0,\n",
       " 0.0,\n",
       " 0.0,\n",
       " 0.0,\n",
       " 0.0,\n",
       " 0.0,\n",
       " 0.0,\n",
       " 0.0,\n",
       " 0.0,\n",
       " 0.0,\n",
       " 0.0,\n",
       " 0.0,\n",
       " 0.0,\n",
       " 0.0,\n",
       " 0.0,\n",
       " 0.0,\n",
       " 0.0,\n",
       " 0.0,\n",
       " 0.0,\n",
       " 0.0,\n",
       " 0.0,\n",
       " 0.0,\n",
       " 0.0,\n",
       " 0.0,\n",
       " 0.0,\n",
       " 0.0,\n",
       " 0.0,\n",
       " 0.0,\n",
       " 0.0,\n",
       " 0.0,\n",
       " 0.0,\n",
       " 0.0,\n",
       " 0.0,\n",
       " 0.0,\n",
       " 0.0,\n",
       " 0.0,\n",
       " 0.0,\n",
       " 0.0,\n",
       " 0.0,\n",
       " 0.0,\n",
       " 0.0,\n",
       " 0.0,\n",
       " -0.296,\n",
       " 0.0,\n",
       " 0.0,\n",
       " 0.0,\n",
       " 0.0,\n",
       " 0.0,\n",
       " 0.0,\n",
       " 0.0,\n",
       " 0.0,\n",
       " 0.0,\n",
       " 0.0,\n",
       " 0.0,\n",
       " 0.0,\n",
       " 0.0,\n",
       " 0.0,\n",
       " 0.0,\n",
       " 0.0,\n",
       " 0.0,\n",
       " 0.0,\n",
       " 0.0,\n",
       " 0.0,\n",
       " 0.0,\n",
       " 0.0,\n",
       " 0.0,\n",
       " 0.0,\n",
       " 0.0,\n",
       " 0.0,\n",
       " 0.0,\n",
       " 0.0,\n",
       " 0.0,\n",
       " 0.0,\n",
       " 0.0,\n",
       " 0.0,\n",
       " 0.0,\n",
       " 0.0,\n",
       " 0.0,\n",
       " 0.0,\n",
       " 0.0,\n",
       " 0.0,\n",
       " 0.0,\n",
       " 0.0,\n",
       " 0.0,\n",
       " 0.0,\n",
       " 0.0,\n",
       " 0.0,\n",
       " 0.0,\n",
       " 0.0,\n",
       " 0.0,\n",
       " 0.0,\n",
       " 0.0,\n",
       " 0.0,\n",
       " 0.0,\n",
       " 0.0,\n",
       " 0.0,\n",
       " 0.0,\n",
       " 0.0,\n",
       " 0.0,\n",
       " 0.0,\n",
       " 0.0,\n",
       " 0.5719,\n",
       " 0.0,\n",
       " 0.0,\n",
       " 0.0]"
      ]
     },
     "execution_count": 202,
     "metadata": {},
     "output_type": "execute_result"
    }
   ],
   "source": [
    "sent_compound_list"
   ]
  },
  {
   "cell_type": "code",
   "execution_count": 203,
   "metadata": {},
   "outputs": [
    {
     "data": {
      "text/plain": [
       "0.0015413407821229048"
      ]
     },
     "execution_count": 203,
     "metadata": {},
     "output_type": "execute_result"
    }
   ],
   "source": [
    "polarity"
   ]
  },
  {
   "cell_type": "code",
   "execution_count": 214,
   "metadata": {},
   "outputs": [
    {
     "name": "stdout",
     "output_type": "stream",
     "text": [
      "no\n",
      "won\n"
     ]
    }
   ],
   "source": [
    "for i in range(len(sent_compound_list)):\n",
    "    if sent_compound_list[i] > 0.2 or sent_compound_list[i] < -0.2:\n",
    "        print(stopwords[i])"
   ]
  },
  {
   "cell_type": "markdown",
   "metadata": {},
   "source": [
    "#### Text Preprocessing"
   ]
  },
  {
   "cell_type": "code",
   "execution_count": 5,
   "metadata": {},
   "outputs": [],
   "source": [
    "#### to utils\n",
    "\n",
    "def sub_remove_2(x):\n",
    "\n",
    "    '''\n",
    "    tirei a parte que tirava os emojis - [^0-9A-Za-z]\n",
    "    adicionei retirar emails e html tags\n",
    "    '''\n",
    "    \n",
    "    # Remove noise\n",
    "    x = re.sub(r\"(@[A-Za-z0-9]+)|(\\w+:\\/\\/\\S+)|^rt|http.+?\", \"\", x, flags=re.MULTILINE)\n",
    "    \n",
    "    # Replace newline and tab characters with spaces\n",
    "    x = re.sub(r'[\\t\\n]', ' ', x)\n",
    "\n",
    "    # Remove html tags\n",
    "    x = re.sub(re.compile('<.*?>'), '', x)\n",
    "\n",
    "    # Remove email addresses\n",
    "    x = re.sub(r'\\b[A-Za-z0-9._%+-]+@[A-Za-z0-9.-]+\\.[A-Z|a-z]{2,}\\b', '', x)\n",
    "\n",
    "    # Remove isolated consonants:\n",
    "    x = re.sub(r'\\b([^aeiou])\\b',' ',x)\n",
    "\n",
    "    # Remove space before punctuation\n",
    "    x = re.sub(r'(\\s)(?!\\w)','',x)\n",
    "    \n",
    "    return x"
   ]
  },
  {
   "cell_type": "code",
   "execution_count": 6,
   "metadata": {},
   "outputs": [],
   "source": [
    "def sentiment_preprocesser(data, text_column, target=None):\n",
    "\n",
    "    #### deixei os emojis\n",
    "    #### deixei as stopwords\n",
    "\n",
    "    emoji_pattern = re.compile(\"[\"\n",
    "                           u\"\\U0001F600-\\U0001F64F\"  # Emoticons\n",
    "                           u\"\\U0001F300-\\U0001F5FF\"  # Symbols & pictographs\n",
    "                           u\"\\U0001F680-\\U0001F6FF\"  # Transport & map symbols\n",
    "                           u\"\\U0001F700-\\U0001F77F\"  # Alchemical symbols                           \n",
    "                           u\"\\U0001F780-\\U0001F7FF\"  # Geometric shapes\n",
    "                           u\"\\U0001F800-\\U0001F8FF\"  # Supplemental Arrows-C\n",
    "                           u\"\\U0001F900-\\U0001F9FF\"  # Supplemental Symbols and Pictographs\n",
    "                           u\"\\U0001FA00-\\U0001FA6F\"  # Chess symbols\n",
    "                           u\"\\U0001FA70-\\U0001FAFF\"  # Symbols and Pictographs Extended-A\n",
    "                           \"]+\", flags=re.UNICODE)\n",
    "\n",
    "\n",
    "    text_data = data[text_column].copy()\n",
    "    \n",
    "    functions = [lambda x: x.lower(), \n",
    "                    expand_contractions, \n",
    "                    sub_remove_2, \n",
    "                    sub_spaces\n",
    "                ]\n",
    "\n",
    "    for function in functions:\n",
    "        text_data = text_data.apply(function)\n",
    "\n",
    "    if target is not None:\n",
    "        # tokenization\n",
    "        regexp = RegexpTokenizer(r'\\w+|' + emoji_pattern.pattern) ### adidiona emojis como tokens\n",
    "        text_data = text_data.apply(regexp.tokenize)\n",
    "           \n",
    "        words = [word for tokens in text_data for word in tokens]\n",
    "        words_unique = list(set(words))\n",
    "        words_tagged = pos_tag(words_unique)\n",
    "        words_pos_map = {word: get_wordnet_pos(pos_tag) for word, pos_tag in words_tagged}\n",
    "\n",
    "        stopwords = nltk.corpus.stopwords.words('english')\n",
    "\n",
    "        additional_functions = [lemmatize_with_mapping,\n",
    "                    lambda x: [item for item in x if item not in stopwords],\n",
    "                    lambda x: ' '.join(x)\n",
    "                       ]\n",
    "        \n",
    "        # lemmatization and stopwords\n",
    "        for additional_function in additional_functions:\n",
    "            text_data = text_data.apply(additional_function, args=(words_pos_map,) \n",
    "                                        if additional_function == lemmatize_with_mapping else ())\n",
    "\n",
    "    if target is not None:\n",
    "        text_data = pd.DataFrame(text_data, columns=[text_column])\n",
    "        text_data[target] = data[target]\n",
    "    \n",
    "    return text_data"
   ]
  },
  {
   "cell_type": "code",
   "execution_count": 7,
   "metadata": {},
   "outputs": [],
   "source": [
    "lyrics_preproc = sentiment_preprocesser(train, 'lyrics', 'tag')"
   ]
  },
  {
   "cell_type": "code",
   "execution_count": 13,
   "metadata": {},
   "outputs": [
    {
     "data": {
      "text/html": [
       "<div>\n",
       "<style scoped>\n",
       "    .dataframe tbody tr th:only-of-type {\n",
       "        vertical-align: middle;\n",
       "    }\n",
       "\n",
       "    .dataframe tbody tr th {\n",
       "        vertical-align: top;\n",
       "    }\n",
       "\n",
       "    .dataframe thead th {\n",
       "        text-align: right;\n",
       "    }\n",
       "</style>\n",
       "<table border=\"1\" class=\"dataframe\">\n",
       "  <thead>\n",
       "    <tr style=\"text-align: right;\">\n",
       "      <th></th>\n",
       "      <th>lyrics</th>\n",
       "      <th>tag</th>\n",
       "    </tr>\n",
       "    <tr>\n",
       "      <th>id</th>\n",
       "      <th></th>\n",
       "      <th></th>\n",
       "    </tr>\n",
       "  </thead>\n",
       "  <tbody>\n",
       "    <tr>\n",
       "      <th>535805</th>\n",
       "      <td>say love mean change mind one day pretend caus...</td>\n",
       "      <td>rock</td>\n",
       "    </tr>\n",
       "    <tr>\n",
       "      <th>7519483</th>\n",
       "      <td>kid naruto rap hook everybody want hurt everyb...</td>\n",
       "      <td>rap</td>\n",
       "    </tr>\n",
       "    <tr>\n",
       "      <th>4892808</th>\n",
       "      <td>verse people tell change find hard explain may...</td>\n",
       "      <td>pop</td>\n",
       "    </tr>\n",
       "    <tr>\n",
       "      <th>1584150</th>\n",
       "      <td>warn try get close know want chain leave ghost...</td>\n",
       "      <td>pop</td>\n",
       "    </tr>\n",
       "    <tr>\n",
       "      <th>7639050</th>\n",
       "      <td>verse see end come never like odds need way ev...</td>\n",
       "      <td>country</td>\n",
       "    </tr>\n",
       "    <tr>\n",
       "      <th>...</th>\n",
       "      <td>...</td>\n",
       "      <td>...</td>\n",
       "    </tr>\n",
       "    <tr>\n",
       "      <th>1702980</th>\n",
       "      <td>know young old many thing would tell chance te...</td>\n",
       "      <td>pop</td>\n",
       "    </tr>\n",
       "    <tr>\n",
       "      <th>4802970</th>\n",
       "      <td>intro lil gotit cash wah wah wah wah wah wah e...</td>\n",
       "      <td>rap</td>\n",
       "    </tr>\n",
       "    <tr>\n",
       "      <th>403929</th>\n",
       "      <td>verse bear inside home young three boy fought ...</td>\n",
       "      <td>rock</td>\n",
       "    </tr>\n",
       "    <tr>\n",
       "      <th>1000723</th>\n",
       "      <td>rollin pool fall star condescend twin nothing ...</td>\n",
       "      <td>pop</td>\n",
       "    </tr>\n",
       "    <tr>\n",
       "      <th>6177674</th>\n",
       "      <td>verse godlyrisktaker yeah epic game playin gam...</td>\n",
       "      <td>rap</td>\n",
       "    </tr>\n",
       "  </tbody>\n",
       "</table>\n",
       "<p>134967 rows × 2 columns</p>\n",
       "</div>"
      ],
      "text/plain": [
       "                                                    lyrics      tag\n",
       "id                                                                 \n",
       "535805   say love mean change mind one day pretend caus...     rock\n",
       "7519483  kid naruto rap hook everybody want hurt everyb...      rap\n",
       "4892808  verse people tell change find hard explain may...      pop\n",
       "1584150  warn try get close know want chain leave ghost...      pop\n",
       "7639050  verse see end come never like odds need way ev...  country\n",
       "...                                                    ...      ...\n",
       "1702980  know young old many thing would tell chance te...      pop\n",
       "4802970  intro lil gotit cash wah wah wah wah wah wah e...      rap\n",
       "403929   verse bear inside home young three boy fought ...     rock\n",
       "1000723  rollin pool fall star condescend twin nothing ...      pop\n",
       "6177674  verse godlyrisktaker yeah epic game playin gam...      rap\n",
       "\n",
       "[134967 rows x 2 columns]"
      ]
     },
     "execution_count": 13,
     "metadata": {},
     "output_type": "execute_result"
    }
   ],
   "source": [
    "lyrics_preproc"
   ]
  },
  {
   "cell_type": "code",
   "execution_count": 14,
   "metadata": {},
   "outputs": [],
   "source": [
    "emoji_pattern = re.compile(\"[\"\n",
    "                        u\"\\U0001F600-\\U0001F64F\"  # Emoticons\n",
    "                        u\"\\U0001F300-\\U0001F5FF\"  # Symbols & pictographs\n",
    "                        u\"\\U0001F680-\\U0001F6FF\"  # Transport & map symbols\n",
    "                        u\"\\U0001F700-\\U0001F77F\"  # Alchemical symbols                           \n",
    "                        u\"\\U0001F780-\\U0001F7FF\"  # Geometric shapes\n",
    "                        u\"\\U0001F800-\\U0001F8FF\"  # Supplemental Arrows-C\n",
    "                        u\"\\U0001F900-\\U0001F9FF\"  # Supplemental Symbols and Pictographs\n",
    "                        u\"\\U0001FA00-\\U0001FA6F\"  # Chess symbols\n",
    "                        u\"\\U0001FA70-\\U0001FAFF\"  # Symbols and Pictographs Extended-A\n",
    "                        \"]+\", flags=re.UNICODE)"
   ]
  },
  {
   "cell_type": "code",
   "execution_count": 15,
   "metadata": {},
   "outputs": [],
   "source": [
    "## verificar que não há stopwords\n",
    "# stopwords = nltk.corpus.stopwords.words('english')\n",
    "\n",
    "# for sentence in lyrics_preproc['lyrics']:\n",
    "#     for word in sentence.split():\n",
    "#         if word in stopwords:\n",
    "#             print(word)"
   ]
  },
  {
   "cell_type": "code",
   "execution_count": 7,
   "metadata": {},
   "outputs": [
    {
     "data": {
      "text/plain": [
       "id\n",
       "535805     say love mean change mind one day pretend caus...\n",
       "7519483    kid naruto rap hook everybody want hurt everyb...\n",
       "4892808    verse people tell change find hard explain may...\n",
       "1584150    warn try get close know want chain leave ghost...\n",
       "7639050    verse see end come never like odds need way ev...\n",
       "                                 ...                        \n",
       "1702980    know young old many thing would tell chance te...\n",
       "4802970    intro lil gotit cash wah wah wah wah wah wah e...\n",
       "403929     verse born inside home young three boy fought ...\n",
       "1000723    rollin pool fall star condescend twin nothing ...\n",
       "6177674    verse godlyrisktaker yeah epic game playin gam...\n",
       "Name: lyrics, Length: 134967, dtype: object"
      ]
     },
     "execution_count": 7,
     "metadata": {},
     "output_type": "execute_result"
    }
   ],
   "source": [
    "lyrics = lyrics_preproc['lyrics']\n",
    "lyrics"
   ]
  },
  {
   "cell_type": "markdown",
   "metadata": {},
   "source": [
    "### Log Ratio"
   ]
  },
  {
   "cell_type": "code",
   "execution_count": 8,
   "metadata": {},
   "outputs": [],
   "source": [
    "# Create a dictionary to store data for each genre\n",
    "genre_freqs = {}\n",
    "\n",
    "# Create a list to store all tokens from all genres\n",
    "all_tokens = []\n",
    "\n",
    "# Iterate through unique genres\n",
    "for genre in lyrics_preproc['tag'].unique():\n",
    "    # Create a subset of the DataFrame for the current genre\n",
    "    genre_df = lyrics_preproc.loc[lyrics_preproc['tag'] == genre].drop(columns=['tag'])\n",
    "    \n",
    "    # Join the 'lyrics_string_fdist' column and tokenize\n",
    "    genre_lyrics = ' '.join(list(genre_df['lyrics']))\n",
    "    genre_tokens = word_tokenize(genre_lyrics)\n",
    "    \n",
    "    # Append tokens to the list for overall frequency distribution\n",
    "    all_tokens.extend(genre_tokens)\n",
    "\n",
    "    # Calculate frequency distribution for the current genre\n",
    "    genre_freq = FreqDist(genre_tokens)\n",
    "    \n",
    "    # Store the data in the dictionary\n",
    "    genre_freqs[f'freq_{genre}'] = genre_freq\n",
    "\n",
    "# Calculate overall frequency distribution\n",
    "overall_freq = FreqDist(all_tokens)\n",
    "\n",
    "# Add the overall frequency distribution to the dictionary\n",
    "genre_freqs['freq_all'] = overall_freq\n",
    "\n",
    "# Access the frequency distributions for each genre and the overall frequency using genre_data\n",
    "# For example: genre_data['freq_pop'], genre_data['freq_rap'], genre_data['overall_freq'], etc.\n"
   ]
  },
  {
   "cell_type": "code",
   "execution_count": 9,
   "metadata": {},
   "outputs": [
    {
     "data": {
      "text/plain": [
       "{'freq_rock': FreqDist({'get': 31562, 'know': 29849, 'go': 28038, 'chorus': 26668, 'like': 22282, 'verse': 21783, 'time': 20419, 'love': 20370, 'come': 20016, 'oh': 19485, ...}),\n",
       " 'freq_rap': FreqDist({'get': 212970, 'like': 163409, 'know': 104921, 'yeah': 90108, 'go': 83541, 'fuck': 77323, 'bitch': 70287, 'make': 63582, 'shit': 62407, 'verse': 61862, ...}),\n",
       " 'freq_pop': FreqDist({'get': 93734, 'know': 91664, 'love': 87619, 'go': 78265, 'oh': 74223, 'like': 70241, 'na': 62757, 'chorus': 55937, 'say': 53283, 'come': 51731, ...}),\n",
       " 'freq_country': FreqDist({'get': 7607, 'love': 5400, 'know': 5303, 'go': 5086, 'chorus': 4809, 'verse': 4472, 'like': 4293, 'say': 3411, 'time': 3265, 'oh': 3147, ...}),\n",
       " 'freq_rb': FreqDist({'get': 19821, 'know': 19573, 'love': 19151, 'yeah': 15482, 'like': 13066, 'oh': 12839, 'baby': 12393, 'na': 12262, 'go': 11466, 'chorus': 10861, ...}),\n",
       " 'freq_misc': FreqDist({'say': 22826, 'one': 17844, 'go': 16939, 'know': 14982, 'like': 14674, 'would': 14267, 'come': 14078, 'make': 14073, 'get': 12207, 'see': 11527, ...}),\n",
       " 'freq_all': FreqDist({'get': 377901, 'like': 287965, 'know': 266292, 'go': 223335, 'love': 181724, 'say': 166279, 'yeah': 163690, 'na': 155168, 'make': 154681, 'see': 141791, ...})}"
      ]
     },
     "execution_count": 9,
     "metadata": {},
     "output_type": "execute_result"
    }
   ],
   "source": [
    "genre_freqs"
   ]
  },
  {
   "cell_type": "code",
   "execution_count": 10,
   "metadata": {},
   "outputs": [],
   "source": [
    "genre_percentages = (lyrics_preproc['tag'].value_counts() / len(lyrics_preproc))\n",
    "\n",
    "# Convert the Series to a dictionary\n",
    "genre_percentages_dict = genre_percentages.to_dict()"
   ]
  },
  {
   "cell_type": "code",
   "execution_count": 11,
   "metadata": {},
   "outputs": [
    {
     "data": {
      "text/plain": [
       "{'pop': 0.4130046603984678,\n",
       " 'rap': 0.28587728852237954,\n",
       " 'rock': 0.18769032430149593,\n",
       " 'rb': 0.04595938266391044,\n",
       " 'misc': 0.041787992620418324,\n",
       " 'country': 0.025680351493327997}"
      ]
     },
     "execution_count": 11,
     "metadata": {},
     "output_type": "execute_result"
    }
   ],
   "source": [
    "genre_percentages_dict"
   ]
  },
  {
   "cell_type": "code",
   "execution_count": 12,
   "metadata": {},
   "outputs": [
    {
     "name": "stdout",
     "output_type": "stream",
     "text": [
      "Top words for freq_rock: [('gah', 1.7756896096637274), ('blacken', 1.4740860703857697), ('oblivion', 1.409925552471363), ('pam', 1.3849501150981816), ('delusion', 1.3371937114604313), ('reborn', 1.3360854325040343), ('awaits', 1.318976375306415), ('unholy', 1.3137256412685245), ('abyss', 1.278135084170502), ('legion', 1.2676215216218523), ('forge', 1.2507147449718645), ('juda', 1.2299655091476887), ('suffocate', 1.2157173027755461), ('void', 1.2156617826911411), ('torment', 1.2142894264985475), ('rot', 1.1925833361333693), ('decay', 1.1861591194376078), ('devour', 1.1832222488601476), ('rust', 1.1795773880095402), ('guitar', 1.1661098667498073), ('emptiness', 1.1641100426234485), ('claw', 1.1408593118361965), ('chaos', 1.1407090265560074), ('unleash', 1.1395215189945365), ('agony', 1.1384179691308414), ('demise', 1.133832142752841), ('graf', 1.1204974829898395), ('solo', 1.1164185882240207), ('consume', 1.10650343978596), ('wither', 1.0704962383746885), ('salvation', 1.068601355267445), ('plague', 1.0657394389734043), ('realm', 1.0555589248542654), ('instrumental', 1.0551708974549332), ('ritual', 1.052510142004907), ('spiral', 1.0368673649344533), ('undone', 1.0318908548021712), ('sever', 1.0292145794013847), ('flesh', 1.0278990558865966), ('collapse', 1.0173790504832492), ('crawl', 1.0108297589433857), ('darken', 0.9998109100040559), ('greed', 0.9977596272334986), ('howl', 0.9936696419819735), ('vengeance', 0.9921217871712603), ('endless', 0.9914709387617041), ('crimson', 0.9905434182557071), ('awaken', 0.982499976432258), ('disease', 0.9709146389883097), ('wolves', 0.9651530433177974), ('await', 0.962850126121078), ('forsake', 0.9537037208950018), ('final', 0.9519404960228223), ('darkness', 0.9517538491079912), ('sickness', 0.9507274476949645), ('shadow', 0.9489369369211763), ('sacred', 0.9457301796928542), ('misery', 0.9449146043559176), ('eternal', 0.9431496210137343), ('ash', 0.9415366660084186), ('carve', 0.9395175346711561), ('humanity', 0.9384765450936517), ('condemn', 0.9355504905037287), ('veil', 0.9348902784138279), ('rotten', 0.9329649913551241), ('hail', 0.9318132860643419), ('madness', 0.9294040838596087), ('breakdown', 0.9271267104719728), ('liar', 0.9264354219595174), ('paralyze', 0.9262515087094639), ('sanity', 0.9244101393775911), ('altar', 0.9201785095722883), ('destroy', 0.9154368895536764), ('disagree', 0.9114315437450013), ('wrath', 0.9101791954285354), ('hatred', 0.9068943646274861), ('oceans', 0.9059066678130314), ('guilt', 0.9048472466563912), ('drain', 0.9005940999790648), ('descend', 0.893528534907983), ('burn', 0.8926644497083533), ('souls', 0.8925524432973571), ('torture', 0.8915797751922697), ('redemption', 0.889408631657564), ('fate', 0.8868701621298928), ('defy', 0.8865250045306456), ('torn', 0.8862687764396572), ('sleepless', 0.8849364418455079), ('ascend', 0.8834856133544419), ('burning', 0.8827762879846253), ('innocence', 0.8811415972301492), ('mankind', 0.8808570265278758), ('collide', 0.8804450853781413), ('horizon', 0.879026698368669), ('tide', 0.8780850728415328), ('destruction', 0.8779345573256077), ('crumble', 0.8778342262329176), ('echo', 0.8735214166553142), ('serpent', 0.8724923545365918), ('astray', 0.8715528419027662), ('revelation', 0.8705798980705729), ('rage', 0.8681909296198023), ('remorse', 0.8672101764566913), ('poison', 0.8613068150761718), ('doom', 0.8608512227608398), ('shatter', 0.8518394465427558), ('betray', 0.8495447397498869), ('prey', 0.8494499591453742), ('eternity', 0.8481464853422932), ('sink', 0.8476428244632976), ('desperate', 0.847535516707478), ('depth', 0.8467851768267917), ('digging', 0.8436089474062403), ('seam', 0.8435512256826536), ('beneath', 0.841945372897557), ('toll', 0.8415300768838944), ('ignite', 0.8389360417068478), ('embrace', 0.836686588322401), ('bury', 0.8357901910894764), ('crow', 0.8286650824192068), ('beware', 0.8280341454569186), ('death', 0.8267700973388795), ('haunt', 0.826093265345728), ('drag', 0.820995082635134), ('ancient', 0.8164707496077722), ('disaster', 0.8152220833045326), ('explode', 0.812380609802208), ('kneel', 0.8117850526408968), ('failure', 0.8093219205517528), ('blood', 0.8057396398268651), ('corpse', 0.8056500640733809), ('bleed', 0.8047739646811573), ('helpless', 0.8034003443393655), ('surrender', 0.8004802781721109), ('insanity', 0.7991171430317581), ('suffer', 0.7972692407158192), ('sorrow', 0.7964902888604313), ('curse', 0.795013511510346), ('creation', 0.7941939643574903), ('bind', 0.7937756455879945), ('abandon', 0.7926076336602015), ('grows', 0.7921875874489429), ('terror', 0.7904924379290321), ('teenage', 0.7903303623640621), ('lung', 0.7867454775479802), ('belief', 0.7863342747740896), ('pulse', 0.7861205702045776), ('grasp', 0.7857776958646632), ('reap', 0.7826489661232376), ('witch', 0.7809719179244822), ('fog', 0.7804252663667941), ('bone', 0.7797314750557008), ('beyond', 0.7784034421598671), ('obey', 0.7769788873356386), ('worthless', 0.7751908565886726), ('warmth', 0.7735726599418773), ('despair', 0.7734265748083576), ('disgrace', 0.7726304498373108), ('ignorance', 0.7716696013698425), ('escape', 0.7709630581206418), ('mist', 0.7635468393970773), ('arise', 0.7632060091812579), ('absence', 0.7630311238764242), ('unknown', 0.7621435041824569), ('path', 0.7619804169406141), ('robot', 0.7577609023300335), ('thorn', 0.7553106625662357), ('skull', 0.7498801081172526), ('machine', 0.7486476250971681), ('solution', 0.7465237146911128), ('fuel', 0.7446059071719391), ('reveal', 0.7436451797879876), ('tragedy', 0.7434139750493095), ('beaten', 0.7392947675479612), ('siren', 0.7383948124849705), ('chemical', 0.7368448978896556), ('awake', 0.7354181527976487), ('illusion', 0.7333789368706226), ('nightmare', 0.7324518972013901), ('resist', 0.7301692289355357), ('nowhere', 0.7299745901520623), ('neon', 0.7299408105526853), ('distant', 0.7291211756996411), ('fear', 0.7285906639012585), ('sacrifice', 0.7280140964304095), ('wound', 0.7246679481579089), ('burden', 0.7246254618597335), ('horror', 0.7226954588557504), ('ache', 0.7221031248867847), ('march', 0.7215804478180323), ('empty', 0.7210964049467278), ('existence', 0.7189767266278686), ('erase', 0.7177916583477595), ('pierce', 0.7124600840358097), ('faster', 0.710368152420745), ('reflection', 0.7102861915524603), ('maze', 0.7082813032485202), ('edge', 0.7076329132958896), ('useless', 0.706601849952347), ('cast', 0.7060836125575425), ('breed', 0.704396330368208), ('tangle', 0.7030800624846787), ('sail', 0.7004873527876765), ('reign', 0.7002519890247637), ('forgiveness', 0.6989815037555394), ('thе', 0.6980020461512648), ('boil', 0.6978452489941986), ('thunder', 0.696667277993851), ('roar', 0.6949808622602589), ('scream', 0.6948805888748171), ('breath', 0.692765386644168), ('refrain', 0.6925074079734997), ('rape', 0.6906077946310227), ('blind', 0.690483129352921), ('victim', 0.6899846803513834), ('blur', 0.6878670284169975), ('nail', 0.6859604501464162), ('drown', 0.6803010494322609), ('gaze', 0.6794377555529942), ('tomb', 0.6782002016765378), ('alive', 0.6781034309167152), ('silence', 0.67677042515533), ('dust', 0.6749144992501118), ('cling', 0.6742744389595968), ('whisper', 0.6739863185232622), ('vein', 0.6728797287697889), ('dead', 0.6722582117319581), ('corrupt', 0.6707991199048496), ('mourn', 0.669517889748801), ('violence', 0.6693084437327459), ('guide', 0.6692188913910644), ('drift', 0.6683430315756768), ('inside', 0.6660323292011038), ('grave', 0.6655886116089115), ('shiver', 0.6649620732129403), ('anymore', 0.6648737071083782), ('hollow', 0.6621200753444307), ('shallow', 0.6615284997153223), ('revenge', 0.660922099606294), ('empire', 0.6608860853086139), ('runaway', 0.6604680542288831), ('slaughter', 0.6594675538952995), ('hole', 0.6572512068869434), ('fade', 0.6565647942373384), ('dawn', 0.6558747938040798), ('storm', 0.6553095437466359), ('underneath', 0.6548603489867345), ('false', 0.6538583151307891), ('hunger', 0.6519590486991715), ('yearn', 0.6518183126494002), ('mortal', 0.6498128186694686), ('roam', 0.6491436705536636), ('flood', 0.6481852848754742), ('terrify', 0.6470450338967425), ('shove', 0.6450268697405054), ('behold', 0.6448856722284846), ('soil', 0.643428393426554), ('cave', 0.643388722693632), ('goodnight', 0.6432535601604803), ('steel', 0.6416917020542423), ('despise', 0.6411365972105763), ('pale', 0.6405725193911251), ('wander', 0.6400724774096738), ('within', 0.6398389758554988), ('sin', 0.6391992378703499), ('swore', 0.6384242908528355), ('sow', 0.6375662899421988), ('flame', 0.6374685334535338), ('sadness', 0.6371439629140309), ('limbs', 0.6367069696568509), ('restless', 0.6362770069271838), ('bitter', 0.6356503106572476), ('spell', 0.6354636126883367), ('satan', 0.6353578132145148), ('apart', 0.6289972967478819), ('linger', 0.6284597955934036), ('skin', 0.6262690142516377), ('fail', 0.6252412815331903), ('justify', 0.6243167828191863), ('away', 0.6240685733150089), ('anger', 0.6172419647223742), ('stare', 0.6161525696139565), ('cruel', 0.6160593112240338), ('regret', 0.6148314139130875), ('kingdom', 0.614514692976345), ('sings', 0.6137378358789738), ('disguise', 0.6123144978677671), ('cycle', 0.611318209997717), ('someday', 0.6111770150173), ('weakness', 0.6106773897258675), ('loneliness', 0.6102954916880009), ('cure', 0.6077955433509787), ('painful', 0.6067711347588025), ('blank', 0.6062230393764872), ('sand', 0.6051979239612421), ('worm', 0.6051979239612421), ('thirst', 0.6041199891797085), ('feast', 0.6020276481463847), ('selfish', 0.6019633500452367), ('rescue', 0.6019554290335649), ('dark', 0.6015841599036148), ('sea', 0.6004684843556242), ('disappear', 0.6001841140100289), ('trace', 0.6001737404853387), ('breathe', 0.5998515325269176), ('survive', 0.5998434324124483), ('hide', 0.5972102786549794), ('wall', 0.5957800966388851), ('lust', 0.5933837940922229), ('fought', 0.592769804305384), ('fire', 0.5924893888555367), ('sun', 0.5922073541655928), ('brave', 0.5921338120136985), ('bridge', 0.5920189562071163), ('plead', 0.5912052863130474), ('tunnel', 0.5903496902201971), ('ground', 0.5881036083870103), ('evil', 0.5878272465650513), ('wind', 0.5870615311464175), ('bloody', 0.5860400853404825), ('doo', 0.584853013640295), ('wolf', 0.5831332755499804), ('funeral', 0.5814387069983411), ('end', 0.5803184253944956), ('lightning', 0.5798173879343601), ('knife', 0.579357666751784), ('sword', 0.5783742754742608), ('familiar', 0.5776165274649796), ('behind', 0.5760428995251006), ('earth', 0.5760016111630453), ('farewell', 0.5751138148881109), ('telephone', 0.57411979399207), ('crave', 0.573253307278688), ('midnight', 0.5714623527307353), ('slowly', 0.5714200915514877), ('amongst', 0.5710778169355484), ('conquer', 0.5692206760475216), ('sky', 0.5691486156727962), ('frozen', 0.5686018258513988), ('die', 0.56852581242212), ('war', 0.5684365538844954), ('mountain', 0.5684293988683345), ('rise', 0.5678844560946321), ('razor', 0.5678297983432383), ('sane', 0.5675480288288356), ('everyone', 0.5671091695375873), ('thief', 0.5618872255564357), ('confusion', 0.5617856975600034), ('onto', 0.55977163673006), ('dry', 0.5594530275779527), ('gather', 0.5578139001687997), ('spine', 0.5568219879861445), ('memory', 0.556667397470718), ('waste', 0.554910932702632), ('fall', 0.5548186810007311), ('comfort', 0.5546886026621227), ('command', 0.5539901385956826), ('hopeless', 0.5531535455876809), ('upside', 0.5529205915058422), ('soak', 0.552313493415976), ('bastard', 0.5503052612828233), ('beg', 0.549989586737401), ('swell', 0.549670869871566), ('trail', 0.5489986508048371), ('swallow', 0.5487392212188061), ('filthy', 0.5459188223777046), ('constant', 0.5457745034904412), ('destiny', 0.5457331067649164), ('medicine', 0.5442966224668411), ('pre', 0.5431744614000696), ('deceive', 0.5425079023941214), ('savior', 0.5424945628356606), ('bloom', 0.5416845182389162), ('shelter', 0.5416845182389162), ('stumble', 0.5416845182389162)]\n",
      "Top words for freq_rap: [('slatt', 0.8867566966749314), ('baow', 0.8814559951740408), ('patek', 0.8728658618851187), ('opps', 0.871477545937188), ('tec', 0.870474469753043), ('opp', 0.8700784911307143), ('trappin', 0.8697259853988459), ('crip', 0.8666381077006029), ('geeked', 0.8658931433384804), ('boomin', 0.8584712431352519), ('muthafuckin', 0.857971953780047), ('skrt', 0.8578670996742095), ('hunnids', 0.8577166980331807), ('guap', 0.8557273678211519), ('choppa', 0.8553558330926712), ('glizzy', 0.8553436904063931), ('perc', 0.8544603642905805), ('youngin', 0.8534201152845198), ('illest', 0.8472520961478505), ('skeet', 0.8468950749986693), ('bruh', 0.846093192519147), ('cappin', 0.8449145962073253), ('glock', 0.8442735933720869), ('reppin', 0.8431883496447234), ('glocks', 0.8423355156606851), ('plottin', 0.8412268231281406), ('niggas', 0.8408775258310497), ('hunnid', 0.8403359255061775), ('rapper', 0.8391197181019584), ('xans', 0.8390158683931637), ('dawgs', 0.8381561721786872), ('whippin', 0.8376924969116701), ('xan', 0.8366554751449816), ('shank', 0.8351465705688431), ('fed', 0.833851464270062), ('bouta', 0.832524823904152), ('rollie', 0.8316493525764009), ('emcee', 0.8314954330144602), ('chopper', 0.830678996864921), ('nigga', 0.8298255159354987), ('boutta', 0.8286535496518208), ('finna', 0.828198110963014), ('thot', 0.8278201628480251), ('mothafuckin', 0.8260892897285984), ('bih', 0.8252650672388454), ('shoutout', 0.8247739597816809), ('hitter', 0.8239164493675518), ('phew', 0.8232511871188228), ('homie', 0.8223600288198936), ('murk', 0.8221072218160435), ('dissin', 0.8217970561333895), ('bando', 0.8214843443989394), ('lackin', 0.8208347828301437), ('swervin', 0.8208347828301437), ('stackin', 0.8189558980455806), ('fendi', 0.8187288188507359), ('vvs', 0.8187076666926861), ('pac', 0.8186578921140848), ('thots', 0.8173355102711309), ('servin', 0.8167614574425079), ('ratchet', 0.816307563848618), ('yung', 0.8155200944146455), ('cheddar', 0.81479376737155), ('bro', 0.8134724902064686), ('2pac', 0.8123297004163906), ('ion', 0.8118376508288853), ('diss', 0.8117792693794907), ('spittin', 0.8115445353759383), ('rappin', 0.8114228302194665), ('aight', 0.8089976962020418), ('hol', 0.8086277568524615), ('hoe', 0.8083581394410677), ('gang', 0.8066588862477793), ('fam', 0.805850410452837), ('grindin', 0.803614737050199), ('snitch', 0.8028497338924829), ('ak', 0.8024461092579085), ('dawg', 0.8023216229447281), ('mil', 0.8022895230866527), ('bitch', 0.8006443906351203), ('bussin', 0.8000868865345679), ('shooter', 0.7989930409150949), ('beef', 0.798867472314192), ('skrrt', 0.7984514375203667), ('dro', 0.7955836159667822), ('brr', 0.7948052343047903), ('flexin', 0.7932111014995361), ('cah', 0.793004679422717), ('kobe', 0.7924952860164918), ('wildin', 0.7917793414537132), ('hatin', 0.791052301969106), ('blunts', 0.7905464485112889), ('uzi', 0.7903937573289082), ('clout', 0.7903750515796956), ('og', 0.7888955050093528), ('rep', 0.7888936860983166), ('ching', 0.78835502063906), ('lil', 0.7870985555910273), ('boi', 0.786384450378604), ('motherfuckin', 0.7859369105712353), ('mixtape', 0.7858271713717423), ('wack', 0.78558160663984), ('motherfucking', 0.7851866449717455), ('nike', 0.7849387200570407), ('prolly', 0.7848902067688004), ('dope', 0.7842806232331659), ('sellin', 0.78403978341935), ('rari', 0.7834210387822699), ('swag', 0.7831614587670511), ('thuggin', 0.7821479641354718), ('kilo', 0.7816854294371239), ('coupe', 0.7816771362909946), ('bentley', 0.7810721576996622), ('codeine', 0.7809873762016116), ('hella', 0.7803449430544407), ('sprite', 0.7797491387469022), ('stuntin', 0.7794789001245558), ('ballin', 0.7789066540431313), ('kush', 0.7788499844994622), ('homies', 0.7781204942957525), ('yall', 0.777789998278931), ('bustin', 0.7767823716930995), ('pimpin', 0.7762884003782973), ('skrr', 0.7757001733056924), ('rap', 0.7725597838469394), ('sauce', 0.772387007749746), ('milli', 0.772277592573752), ('suckin', 0.772015254828142), ('rack', 0.7718435464560927), ('titty', 0.7702420067236727), ('ima', 0.767965793796901), ('ayy', 0.76784035827677), ('twerk', 0.7651896503111991), ('mc', 0.764878429911272), ('floss', 0.7628240438083629), ('pimp', 0.7626733664686814), ('clique', 0.7623808332925671), ('gram', 0.7614999108286193), ('baddie', 0.7614488865155229), ('smokin', 0.7602671020455278), ('porsche', 0.759467892694078), ('tote', 0.7590451705261511), ('stunt', 0.7587822747049032), ('winnin', 0.7584253323343262), ('hater', 0.7582520100795892), ('henny', 0.7579436185386411), ('strap', 0.7576219520619473), ('finesse', 0.756152696980532), ('pew', 0.7553120028223649), ('clip', 0.7542006572498954), ('nope', 0.7541123128421902), ('bros', 0.7539051737771592), ('turnt', 0.7536617480601783), ('kool', 0.75260742166277), ('squad', 0.7524204476624817), ('nuttin', 0.7522140736102343), ('biggie', 0.7513333701519547), ('gucci', 0.7511743545760786), ('trynna', 0.7496855078945202), ('dior', 0.7495002443106099), ('flex', 0.7494817094883118), ('realest', 0.7494299825856554), ('bankroll', 0.7486243444526133), ('goofy', 0.748568585998223), ('baller', 0.7484926875503097), ('draco', 0.7477422184719357), ('mic', 0.7472424742829596), ('blunt', 0.746512448870516), ('legit', 0.7454658451986051), ('gangsta', 0.7451580095909567), ('mac', 0.7450875040390028), ('slug', 0.7450851288803123), ('shit', 0.744139310677119), ('thangs', 0.7425395186808788), ('dunk', 0.7420555593749567), ('poppin', 0.7396647502117373), ('lyrical', 0.7384941191755764), ('droppin', 0.7384895911846685), ('flippin', 0.7376001953967772), ('curry', 0.7355054920234988), ('shootin', 0.7348601603886536), ('bling', 0.7347148442158908), ('southside', 0.7337213702299973), ('mane', 0.7328482716823076), ('lambo', 0.7327608476318956), ('fuckin', 0.732535509201632), ('spliff', 0.7317582554806168), ('swerve', 0.7315697225057818), ('slang', 0.7314202806227287), ('dick', 0.7310414821189737), ('plug', 0.73046933484362), ('pussy', 0.729354237077773), ('digit', 0.726817340065861), ('thug', 0.7267662842715743), ('countin', 0.7267283347390266), ('packin', 0.7266919863029142), ('boss', 0.7264556565035808), ('maybach', 0.7257029480619025), ('ap', 0.7256241599973778), ('stash', 0.7255959627860803), ('hittin', 0.7255776126470775), ('trill', 0.724493290144353), ('tech', 0.7233171147125644), ('switchin', 0.7231748795660199), ('wraith', 0.7216025868545072), ('vroom', 0.7215679841797172), ('aye', 0.7207101225210506), ('shorty', 0.7204514167107752), ('retard', 0.7195216508296843), ('bumpin', 0.7194693475227958), ('crib', 0.7180761217027687), ('stu', 0.7178744182408269), ('burner', 0.7176427295451456), ('yo', 0.7172651666308639), ('eatin', 0.717100488993957), ('hood', 0.716820946712235), ('drippin', 0.7164703244733533), ('catchin', 0.7157028647273189), ('sippin', 0.7151135895187527), ('uno', 0.7146714051206569), ('tryna', 0.7144919664966152), ('stack', 0.7143838406137825), ('dough', 0.7136880275222138), ('philly', 0.7129289378445939), ('heater', 0.7118598734481513), ('dm', 0.7117735865874295), ('nerd', 0.7112485143779388), ('faggot', 0.7105282089373016), ('cuff', 0.7100147079290103), ('benz', 0.7099918269318046), ('mop', 0.7099136437228342), ('dre', 0.7074600304956074), ('versace', 0.7074040619126238), ('motherfucker', 0.7072888479024729), ('fo', 0.7067775000409999), ('fiends', 0.7065026217640977), ('gat', 0.7058911069496241), ('gorilla', 0.7047520335405673), ('mma', 0.7045439285811975), ('spit', 0.7031148117671826), ('freestyle', 0.7023988991009563), ('comma', 0.7022101846828449), ('wetter', 0.70213413552125), ('booth', 0.7020048972348534), ('cali', 0.7012062349516536), ('ugh', 0.7004141722122287), ('stressin', 0.7001986781913537), ('actin', 0.6993347472520897), ('wrist', 0.6966061672708626), ('speakin', 0.6963633818335897), ('wit', 0.6956341567054232), ('hennessy', 0.6951290310370114), ('sloppy', 0.6948997370975558), ('wassup', 0.6947377362622742), ('hustle', 0.6941167880992782), ('syrup', 0.6940872742513787), ('bust', 0.6937152414745862), ('deuce', 0.6928466761761208), ('tho', 0.691975303566364), ('chillin', 0.6917011991738717), ('groupie', 0.69132433893218), ('molly', 0.6910646354304133), ('cash', 0.6902347071800125), ('asian', 0.6900809667300426), ('grill', 0.690056739366619), ('wavy', 0.6893738775096309), ('yup', 0.6892846261694777), ('tha', 0.6889326236627141), ('jewelry', 0.6881922148453032), ('drake', 0.6876664325040358), ('slidin', 0.687459652413924), ('killin', 0.6873117374858685), ('dummy', 0.6870443564002612), ('cop', 0.6867358845288197), ('banger', 0.6852029082766098), ('slump', 0.6849015847687786), ('hook', 0.6846061269338091), ('dogg', 0.6845476969475234), ('lame', 0.6841956414816114), ('disrespect', 0.684087542332967), ('block', 0.684039491752747), ('ouu', 0.6837001336411452), ('smoking', 0.683048221633936), ('designer', 0.6828260185384997), ('mack', 0.6819559323020423), ('grind', 0.6813078385919125), ('backpack', 0.6812706683058349), ('weed', 0.6805022952510426), ('pop', 0.6803290611384033), ('cocky', 0.6801259901602116), ('slime', 0.6798029474124921), ('dome', 0.6797708555012556), ('prada', 0.679109206316585), ('imma', 0.6790282680805086), ('uber', 0.6781649454082538), ('whatchu', 0.6765215596645238), ('puttin', 0.6763948750382789), ('cheese', 0.6760143002131717), ('polo', 0.6753847754835365), ('pushin', 0.6744452352622524), ('lam', 0.6742166390302012), ('cap', 0.6729175682096665), ('rockstar', 0.6723236873957591), ('eminem', 0.6721890785413525), ('rhyme', 0.6713368617723348), ('frontin', 0.6708976828207692), ('homicide', 0.6702404906505617), ('im', 0.6672918890989622), ('slum', 0.6655131202034638), ('stripper', 0.6646052076288594), ('whip', 0.6645666671902997), ('dis', 0.6643655262075409), ('dude', 0.6641412014459463), ('ridin', 0.66349400459462), ('lowkey', 0.6634811267423366), ('gangster', 0.662644143758627), ('uhh', 0.6617323973635576), ('cheque', 0.6616356434570433), ('ting', 0.6608071429954019), ('fuck', 0.6606430490544255), ('em', 0.6603427831425753), ('loot', 0.6601489306762326), ('shawty', 0.6601312239418075), ('zip', 0.6593031762651944), ('bruce', 0.6592961391903657), ('crew', 0.6591729017766633), ('platinum', 0.6590772050339385), ('hype', 0.6590228701271433), ('tee', 0.6578832938384928), ('wop', 0.6568623647043856), ('tint', 0.6565372495565747), ('coke', 0.6560868301930076), ('swish', 0.6557109540993437), ('whack', 0.65522793230567), ('potent', 0.6550782429108841), ('bong', 0.6545870508672501), ('jus', 0.6536391548228169), ('chanel', 0.6533746649861003), ('pic', 0.6531042084075743), ('alot', 0.6523517571470356), ('chasin', 0.6523153124488241), ('momma', 0.6520276352509357), ('tat', 0.6481192381184645), ('hoodie', 0.6478189481641067), ('naw', 0.6473370507934428), ('buck', 0.645293485239964), ('phony', 0.6448559950268011), ('jeep', 0.643530340322988), ('throwin', 0.6433822031476929), ('trench', 0.6427687484395949), ('wifey', 0.6427613207849513), ('snoop', 0.6424706260563094), ('matrix', 0.6413045746734596), ('sneaker', 0.6408970173914653), ('pistol', 0.6401049494124437), ('semi', 0.6392011775314728), ('flip', 0.638630055290367), ('bag', 0.6382939299756617), ('nut', 0.6374506678275709), ('spray', 0.6370315313258877), ('hearse', 0.6369016221418473), ('kno', 0.6365200023346176), ('youtube', 0.6356601570537825), ('gettin', 0.6355847204644864), ('pullin', 0.633791434248811), ('twitter', 0.632969974591427), ('dip', 0.6328474885005116), ('triple', 0.6314230713434619), ('slim', 0.6313957582673251), ('wayne', 0.6308922969602777), ('mob', 0.6304601270906004), ('smack', 0.6301058381883324), ('thats', 0.6296232466011056), ('dub', 0.6294900184836268), ('peep', 0.6291994775446442), ('reload', 0.6266787683891861), ('trippin', 0.6261193753514338), ('sip', 0.6258789627543965), ('haha', 0.6249575614404632), ('goon', 0.6236497861526697), ('team', 0.6198905508426469), ('talkin', 0.6191952106833899), ('microphone', 0.6188530387374012), ('gas', 0.6187079570077726), ('drill', 0.6183287007021426), ('sack', 0.617081423619338), ('lavish', 0.6169868917881612), ('exotic', 0.6161227119849921), ('cookin', 0.6147938667542846), ('askin', 0.6147379605425307), ('40', 0.614638151932202), ('chrome', 0.6145432336128599), ('spaceship', 0.6143641872973128), ('switch', 0.613484182892721), ('lifestyle', 0.613395786556383), ('po', 0.6133641514984092), ('hustler', 0.6132535592769511), ('booty', 0.612666001567294), ('neva', 0.612256225251777), ('jay', 0.6119420934516158), ('mumble', 0.6115112562744746), ('motivate', 0.611071477793009), ('steppin', 0.6103423490694927), ('skit', 0.6103423490694927), ('lotta', 0.6098216513227633), ('bean', 0.6098037010629328), ('plus', 0.6093483132023533), ('flop', 0.6088003287176774), ('doe', 0.6085271370989302), ('smoked', 0.6084002237746375), ('dutch', 0.6082611828656682), ('goat', 0.6081490221679632), ('scope', 0.6070582738683029), ('label', 0.6050887504029702), ('jordan', 0.6044444583116468), ('raw', 0.6042271329214296), ('lyric', 0.6041566463903505), ('racist', 0.603972900784013), ('splash', 0.6038417844663994), ('pourin', 0.6036800992440763), ('steak', 0.6019439793706609), ('fiend', 0.6012331587363766), ('thang', 0.6010133904079374), ('louis', 0.6008842938426964), ('froze', 0.6006072802987402), ('penis', 0.6005623200158531), ('dat', 0.6002434707048776), ('sample', 0.5979833594543628), ('granny', 0.5979198290709357), ('kanye', 0.5976734933140551), ('stoppin', 0.5975037691523063), ('nowadays', 0.5967257990783279), ('rick', 0.5962260878083756), ('woulda', 0.5960999923539496), ('fore', 0.595250618715906), ('lit', 0.5952434706780827), ('slap', 0.5938770860539768), ('100', 0.5937907129771965), ('yah', 0.5930641942765922), ('nun', 0.5927672042479852), ('yuh', 0.5926924725242633), ('drip', 0.5925756249785875), ('bullshit', 0.5918867764700584), ('ski', 0.591110987141605), ('ham', 0.5901396417519733), ('pad', 0.589261766327821), ('mo', 0.5880730762800265), ('duck', 0.5879171133988761), ('check', 0.5875909207921598), ('betta', 0.5867465284728103), ('chevy', 0.5862974748154898), ('brick', 0.5861835135927572), ('montana', 0.5861280909488981), ('menace', 0.5846227371185643), ('instagram', 0.5845159495095943), ('casket', 0.5844927676081672), ('dodge', 0.5840611737939833), ('chick', 0.583451882008841), ('yea', 0.5833052441251594), ('pow', 0.582374085820438), ('math', 0.581886124690388), ('fucker', 0.5809056767743629), ('tuck', 0.579880303904361), ('ounce', 0.5789168819453203), ('chip', 0.5785094224962819), ('juice', 0.5784489852935389), ('killa', 0.5784058679064459), ('pipe', 0.5777756800482152), ('trap', 0.5764780127736917), ('huh', 0.5745568486407036), ('brag', 0.5745164206867751), ('rim', 0.5737529016372006), ('studio', 0.5729841067330615), ('soda', 0.5714734801701197), ('clone', 0.5714044813430724), ('ricky', 0.5711216359162116), ('hit', 0.5710983306248667), ('lem', 0.5708985493325048), ('ghetto', 0.570773198338445), ('bos', 0.5703244400309162), ('butt', 0.5702811001165468), ('overseas', 0.5697613474411137), ('takin', 0.5688494387240041), ('ayo', 0.5686116766130195), ('cock', 0.5678873951843516), ('cu', 0.5677827346506968), ('slippin', 0.5676667858999147), ('lab', 0.5672072423834056), ('wallet', 0.5669576034669687), ('pro', 0.5666960637874757), ('stripe', 0.5666672855668311), ('slut', 0.566572673711895), ('champ', 0.5664291619795648), ('lane', 0.5663078081296291), ('prop', 0.5662823592754622), ('flick', 0.5658223341012668), ('selling', 0.5646243839370308), ('kickin', 0.5638840942350395), ('lettin', 0.5637868227014771), ('stress', 0.5634851903816104), ('jet', 0.5632543129705913), ('necklace', 0.5622649433051464), ('50', 0.5618343652151533), ('money', 0.5606271660601998), ('curb', 0.5605917238049363), ('bout', 0.5603421907165878), ('nah', 0.5601405306777134), ('blowin', 0.5595468366344488), ('brooklyn', 0.5592961207733782), ('fan', 0.5591561543168349), ('dab', 0.5586066746703039), ('playa', 0.5584575137004809), ('slick', 0.5564788311263966), ('atlanta', 0.5545809587225659), ('aiming', 0.5545768871193518), ('dash', 0.5537860426235497), ('pen', 0.5519289588785197), ('cuz', 0.551822682667179), ('panty', 0.5518100908919235), ('stayin', 0.5516347482427149), ('cookie', 0.5512917870775061), ('cocaine', 0.55057442769097), ('dont', 0.549924002135697), ('mike', 0.5492820923082464), ('bangin', 0.5480028620732778), ('snatch', 0.547104889153162), ('playin', 0.5465925563275943), ('couple', 0.5462976766209133), ('fin', 0.5452787557224308), ('smoke', 0.5451074144331489), ('lobby', 0.5439086600413628), ('sayin', 0.5437121484985118), ('benjamin', 0.541040883227369), ('cam', 0.5408354708891375), ('lick', 0.539722525377473), ('ninja', 0.5393447993301633), ('gym', 0.5389068111488421), ('zone', 0.5379433221899812), ('dot', 0.5371181595627789), ('shoot', 0.53695242958786), ('pole', 0.5360033500001077), ('legend', 0.5351654297268658), ('vest', 0.533846316079386), ('drama', 0.5338180300290851), ('drug', 0.5338119844097047), ('trunk', 0.5338022719471585), ('screamin', 0.5335267519013321), ('blast', 0.5330641568535249), ('tweet', 0.5319890348229777), ('ace', 0.5317231291808101), ('chill', 0.5316366676671415), ('whats', 0.5313897973962143), ('plate', 0.5311741495408888), ('ball', 0.5311157015032649), ('marijuana', 0.5309517444513436), ('bread', 0.5307236397063151), ('mission', 0.5304994615584756), ('zoom', 0.5304501871245056), ('chat', 0.5303981393029554), ('bra', 0.5302996413959563), ('basic', 0.52968259548359), ('tape', 0.5294999612253919), ('hahaha', 0.5294638703485601), ('baddest', 0.5293897232258052), ('chop', 0.5290257278937093), ('seein', 0.5289577452873778), ('gunna', 0.5288493148183099), ('dun', 0.5287490817764037), ('mentally', 0.5281379033034564), ('whoop', 0.5277711950425976), ('mmh', 0.5275738312582113), ('piss', 0.5266649258996201)]\n",
      "Top words for freq_pop: [('iâ', 1.2443262703257238), ('thoia', 1.2443262703257238), ('yahdee', 1.2443262703257238), ('tico', 1.2443262703257236), ('giggy', 1.2319804345034244), ('wiggy', 1.2281968883958403), ('namo', 1.2273767120119505), ('heya', 1.2194802717391928), ('tuk', 1.2002014654167859), ('dequarius', 1.1877073763262156), ('alleluia', 1.184734173123478), ('chee', 1.1706733607509583), ('idi', 1.1288133832038796), ('mambo', 1.1255427343357567), ('vienna', 1.0828388004346112), ('amin', 1.0384742161215752), ('jai', 1.007535805170332), ('oya', 1.0016325850887247), ('emmanuel', 0.9887061303336058), ('yahweh', 0.9292452236858283), ('sleigh', 0.9274145595590044), ('woh', 0.9166388632602437), ('wuk', 0.9125488780087186), ('bluebird', 0.9063823630930545), ('bruk', 0.905612717861497), ('jolene', 0.9033996833551305), ('christine', 0.8942909671568902), ('rosie', 0.8888715827922209), ('licky', 0.8876513263869913), ('aaah', 0.8863863040804046), ('waan', 0.8722403842913939), ('tum', 0.8606011488539651), ('ariana', 0.8602259847152562), ('hallelujah', 0.8601385606648444), ('disco', 0.8591093230475069), ('ev', 0.8558394987519774), ('woof', 0.8450917119681954), ('lovesick', 0.8449402082939416), ('incomprehensible', 0.8422338466961988), ('starlight', 0.8388611622175595), ('grande', 0.8287234939331043), ('aah', 0.8120554335233471), ('redeemer', 0.8084636850331884), ('springtime', 0.8077705751475283), ('gong', 0.7980391676973042), ('ooooo', 0.7923411465826665), ('loo', 0.779513605646958), ('heather', 0.7782365404011244), ('reggae', 0.7778666495147174), ('bawl', 0.774322641079988), ('unkind', 0.7689025736106491), ('unbreakable', 0.7671172573587179), ('ge', 0.7671172573587179), ('ooooh', 0.7597001222124462), ('bwoy', 0.7584395949069852), ('pum', 0.7578808079680595), ('evermore', 0.7571354246937301), ('mistletoe', 0.7562745712082853), ('shey', 0.7496300284896169), ('ove', 0.7496300284896167), ('candlelight', 0.7390716916091885), ('merry', 0.7389543041025369), ('oo', 0.7361852119304021), ('whoah', 0.7317165247662317), ('serenade', 0.7274583321037706), ('christmas', 0.7252316797959406), ('darlin', 0.7243068052793359), ('ry', 0.7224508103731482), ('eeh', 0.7216310710043493), ('heartbeat', 0.7214523080435588), ('lollipop', 0.720738394945882), ('snowman', 0.7199999593408306), ('meh', 0.7174145088081088), ('tun', 0.7167987969418015), ('prettiest', 0.716258840125227), ('fairytale', 0.7156828032429392), ('starry', 0.7092360245601018), ('gal', 0.7061457631103661), ('newborn', 0.7058854795267596), ('ee', 0.7057276211996374), ('la', 0.705632908224085), ('vous', 0.7036476834100521), ('jingle', 0.7026509573830104), ('marilyn', 0.6992321897249183), ('claus', 0.6987723690468778), ('romance', 0.6930635362244765), ('heartbreaker', 0.6914445145716452), ('eah', 0.690941032140937), ('tidings', 0.6860464879330432), ('ding', 0.6849945329532109), ('noel', 0.6827554475544978), ('whatcha', 0.6822504565494387), ('barbara', 0.6809907012877691), ('seh', 0.6785499265773155), ('jonas', 0.6733967224900278), ('lullaby', 0.672503456412619), ('eh', 0.671771116033217), ('ea', 0.6708020523441692), ('ly', 0.6687348785174231), ('fabulous', 0.6685427502849608), ('moonlight', 0.6664221189765536), ('wo', 0.6636279666187471), ('bla', 0.6624047248760028), ('goodbye', 0.66212270504814), ('weightless', 0.661930454058481), ('lover', 0.659224428208081), ('raindrop', 0.6576625701682286), ('ella', 0.6565396054236047), ('ricochet', 0.655382867295781), ('darling', 0.6528409600557586), ('jo', 0.6528290260270692), ('goodie', 0.6509994250479895), ('linda', 0.6485074337263405), ('rye', 0.6460131924366173), ('dum', 0.6443728666637257), ('uuh', 0.6438884878700459), ('streetlight', 0.6419079431555408), ('silhouette', 0.6412595228728261), ('sunshine', 0.6407809076750467), ('closer', 0.6404783064606984), ('alibi', 0.6357364777938415), ('jah', 0.6341663164556828), ('ann', 0.6324045296883642), ('sushi', 0.6320667489048789), ('adore', 0.630447623830934), ('overflow', 0.630278337567459), ('ba', 0.6300191514735546), ('euphoria', 0.6293798370732534), ('rollercoaster', 0.6291406312354901), ('untrue', 0.6259026359617149), ('eternally', 0.6252870619195003), ('bumper', 0.6246815517587051), ('wonderland', 0.6244182521341809), ('por', 0.6230048243370341), ('oh', 0.6211212769213942), ('fi', 0.619083568079906), ('gyal', 0.6187053269150354), ('paradise', 0.6159292735139399), ('jive', 0.6138300547274458), ('sweetly', 0.6134213986429994), ('prechorus', 0.610135256898898), ('bittersweet', 0.6073736481094204), ('cking', 0.6055134407291078), ('arse', 0.6052463110360542), ('canyon', 0.6045798664928936), ('rhythm', 0.6035642248530695), ('tonight', 0.6028371036273129), ('neath', 0.6019983381619913), ('healer', 0.5980960095535302), ('heartache', 0.5968888967276286), ('rainbows', 0.5962995250462481), ('gypsy', 0.5960744096736693), ('spooky', 0.5959149836071699), ('tenderly', 0.5945593853960038), ('fascination', 0.5928517861663465), ('dolls', 0.5921871134931556), ('trough', 0.5920010842860335), ('sunrise', 0.590895500978284), ('overload', 0.5906579007395658), ('somehow', 0.5905306159220588), ('symphony', 0.5897625558049349), ('hu', 0.5884504845630102), ('joyful', 0.5882828399691555), ('ooo', 0.5879774899200529), ('shimmer', 0.5866857782226883), ('hoo', 0.5844975935421354), ('forevermore', 0.5841853862339484), ('stormy', 0.5837022814713384), ('uptight', 0.583267404317279), ('oooh', 0.581384475826596), ('madonna', 0.5812314348321802), ('marie', 0.5805929749720717), ('sing', 0.5799035033642592), ('unconditional', 0.5775658449389733), ('twilight', 0.5772742005486304), ('reminds', 0.5767123917709434), ('dance', 0.5752563219923482), ('brightly', 0.5750465711724219), ('lingers', 0.5747889554049123), ('harmony', 0.5734674024276161), ('clumsy', 0.5729190764021843), ('lonesome', 0.5688006911155981), ('wah', 0.5653792191448933), ('rainbow', 0.5642813966629674), ('unspoken', 0.5633496253860336), ('heals', 0.5629670455178206), ('bella', 0.5622697764599367), ('tattooed', 0.5611294206189466), ('caroline', 0.5588615859377947), ('everlasting', 0.5551342696087064), ('beautiful', 0.5549547473782177), ('sailed', 0.5541420548964355), ('wey', 0.5539377122048582), ('lovin', 0.5537366359168955), ('tu', 0.5536451822609719), ('photograph', 0.5530748249306776), ('dreamer', 0.5511790897657786), ('rе', 0.5511790897657785), ('warmer', 0.5511790897657785), ('nocturnal', 0.5511790897657785), ('sunlight', 0.5502396815238426), ('wherever', 0.5450252241914003), ('endlessly', 0.5433563640845693), ('sally', 0.5433153533055639), ('softly', 0.539414248186192), ('fingertips', 0.5382756849298707), ('mu', 0.5381070081984256), ('dancer', 0.5378277565909144), ('broadway', 0.5363640039806379), ('neil', 0.5356749032298133), ('amor', 0.5356749032298131), ('whine', 0.5355781493232987), ('teardrop', 0.5354307327976393), ('sexy', 0.5348299517642491), ('belong', 0.5335469913262769), ('inna', 0.5303883200967049), ('pon', 0.5303225264912212), ('miracle', 0.5290787427651126), ('hum', 0.5278057385804696), ('oooooh', 0.5275093456798736), ('velvet', 0.5269467763780105), ('tumble', 0.5261777875603613), ('ooh', 0.5260044717682529), ('melody', 0.5256457877606138), ('forever', 0.5255400835402458), ('suitcase', 0.524861781448405), ('anywhere', 0.5244187531725473), ('tomorrow', 0.5233354327991778), ('hometown', 0.5232230124991886), ('beggin', 0.5223202613037986), ('kiss', 0.5209126091850401), ('glory', 0.5199304529771225), ('dey', 0.5193780352344465), ('fe', 0.5191960439127277), ('queue', 0.5180791413394336), ('strawberry', 0.5171493411794671), ('heart', 0.5171139321416525), ('mend', 0.5168619968416491), ('angel', 0.516615168310702), ('thrill', 0.5165221559567342), ('di', 0.5161622495285196), ('ole', 0.5157771627148625), ('fragile', 0.51495782633146), ('firefly', 0.51495782633146), ('love', 0.5148409973407772), ('someone', 0.5141314759058124), ('lonely', 0.5124124874691759), ('daydream', 0.5109542884552696), ('sweetheart', 0.5101808993151934), ('dreamt', 0.5099077580103738), ('rainy', 0.5085569147413757), ('fantasy', 0.5085151053762158), ('brighter', 0.5073207738657459), ('undo', 0.5070078714526409), ('omo', 0.5069729972612826), ('anytime', 0.5057960839179607), ('dandy', 0.5050879825655115), ('bu', 0.5034246584698785), ('nuh', 0.5033925564625371), ('sweet', 0.5032793976053208), ('santa', 0.5018686342214461), ('yesterday', 0.5005632256852682), ('te', 0.5003788746683224), ('stronger', 0.5003206725322873), ('saviour', 0.49847985776492737), ('yi', 0.4974348137590878), ('reindeer', 0.4971118684955027), ('spank', 0.49665825088736154), ('mystery', 0.49637085327078356), ('jenny', 0.49626333216966373), ('ginger', 0.4951998220238772), ('lo', 0.4947438825440945), ('willow', 0.49434561500261265), ('butterfly', 0.4942216930732693), ('underwater', 0.49387823592843777), ('choo', 0.4938277932943128), ('ahhh', 0.49368525177885525), ('ensemble', 0.4931152888110173), ('overthinking', 0.4927354938957037), ('deh', 0.49233858974284506), ('honey', 0.4917931422676007), ('balloon', 0.49175566929497777), ('alight', 0.4915869925635327), ('rum', 0.4887516911856269), ('mi', 0.4885745320076427), ('jesus', 0.48823004949171606), ('giddy', 0.4874632753796707), ('oooo', 0.48701714554849257), ('lipstick', 0.4863184555637374), ('hurricane', 0.4854838305003836), ('giver', 0.4835204412919637), ('naive', 0.4834609157108276), ('aboard', 0.48175058333401544), ('pony', 0.48165302711716823), ('babe', 0.4814894402868015), ('ohh', 0.4806136848660554), ('daylight', 0.47913642475931817), ('sugar', 0.47827231895769085), ('heartbreak', 0.4774913739746192), ('wooo', 0.4774356155202292), ('joy', 0.47668414112484353), ('badman', 0.47637787668308), ('feedback', 0.4755416755601584), ('warm', 0.47516741424094344), ('dreamed', 0.47430261165029153), ('ow', 0.4742902481892641), ('rocker', 0.47421804862964995), ('sweetness', 0.4722851472961156), ('ah', 0.47203490929671355), ('masquerade', 0.47113638209224207), ('happier', 0.4706758709167079), ('lang', 0.4704558784933376), ('lovely', 0.4702474931448254), ('wonderful', 0.4702246664843386), ('pa', 0.46985708901784456), ('belle', 0.4690595381474029), ('dam', 0.4684445904265306), ('somewhere', 0.4683291836174007), ('firework', 0.46802872143360824), ('lifetime', 0.46772922377062764), ('sunset', 0.46740116297462675), ('ohhhh', 0.46673247437698673), ('ohhhhh', 0.46634020982874896), ('hee', 0.46434353695242575), ('getaway', 0.46395072243136753), ('praise', 0.4605265340785906), ('du', 0.4601435624764234), ('sentimental', 0.4600816597410763), ('thump', 0.4600643011915562), ('dynamite', 0.45968674934111275), ('together', 0.45867919094738985), ('hooray', 0.4578471499735593), ('hey', 0.4576988166802762), ('precious', 0.45703177591069993), ('unsaid', 0.4529088683329768), ('tease', 0.4525484863241511), ('weh', 0.45158739418895455), ('downtown', 0.45138961915740744), ('hypnotize', 0.45138961915740744), ('waltz', 0.45090963660210337), ('resurrection', 0.44939639545583615), ('moon', 0.44851808646099545), ('dancin', 0.4483067565312439), ('magical', 0.44817985029363205), ('subway', 0.44783673826418924), ('lala', 0.447500660290937), ('superstar', 0.4458185741079522), ('rain', 0.44563532396701394), ('shy', 0.4446612059697742), ('berlin', 0.44354842557341306), ('belongs', 0.44337200168516105), ('melt', 0.4424056015117121), ('whoa', 0.4421936198710932), ('hello', 0.4416472219981534), ('river', 0.4413740317347452), ('rio', 0.44009726712434305), ('temptation', 0.4396948562574231), ('sha', 0.4391597588261453), ('mek', 0.43913989528864705), ('sparkle', 0.4382773595638165), ('twinkle', 0.4379548376477377), ('tic', 0.4371315832944826), ('ga', 0.4357970156469332), ('tokyo', 0.4352192086709101), ('bell', 0.435003217812009), ('hymn', 0.43187514126868826), ('glitter', 0.43161129547036786), ('bum', 0.43030659792365045), ('dah', 0.4283176264659528), ('ocean', 0.42615447335137013), ('tear', 0.42557416905485906), ('lovе', 0.42461636645734924), ('mon', 0.42334571825589373), ('rejoice', 0.42180843893700715), ('stillness', 0.4216450375738763), ('autumn', 0.4214815676519777), ('heal', 0.4208945817992944), ('dream', 0.42037413575753135), ('moonshine', 0.4203394888069673), ('alright', 0.41927180649401186), ('stranger', 0.4186146593439162), ('getcha', 0.4170290766451897), ('airplane', 0.4168310372346999), ('alone', 0.41644377362202045), ('whirl', 0.41625977186640767), ('colour', 0.41613001586648524), ('perfume', 0.41504691544119854), ('unsure', 0.41397796825229344), ('satellite', 0.4134896869925922), ('wildest', 0.41302875128496125), ('buffalo', 0.4122536175355858), ('cry', 0.41199691595174337), ('smile', 0.4118094162581044), ('afraid', 0.4115163207102445), ('scare', 0.4114171473906198), ('invincible', 0.4114171473906197), ('night', 0.4109416284523152), ('doll', 0.4106678030318388), ('roses', 0.4105466213370513), ('recall', 0.4101485141725809), ('summer', 0.40960031643417383), ('choir', 0.40797662527241874), ('singin', 0.40579078801750607), ('sidewalk', 0.4050371895493261), ('uncover', 0.40478038674283806), ('tender', 0.40385437500892013), ('headlight', 0.4036564375169335), ('hazy', 0.40343355593578045), ('devotion', 0.4019104375358286), ('tightly', 0.40188278840331837), ('intertwine', 0.40153800044449534), ('milky', 0.4001388323529126), ('bright', 0.40011152580275217), ('soothe', 0.39990404096398213), ('nighttime', 0.39931674045653237), ('boogie', 0.397339017178166), ('flicker', 0.39702840993852023), ('babylon', 0.39702840993852023), ('baby', 0.39662568651596886), ('shin', 0.3961039235928924), ('maybe', 0.395910915802566), ('sanctuary', 0.3957305512229201), ('rearrange', 0.39527709600578503), ('sweeter', 0.3941171997310618), ('vibration', 0.39327606031996964), ('bruise', 0.39238084154197317), ('fever', 0.39230919400687375), ('wash', 0.3919864519085915), ('crossroad', 0.390836439690599), ('light', 0.39066974023932105), ('tenderness', 0.3890602402893433), ('radio', 0.38892942728634444), ('revolve', 0.3882756188289255), ('dreamin', 0.38749465897056834), ('hai', 0.38745895892236953), ('je', 0.38738978110075156), ('swept', 0.38700954091111994), ('meaningless', 0.38687603847450214), ('heaven', 0.3862315009078769), ('happy', 0.38478017753984145), ('annie', 0.3837656160601096), ('rainin', 0.38372444431215724), ('along', 0.3831956657959249), ('shinin', 0.3828850793392918), ('parade', 0.3826655059381585), ('runway', 0.37986060631615476), ('touch', 0.3786900704413792), ('somebody', 0.37856328761476676), ('sometime', 0.37819354416467454), ('dong', 0.37798021496782563), ('mesmerize', 0.3777970480106325), ('fairy', 0.37775636811395386), ('unreal', 0.37740981478714114), ('dem', 0.37558807870065075), ('mighty', 0.37543341387798074), ('groove', 0.3753338582279495), ('dove', 0.37474732702788727), ('insecure', 0.37468845328261713), ('destination', 0.37388688137682585), ('desperation', 0.37366523453992706), ('heel', 0.3730490593406654), ('timе', 0.3724873010224024), ('bon', 0.372067808602072), ('believe', 0.37123280512008033), ('footstep', 0.36920052731577996), ('secret', 0.36907513715068274), ('holiday', 0.3685235874018478), ('hurt', 0.3682289512054083), ('foolin', 0.368040873065268), ('star', 0.3680024236417827), ('delightful', 0.3679521458570113), ('bonnie', 0.36765921047971506), ('comeback', 0.36732964879377056), ('restart', 0.36717544678883907), ('goodness', 0.3671466685681944), ('feather', 0.3665822191346882), ('home', 0.3661987957493939), ('ripple', 0.3652408925016354), ('ember', 0.36466967163134906), ('breathin', 0.3638335443273478), ('romantic', 0.3634374655024847), ('grace', 0.3624593485662146), ('flower', 0.36231061936025544), ('mine', 0.3622805286954664), ('emma', 0.36193709012725006), ('halfway', 0.3615816609427725), ('wе', 0.36059450769241813), ('dizzy', 0.36053282308579215), ('anew', 0.359784236766149), ('speechless', 0.3589430759146453), ('suh', 0.35849474593627734), ('world', 0.3583920701906217), ('anyway', 0.35739130150167986), ('vie', 0.357023075324821), ('bye', 0.35697937380618633), ('haffi', 0.3566771144149528), ('bе', 0.3560485746792426), ('else', 0.3559848879967608), ('ohhh', 0.3558151025586445), ('hold', 0.355707461661567), ('dusk', 0.3547631873573835), ('morning', 0.35354702061891036), ('forget', 0.3533043475873219), ('true', 0.35315526851135565), ('shine', 0.35291348049990157), ('railroad', 0.3525766473676862), ('fortress', 0.3515660358617629), ('meant', 0.35104591412602776), ('ko', 0.35080946310012107), ('easy', 0.350671181215919), ('fun', 0.3505766672040914), ('mm', 0.3505527844934027), ('eye', 0.3504502613983743), ('sarah', 0.3501264962657607), ('lucky', 0.3498260059178903), ('borderline', 0.3496261710439361), ('electric', 0.3495618726995965), ('dada', 0.3491150542426227), ('faithful', 0.34843449736426213), ('holly', 0.34790374166829396), ('breeze', 0.34764169382155125), ('asleep', 0.34760489098288117), ('tiny', 0.3475260994557662), ('taller', 0.3472669003794563), ('hears', 0.34701798936385875), ('seas', 0.3463067074499273), ('weary', 0.3461083195112634), ('chorus', 0.3459722684453943), ('ribbon', 0.3453270355616298), ('que', 0.34520334207393405), ('shake', 0.34504909535893685), ('untold', 0.34416492038145235), ('find', 0.34331909865921556), ('electricity', 0.3429611886682443), ('sang', 0.3422201734435251), ('feel', 0.3419129697934191), ('lips', 0.3417192655374907), ('lauren', 0.34145855878370956), ('blue', 0.3410815085687228), ('snow', 0.34034657238362487), ('realise', 0.34015689898391366), ('da', 0.34010811968583793), ('obscene', 0.34010811968583776), ('naughty', 0.34001928325268926), ('pretend', 0.3398924475753183), ('wi', 0.3394208606766941), ('anyone', 0.33917802231373845), ('na', 0.33909748472135987), ('incomplete', 0.33861764778210557), ('loosen', 0.3384342456724675), ('treasure', 0.33767595423374286), ('california', 0.33763780701854856), ('jolly', 0.3373503097261162), ('chimney', 0.33722798663573295), ('dee', 0.33722044802864126), ('arm', 0.33711358896643046), ('gi', 0.33692448586881485), ('peanut', 0.33692448586881485), ('caress', 0.3369101428850437), ('fearless', 0.33676921842032326), ('mercy', 0.3362104551351576), ('today', 0.3354275318057956), ('search', 0.33452420608887473), ('magic', 0.3344680198097348), ('cigarettes', 0.3344162761582966), ('mercury', 0.3343713569006546), ('worthy', 0.3327143305031592), ('wasteland', 0.3322999372380263), ('wing', 0.33062509535830253), ('footprint', 0.33014302079113345), ('ch', 0.329924113139437), ('unwind', 0.3294158009205272), ('dear', 0.3289100465965013), ('everything', 0.3287973271682292), ('attraction', 0.3280355384515687), ('ale', 0.3280355384515687), ('limbo', 0.3280355384515685), ('chance', 0.32755442225272846), ('troubled', 0.3266079864603833), ('whеn', 0.32638401041309567), ('saturday', 0.3261253181954494), ('frankie', 0.3260572984394629), ('daisy', 0.3249633394145984), ('wait', 0.32355951115020043), ('laughter', 0.3231850843178194), ('aa', 0.3224175461473454), ('silver', 0.32231503759679586), ('mile', 0.3220348318416631), ('strung', 0.32143485442021674), ('clearer', 0.3214223825598513), ('awhile', 0.31950063600173134), ('wastin', 0.3185567944970249), ('doorway', 0.318426679344932), ('fallin', 0.317959886462827), ('eve', 0.31731476870646697), ('afar', 0.31731476870646697), ('mornin', 0.3166357949868414), ('winter', 0.3164859771034174), ('everywhere', 0.315656541182764), ('sunny', 0.3156395686528034), ('ivy', 0.31527328683771755), ('pane', 0.3147903117015481), ('sailor', 0.31467974727001313), ('mmm', 0.31426595772781163), ('beauty', 0.3130298978336985), ('silently', 0.31294529272797883), ('close', 0.31240051297694604), ('worry', 0.31234677801492905), ('blah', 0.3121838810339808), ('waterfall', 0.3110379620829975), ('su', 0.30923527395142153), ('romeo', 0.3090390377609137), ('taunt', 0.3089873434808742), ('cherry', 0.30864027869383004), ('something', 0.3078239816156842), ('scenery', 0.3074162512488331), ('betty', 0.30735533321403), ('fighter', 0.3068333308009657), ('wonder', 0.30670365434354474), ('trouble', 0.3065957637433364), ('bam', 0.30636394581019677), ('control', 0.30607822534108625), ('wild', 0.3058021075643497), ('worship', 0.30578492951674896), ('flown', 0.3056085026641243), ('sunday', 0.3055470516157738), ('gravity', 0.3044521883154829), ('stereo', 0.30431901183425275), ('everytime', 0.30412760595750776), ('cigarette', 0.3034136247194401), ('coo', 0.3021118534417772), ('hear', 0.3021071096303985), ('blonde', 0.3013124683108152), ('brighten', 0.29986466148487245), ('let', 0.29935569086693736), ('sad', 0.2989606774367428), ('overcome', 0.29889894436491354), ('wish', 0.29870631547327287), ('shore', 0.29854592200851365), ('beside', 0.29854409344878774), ('compromise', 0.29728401489138084), ('worn', 0.2971136281129826), ('awesome', 0.29688037067177325), ('crowded', 0.2963984535083862), ('makeup', 0.2962868401369883), ('share', 0.2961779510633263), ('wrong', 0.2960506624357891), ('unfold', 0.29572729521891106), ('valley', 0.2957178963251606), ('tight', 0.2956865355607768), ('highway', 0.29567591567823265), ('marvin', 0.29555894977366043), ('long', 0.29505674362433154), ('usa', 0.294324481109257), ('ra', 0.2941886330777124), ('free', 0.2938158117480144), ('song', 0.29309850847241226), ('thread', 0.29264441351138537), ('cowboy', 0.2926336114006527), ('gently', 0.29260510147206836), ('post', 0.29239197744747975), ('jamaica', 0.29202510092853573), ('deny', 0.29190377115406013), ('holy', 0.2917838094309338), ('obsession', 0.2916678942806939), ('voice', 0.2913052568764877), ('laura', 0.29022725491162993), ('desert', 0.2901562071224888), ('co', 0.29011630358927515), ('enough', 0.28998331680726513), ('emergency', 0.28965129544325335), ('coffee', 0.28938904294254647), ('unlock', 0.28881482529828745), ('cloud', 0.28869307081605017), ('soar', 0.2876673782418105), ('rewrite', 0.2872927549892187), ('kissin', 0.28679257991751955), ('color', 0.28673309399484564), ('promise', 0.2859986059084547), ('fine', 0.2859609377734124), ('golden', 0.28589041033475365), ('forgive', 0.2854759240327728), ('ecstasy', 0.2848903660058742), ('strong', 0.2846902938813048), ('mе', 0.28409783542014844), ('nothing', 0.28331784298599766), ('wire', 0.2825939654231848), ('traveled', 0.28125947365383785), ('drunken', 0.28125947365383785), ('please', 0.28108281654887585), ('wine', 0.2804222177620059), ('pretty', 0.27987908786481486), ('youre', 0.27952066678215465), ('foggy', 0.27823271596775045), ('sometimes', 0.2773175729326298), ('unaware', 0.2758975305124525), ('realize', 0.27566296168196563), ('place', 0.27481295908853426), ('glorious', 0.27479657256793083), ('little', 0.27438461935517067), ('desire', 0.2743828249592486), ('forbidden', 0.2740234303009851), ('believer', 0.27396831718129305), ('fool', 0.2735308887388967), ('lose', 0.27311824918365735), ('remember', 0.2723129130365114), ('save', 0.2720438760942117), ('happiness', 0.2717119985345245), ('complicate', 0.27138519016300383), ('chime', 0.27104422294938046), ('blanket', 0.2709790666067134), ('irish', 0.2708771246116202), ('ever', 0.27068650139813555), ('johnny', 0.27046568663009096), ('stand', 0.26999502680599485), ('yer', 0.2697666303275929), ('deeper', 0.2696167261589056), ('tin', 0.2694958355432509), ('danger', 0.2694749008559852), ('lift', 0.2693279376247907), ('way', 0.2686989178853425), ('maria', 0.26723533942460465), ('lie', 0.2668688105696309), ('gentle', 0.26679191321085), ('le', 0.26653192100915146), ('guilty', 0.2664776454521353), ('ou', 0.26634196944622884), ('foolish', 0.26630364278811697), ('afternoon', 0.2658751397189649), ('searchin', 0.2658145154543601), ('thing', 0.26558623195163167), ('cha', 0.2650967616961206), ('could', 0.2648853581976855), ('ina', 0.26473540756514413), ('repeat', 0.2643839353322254), ('africa', 0.26436244359042643), ('shame', 0.2641062162362802), ('dive', 0.26349701731399755), ('turn', 0.2632908165621069), ('celebrate', 0.26302274649647606), ('blame', 0.2627890526826574), ('trembling', 0.2623664349437114), ('misty', 0.26228416088878814), ('potter', 0.26228416088878814), ('heavens', 0.2615058347474197), ('ling', 0.2613983806570764), ('moment', 0.26135032597083435), ('redeem', 0.26109605577645945), ('lisa', 0.26042292943357565), ('bride', 0.2602005697798184), ('invitation', 0.258626087079401), ('badly', 0.2585094758029584), ('wake', 0.25841718055582674), ('hush', 0.25787623875326304), ('sincere', 0.2578312797783203), ('satisfy', 0.2574965377357784), ('hmmm', 0.2570838024792843), ('without', 0.2568074480383117), ('late', 0.25665456759492633), ('louder', 0.2557803883528531), ('far', 0.25570016742038437), ('atmosphere', 0.25562296088309167), ('sway', 0.2555499556214656), ('vulnerable', 0.2554648456167334), ('violet', 0.25508653880540105), ('courage', 0.2544653452836498), ('strange', 0.25434450079305504), ('across', 0.25432528897254514), ('carry', 0.25411921672804977), ('day', 0.25397323873513467), ('walk', 0.2538689899948734), ('chord', 0.25360294366879893), ('se', 0.2525679467818071), ('want', 0.25180147498021543), ('seem', 0.25147111811150147), ('funky', 0.2508335044235642), ('remind', 0.2508254002908616), ('finally', 0.2493012395779176), ('anything', 0.24891265301059962), ('aisle', 0.248898217892845), ('awe', 0.24816570656720865), ('heave', 0.24759843124619918), ('boyfriend', 0.24713849497211673), ('lucy', 0.24696771536278694), ('tread', 0.24622893968191747), ('travel', 0.2451915020017526), ('fight', 0.24457873043351203), ('careless', 0.24450670108735043), ('fill', 0.24394903635016452), ('ke', 0.24359155696718474), ('skyline', 0.24305520814882065), ('faith', 0.24305069560507714), ('aha', 0.24287773011126182), ('desperately', 0.24267568950041193), ('needle', 0.24181436300443984), ('eclipse', 0.2417878117472362), ('illuminate', 0.24133867632535888), ('come', 0.2410544462061946), ('uptown', 0.2410241614619388), ('time', 0.2407037830670594), ('kind', 0.2404689025048004), ('hollywood', 0.24034928375790313), ('strength', 0.24012366612868863), ('can', 0.23916203450616605), ('not', 0.23916203450616605), ('shiny', 0.23870444970330193), ('smilin', 0.23808730178862925), ('weekend', 0.23768431971587767), ('bathe', 0.23732729958061288), ('prayer', 0.23725890123582608), ('sting', 0.23625941153029978), ('miss', 0.23611826405980788), ('bleach', 0.23557031077947518), ('blinding', 0.23500067248437942), ('tickle', 0.23437961874327023), ('candle', 0.23419746254918816), ('criticize', 0.23368275460357113), ('trance', 0.2332333596741706), ('adrenaline', 0.23199835025462665), ('around', 0.23145279878710973), ('care', 0.23139139192665523), ('reach', 0.23101708285782874), ('tire', 0.23077223302636185), ('nana', 0.22848626794147708), ('affection', 0.22831250520034413), ('seventeen', 0.22823500534561764)]\n",
      "Top words for freq_country: [('nerve', 3.2576931726887848), ('country', 1.8320437968316117), ('daddy', 1.3858894039361969), ('town', 1.3765940367115088), ('train', 1.35347922875414), ('road', 1.259607714245991), ('old', 1.1748170100107382), ('drink', 0.9414573641591419), ('mama', 0.920759088557051), ('lord', 0.9136854750630183), ('woman', 0.8506496718423127), ('boys', 0.7494596894020936), ('lay', 0.7337790060263497), ('tree', 0.7145634735978884), ('drive', 0.6897355471272516), ('red', 0.6576312713906362), ('good', 0.5994022095845182), ('verse', 0.5973982096942249), ('sure', 0.569374959715998), ('til', 0.5669722386064452), ('well', 0.5262567257032723), ('hell', 0.5234821868767737), ('crazy', 0.5139557908556064), ('line', 0.49543854848111984), ('roll', 0.48683651497191105), ('water', 0.47745493651370824), ('meet', 0.4755437247891745), ('bear', 0.4658527482114624), ('saw', 0.46446929134684584), ('door', 0.44859348828448237), ('outro', 0.44245368802096896), ('every', 0.4356220432661772), ('guess', 0.43212829541740594), ('would', 0.41861030587122355), ('big', 0.4159226689721287), ('cold', 0.4098813736019233), ('sit', 0.35501151890271765), ('leave', 0.353665401981577), ('may', 0.34427917265394176), ('hand', 0.33853962527547404), ('since', 0.3334683701173606), ('grow', 0.33141265624373367), ('year', 0.33109266253820563), ('gon', 0.32783270035077783), ('white', 0.30760401403126647), ('hard', 0.30530833669650526), ('another', 0.3001980427234125), ('friend', 0.2822223612785906), ('foot', 0.27744859119554477), ('yes', 0.27019931729924845), ('one', 0.2697049759357122)]\n",
      "Top words for freq_rb: [('girl', 1.0695872049865465), ('ex', 1.0024140893105593), ('feeling', 0.9053483108174496), ('vibe', 0.8778840950160147), ('lately', 0.8527232073472996), ('sex', 0.7896921971645193), ('yeah', 0.7718718894188699), ('thinkin', 0.7353056656017565), ('somethin', 0.7263031257690263), ('wan', 0.6908999996571211), ('me', 0.6838179321702333), ('treat', 0.6709958506041825), ('woo', 0.6584592967895884), ('deserve', 0.6563946964090873), ('nobody', 0.6094514050786108), ('need', 0.6057581695112183), ('gim', 0.5948165979518053), ('woah', 0.5623189392133404), ('phone', 0.5521015307289391), ('lady', 0.5364945328194769), ('feelin', 0.5301878451587964), ('slow', 0.5296429750968229), ('know', 0.5197146945031293), ('body', 0.5179791457371619), ('cool', 0.49805034540284004), ('doin', 0.46250051428675465), ('intro', 0.45596109640392535), ('nothin', 0.4393977413503036), ('got', 0.43693653077633726), ('sorry', 0.4330267022623533), ('right', 0.42624194826499345), ('ta', 0.4256268006638644), ('tell', 0.41595912773252797), ('ride', 0.40053363914971823), ('worth', 0.39168384241349663), ('mind', 0.3769830809875815), ('queen', 0.3728775310240175), ('whatever', 0.3724576023510656), ('ya', 0.36338369858423114), ('trust', 0.35974096283739776), ('ready', 0.35672099445603456), ('low', 0.3472621137723489), ('real', 0.34236287777561847), ('type', 0.34010598198899483), ('show', 0.33303774394511326), ('bless', 0.3322384984868811), ('perfect', 0.324266392135326), ('give', 0.31988509375261653), ('say', 0.3027907113296457), ('stay', 0.30047007869738507), ('goin', 0.2994740549607085), ('club', 0.2941767917215959), ('side', 0.27871978100520134), ('ha', 0.27275206848447864), ('bad', 0.27084705212041277), ('really', 0.27008964051418377), ('x2', 0.26718329513200834), ('everyday', 0.2534368322924512), ('thank', 0.24833426177635606), ('party', 0.24592025326035927), ('think', 0.23983674068710262), ('swear', 0.23831710065575407), ('keep', 0.2281906599253298), ('play', 0.2277146479037848), ('much', 0.22490765650368602), ('spend', 0.2211591414861929), ('make', 0.212675130821501), ('pick', 0.20627386962534472), ('trip', 0.2000708889048969), ('round', 0.19802163732741324), ('cause', 0.19708231800001721), ('help', 0.19536124242987324), ('okay', 0.19205037362805247), ('uh', 0.1904567961681689), ('win', 0.18959569496537096), ('call', 0.1890593173370178), ('minute', 0.18699404328955527), ('get', 0.182267275068134), ('damn', 0.18045647122793265), ('u', 0.1800112112752403), ('always', 0.1781769016637168), ('nice', 0.17621624370180508), ('best', 0.17514285608029442), ('put', 0.17024120795666078), ('game', 0.16502610701490758), ('take', 0.16501231893638155), ('bed', 0.16382380447248973), ('go', 0.16090572694249658), ('boy', 0.1583332904558108), ('act', 0.15504753624837614), ('taste', 0.14819802789509529), ('music', 0.14500472972361297)]\n",
      "Top words for freq_misc: [('2018', 1.9933148030853227), ('thus', 1.9486575131935435), ('therefore', 1.942673356188546), ('however', 1.8557231489673787), ('jerry', 1.8274766734806818), ('thou', 1.817578276773821), ('subject', 1.8109304861366624), ('general', 1.789195906910522), ('object', 1.7890769886105453), ('perhaps', 1.7667278471371897), ('manner', 1.7478760460776008), ('thy', 1.7249532205676965), ('indeed', 1.7244512332057091), ('also', 1.7189650233320237), ('sir', 1.7157449519936698), ('value', 1.6879440394321497), ('interest', 1.6564537576481357), ('unto', 1.6523492742739263), ('george', 1.6350476712971376), ('thee', 1.6153219746864482), ('possible', 1.5855335316594454), ('condition', 1.575571807795832), ('service', 1.5738905134759784), ('among', 1.5700516420940605), ('whose', 1.5681436959011568), ('shall', 1.5583345512992406), ('mr', 1.5329315759310116), ('large', 1.5320864765708075), ('appear', 1.5277215111480937), ('government', 1.5115537672929122), ('unite', 1.5096405296412536), ('gentleman', 1.5040613424634819), ('effect', 1.5023422314814574), ('consider', 1.4977388405837107), ('receive', 1.4830608776402885), ('idea', 1.4809680226417843), ('reply', 1.4808432643607916), ('sort', 1.4787051573198868), ('continue', 1.4522436543350263), ('present', 1.4437821379911708), ('whether', 1.4323380454922725), ('captain', 1.4181026551919145), ('court', 1.4151585072341577), ('upon', 1.4138333211460932), ('nature', 1.4019585624777597), ('public', 1.3856405695422616), ('enter', 1.3796620917401448), ('order', 1.3709944197804134), ('certain', 1.3587733237862887), ('form', 1.3426680551215318), ('state', 1.297014974388796), ('law', 1.295345191031494), ('able', 1.2906211550746214), ('towards', 1.2865330933784893), ('american', 1.2754131576416918), ('company', 1.272735596891445), ('allow', 1.25515635758835), ('course', 1.2516138822072667), ('men', 1.2466493495732134), ('common', 1.2354279878784122), ('often', 1.2211421478454487), ('return', 1.172910783514262), ('person', 1.1697394112551767), ('others', 1.1268341740024312), ('father', 1.1207550759658744), ('ye', 1.1205218152446481), ('offer', 1.1188756540097775), ('add', 1.110289480492131), ('quite', 1.0982551375510283), ('great', 1.0899389551719956), ('poor', 1.0867480309135578), ('art', 1.0830246722115429), ('horse', 1.0530605979335368), ('daughter', 1.0354209109060688), ('case', 1.01459661293955), ('doctor', 1.0090367457402138), ('table', 0.9974278418661454), ('yet', 0.9910636589716253), ('wife', 0.9797474948544456), ('either', 0.9785560411942004), ('note', 0.9635307884308951), ('remain', 0.9255087922851216), ('letter', 0.9132083543110681), ('almost', 0.8972310435825726)]\n"
     ]
    }
   ],
   "source": [
    "top_words = log_ratio(genre_freqs, genre_percentages, total_words=2000)\n",
    "\n",
    "# Print top words for each genre\n",
    "for genre, words in top_words.items():\n",
    "    print(f'Top words for {genre}: {words}')"
   ]
  },
  {
   "cell_type": "code",
   "execution_count": 149,
   "metadata": {},
   "outputs": [
    {
     "data": {
      "text/plain": [
       "id\n",
       "535805     say love mean change mind one day pretend caus...\n",
       "7519483    kid naruto rap hook everybody want hurt everyb...\n",
       "4892808    verse people tell change find hard explain may...\n",
       "1584150    warn try get close know want chain leave ghost...\n",
       "7639050    verse see end come never like odds need way ev...\n",
       "                                 ...                        \n",
       "1702980    know young old many thing would tell chance te...\n",
       "4802970    intro lil gotit cash wah wah wah wah wah wah e...\n",
       "403929     verse bear inside home young three boys fought...\n",
       "1000723    rollin pool fall star condescend twin nothing ...\n",
       "6177674    verse godlyrisktaker yeah epic game playin gam...\n",
       "Name: lyrics, Length: 134967, dtype: object"
      ]
     },
     "execution_count": 149,
     "metadata": {},
     "output_type": "execute_result"
    }
   ],
   "source": [
    "lyrics_preproc[\"lyrics\"]"
   ]
  },
  {
   "cell_type": "code",
   "execution_count": 226,
   "metadata": {},
   "outputs": [],
   "source": [
    "relevant_words = [word for sublist in top_words.values() for word, _ in sublist]\n",
    "most_common_words = [pair[0] for pair in overall_freq.most_common(2000)]\n",
    "\n",
    "# common_words_not_chosen = [word for word in most_common_words if word not in relevant_words]\n",
    "# words_to_use = relevant_words + common_words_not_chosen"
   ]
  },
  {
   "cell_type": "code",
   "execution_count": 1,
   "metadata": {},
   "outputs": [
    {
     "ename": "NameError",
     "evalue": "name 'most_common_words' is not defined",
     "output_type": "error",
     "traceback": [
      "\u001b[1;31m---------------------------------------------------------------------------\u001b[0m",
      "\u001b[1;31mNameError\u001b[0m                                 Traceback (most recent call last)",
      "Cell \u001b[1;32mIn[1], line 2\u001b[0m\n\u001b[0;32m      1\u001b[0m count \u001b[38;5;241m=\u001b[39m \u001b[38;5;241m0\u001b[39m\n\u001b[1;32m----> 2\u001b[0m \u001b[38;5;28;01mfor\u001b[39;00m word \u001b[38;5;129;01min\u001b[39;00m \u001b[43mmost_common_words\u001b[49m:\n\u001b[0;32m      3\u001b[0m     \u001b[38;5;28;01mif\u001b[39;00m word \u001b[38;5;129;01min\u001b[39;00m stopwords:\n\u001b[0;32m      4\u001b[0m         count \u001b[38;5;241m+\u001b[39m\u001b[38;5;241m=\u001b[39m \u001b[38;5;241m1\u001b[39m\n",
      "\u001b[1;31mNameError\u001b[0m: name 'most_common_words' is not defined"
     ]
    }
   ],
   "source": [
    "count = 0\n",
    "for word in most_common_words:\n",
    "    if word in stopwords:\n",
    "        count += 1\n",
    "        print(word)"
   ]
  },
  {
   "cell_type": "code",
   "execution_count": 146,
   "metadata": {},
   "outputs": [
    {
     "name": "stdout",
     "output_type": "stream",
     "text": [
      "['get', 'like', 'know', 'go', 'love', 'say', 'yeah', 'na', 'make', 'see', 'come', 'oh', 'chorus', 'time', 'verse', 'one', 'take', 'want', 'feel', 'never', 'let', 'back', 'think', 'can', 'not', 'fuck', 'tell', 'way', 'wan', 'need', 'u', 'give', 'life', 'baby', 'look', 'well', 'bitch', 'day', 'gon', 'man', 'could', 'shit', 'keep', 'right', 'leave', 'would', 'girl', 'thing', 'away', 'try', 'still', 'night', 'heart', 'cause', 'nigga', 'call', 'find', 'live', 'run', 'mind', 'good', 'eye', 'break', 'world', 'every', 'even', 'niggas', 'put', 'lose', 'always', 'really', 'ta', 'around', 'talk', 'got', 'head', 'stay', 'hand', 'money', 'fall', 'little', 'nothing', 'light', 'hold', 'play', 'ever', 'god', 'new', 'em', 'long', 'face', 'stop', 'show', 'dream', 'wait', 'ya', 'die', 'hook', 'home', 'people', 'turn', 'end', 'much', 'bad', 'high', 'everything', 'hit', 'real', 'something', 'start', 'walk', 'lie', 'ooh', 'change', 'friend', 'move', 'hard', 'work', 'place', 'big', 'use', 'watch', 'alone', 'another', 'two', 'hear', 'word', 'boy', 'believe', 'hey', 'last', 'uh', 'old', 'stand', 'bring', 'name', 'might', 'yo', 'inside', 'mean', 'la', 'cry', 'kill', 'care', 'body', 'bout', 'without', 'bridge', 'please', 'side', 'tryna', 'pull', 'game', 'pre', 'first', 'beat', 'year', 'song', 'pain', 'ask', 'free', 'soul', 'black', 'far', 'best', 'hope', 'dance', 'fire', 'ah', 'tonight', 'fight', 'wrong', 'catch', 'wish', 'mine', 'im', 'young', 'fly', 'star', 'win', 'hate', 'outro', 'enough', 'sleep', 'close', 'many', 'intro', 'maybe', 'roll', 'seem', 'dead', 'line', 'sky', 'sing', 'must', 'miss', 'sun', 'help', 'open', 'cold', 'forget', 'though', 'remember', 'ride', 'drop', 'speak', 'true', 'whole', 'street', 'rock', 'damn', 'door', 'round', 'pay', 'sound', 'great', 'yes', 'till', 'everybody', 'nobody', 'sit', 'listen', 'blue', 'lord', 'stick', 'dark', 'meet', 'crazy', 'house', 'da', 'blow', 'write', 'may', 'kid', 'top', 'blood', 'forever', 'hurt', 'deep', 'lot', 'set', 'someone', 'tear', 'together', 'wake', 'lil', 'matter', 'hell', 'next', 'smile', 'hoe', 'rap', 'city', 'touch', 'throw', 'guess', 'white', 'fear', 'rise', 'save', 'lay', 'rain', 'step', 'kiss', 'truth', 'heard', 'ready', 'woman', 'king', 'understand', 'foot', 'cut', 'water', 'burn', 'part', 'room', 'fine', 'act', 'death', 'since', 'reason', 'behind', 'sure', 'hot', 'yea', 'full', 'low', 'music', 'saw', 'check', 'drink', 'flow', 'else', 'alright', 'follow', 'grow', 'sweet', 'til', 'fuckin', 'wonder', 'cuz', 'pop', 'hop', 'past', 'child', 'shot', 'different', 'learn', 'road', 'hide', 'anything', 'trust', 'drive', 'sometimes', 'smoke', 'today', 'begin', 'morning', 'bear', 'upon', 'okay', 'send', 'town', 'eat', 'happen', 'red', 'late', 'huh', 'three', 'pray', 'party', 'yet', 'alive', 'aye', 'ground', 'become', 'slow', 'moment', 'waste', 'bag', 'mr', 'wall', 'gun', 'car', 'phone', 'easy', 'straight', 'shake', 'arm', 'rest', 'voice', 'fast', 'shine', 'kind', 'woah', 'happy', 'ayy', 'chance', 'power', 'fill', 'war', 'fade', 'scar', 'promise', 'control', 'bed', 'air', 'reach', 'dick', 'breathe', 'soon', 'brother', 'spend', 'mad', 'pick', 'guy', 'yuh', 'cool', 'men', 'swear', 'son', 'mother', 'fool', 'sorry', 'plan', 'felt', 'shoot', 'lonely', 'lead', 'land', 'somebody', 'already', 'pretty', 'pussy', 'wit', 'everyone', 'heaven', 'laugh', 'tire', 'brain', 'fake', 'sick', 'story', 'strong', 'scream', 'wind', 'shall', 'peace', 'floor', 'nah', 'gang', 'earth', 'along', 'lady', 'gold', 'father', 'block', 'count', 'tree', 'point', 'mouth', 'post', 'push', 'problem', 'sign', 'carry', 'memory', 'ha', 'trap', 'wave', 'fact', 'state', 'ay', 'pas', 'mama', 'hang', 'wear', 'ring', 'beautiful', 'half', 'ball', 'fun', 'dont', 'answer', 'boys', 'second', 'choose', 'e', 'school', 'dog', 'skin', 'number', 'piece', 'gettin', 'moon', 'bit', 'diamond', 'rich', 'nice', 'family', 'imma', 'ice', 'drug', 'chase', 'goin', 'sad', 'front', 'track', 'thought', 'hour', 'future', 'cash', 'four', 'worth', 'bar', 'turned', 'kick', 'x2', 'sea', 'whoa', 'minute', 'hair', 'jump', 'blind', 'goodbye', 'apart', 'perfect', 'angel', 'cross', 'jesus', 'clear', 'picture', 'breath', 'space', 'anymore', 'chain', 'question', 'lock', 'summer', 'green', 'feeling', 'outside', 'band', 'hundred', 'build', 'afraid', 'taste', 'less', 'mess', 'couple', 'bang', 'rather', 'fell', 'spit', 'talkin', 'whatever', 'devil', 'deal', 'paper', 'burning', 'whip', 'raise', 'bone', 'pack', 'neck', 'rapper', 'sight', 'read', 'blame', 'doubt', 'cloud', 'five', 'wild', 'suck', 'knock', 'bet', 'knee', 'sell', 'thousand', 'worry', 'shawty', 'tomorrow', 'bright', 'babe', 'hat', 'feelin', 'empty', 'ho', 'lookin', 'human', 'trip', 'loud', 'feed', 'lover', 'buy', 'rule', 'self', 'case', 'shadow', 'rhyme', 'thank', 'flame', 'mi', 'within', 'nothin', 'cover', 'everyday', 'probably', 'type', 'sin', 'meant', 'search', 'finally', 'team', 'fit', 'bleed', 'switch', 'week', 'small', 'mistake', 'safe', 'spirit', 'treat', 'stone', 'tight', 'demon', 'key', 'dirty', 'drown', 'million', 'faith', 'clean', 'near', 'cop', 'dear', 'me', 'shut', 'single', 'pocket', 'sense', 'repeat', 'darkness', 'share', 'none', 'lips', 'shout', 'dope', 'ten', 'trouble', 'heat', 'figure', 'rid', 'club', 'secret', 'book', 'crack', 'river', 'finger', 'race', 'vision', 'honey', 'country', 'draw', 'suppose', 'pour', 'business', 'shoe', 'ghost', 'bro', 'dem', 'dress', 'enemy', 'dollar', 'scene', 'comin', 'force', 'drip', 'grind', 'double', 'silence', 'quick', 'pretend', 'daddy', 'chill', 'person', 'bird', 'across', 'return', 'escape', 'almost', 'six', 'style', 'longer', 'view', 'holy', 'queen', 'also', 'record', 'weed', 'mile', 'bless', 'stupid', 'hole', 'cup', 'evil', 'lean', 'ima', 'least', 'smoking', 'stack', 'spin', 'glass', 'bottle', 'law', 'slip', 'window', 'train', 'age', 'middle', 'funny', 'remain', 'paint', 'heavy', 'hood', 'vibe', 'spot', 'steal', 'woo', 'lift', 'tie', 'hater', 'motherfucker', 'murder', 'wrist', 'doin', 'kinda', 'focus', 'form', 'realize', 'closer', 'christmas', 'mirror', 'grab', 'wing', 'ba', 'hip', 'bust', 'ahead', 'storm', 'somewhere', 'wife', 'quite', 'fail', 'bill', 'runnin', 'respect', 'outta', 'chest', 'poor', 'anyone', 'homie', 'thats', 'fix', 'livin', 'lit', 'mountain', 'beyond', 'flip', 'boom', 'instead', 'sip', 'strange', 'color', 'battle', 'weak', 'welcome', 'fresh', 'order', 'smell', 'shame', 'joy', 'job', 'others', 'desire', 'slide', 'ocean', 'master', 'snow', 'dey', 'everywhere', 'co', 'later', 'corner', 'insane', 'rack', 'refrain', 'ill', 'clothes', 'dumb', 'brand', 'stress', 'belong', 'path', 'ok', 'gas', 'nowhere', 'lately', 'sex', 'test', 'regret', 'hello', 'course', 'action', 'pass', 'pill', 'wide', 'wine', 'de', 'weight', 'dude', 'cat', 'price', 'fan', 'held', 'warm', 'thou', 'class', 'freedom', '10', 'dry', 'hill', 'yah', 'glory', 'seek', 'short', 'west', 'wash', 'fat', 'magic', 'praise', 'bottom', 'bullet', 'flower', 'slowly', 'tongue', 'drunk', 'mom', 'crash', 'fate', 'bank', 'shin', 'sister', 'forgive', 'bury', 'beg', 'prove', 'finna', 'pride', 'loose', 'letter', 'crew', 'grave', 'leg', 'wet', 'quit', 'idea', 'flex', 'mma', 'fame', 'notice', 'gim', 'table', 'fair', 'food', 'shoulder', 'di', 'doo', 'clock', 'finish', 'seat', 'either', 'circle', 'rush', 'struggle', 'eh', 'spread', 'lane', 'simple', 'box', 'survive', 'awake', 'movie', 'bow', 'sink', 'darling', 'system', 'bought', 'dust', 'field', 'sir', 'proud', 'freak', 'claim', 'stuff', 'nature', 'art', 'twenty', 'serve', 'bite', 'level', 'grace', 'crown', 'speed', 'park', 'whisper', 'deserve', 'thy', 'twist', 'attention', 'attack', 'month', 'winter', 'suffer', 'climb', 'luck', 'lick', 'heal', 'nine', 'float', 'reality', 'south', 'explain', 'seven', 'joke', 'present', 'tryin', 'ago', 'chick', 'somethin', 'thinkin', 'page', 'stranger', 'judge', 'create', 'stage', 'beauty', 'season', 'news', 'crime', 'anyway', 'steady', 'thee', 'bore', 'dawn', 'pressure', 'rip', 'surprise', 'makin', 'energy', 'message', 'mic', 'bread', 'zone', 'jack', 'twice', 'sayin', 'instrumental', 'dad', 'flesh', 'curse', 'choice', 'golden', 'disappear', 'crowd', 'brown', 'toe', 'load', 'wood', 'cap', 'knife', 'special', 'tough', 'history', 'mark', 'wheel', 'deny', 'note', 'ye', 'horse', 'ohh', 'bye', 'bell', 'anybody', 'bound', 'glad', 'bos', 'dirt', 'bomb', 'momma', 'soft', 'decide', 'pound', 'strength', 'super', 'building', 'expect', 'swing', 'teeth', 'emotion', 'bounce', 'killer', 'edge', 'teach', 'brick', 'daughter', 'sand', 'handle', 'among', 'ship', 'doctor', 'dare', 'quiet', 'harder', 'passion', 'gift', 'distance', 'lovin', 'weather', 'animal', 'wrap', 'date', 'appear', 'playin', 'swim', 'john', 'early', 'solo', 'cost', 'radio', 'dat', 'grown', 'often', 'trick', 'flight', 'whether', 'bend', 'foreign', 'card', 'smokin', 'glow', 'honest', 'fi', 'certain', 'press', 'destroy', 'stare', 'silent', 'lyric', 'imagine', 'store', 'gate', 'piss', 'hero', 'somehow', 'souls', 'enter', 'forward', 'mmm', 'snake', 'lack', 'add', 'nation', 'jean', 'sorrow', 'purpose', 'whose', 'shade', 'clip', 'sweat', 'lesson', 'machine', 'police', 'pen', 'join', 'soldier', 'beneath', 'clap', 'beef', 'oooh', 'tune', 'travel', 'flash', 'busy', 'settle', 'swallow', 'rollin', 'amaze', 'calm', 'fish', 'glock', 'prayer', 'text', 'mercy', 'fault', 'exist', '2x', 'ash', 'yesterday', 'mix', 'bus', 'tv', 'offer', 'mission', 'company', 'ignore', 'gucci', 'church', 'wound', 'lucky', 'crawl', 'sunshine', 'tip', 'slave', 'haunt', 'able', 'whenever', 'beast', 'poppin', 'nose', 'strap', 'vein', 'cake', 'limit', 'aim', 'throat', 'sippin', 'strike', 'favorite', 'pleasure', 'cook', 'final', 'unless', 'boat', 'towards', 'plus', 'match', 'tall', 'mo', 'guide', 'christ', 'someday', 'difference', 'blessing', 'interlude', 'homies', 'movin', 'blast', 'dj', 'guitar', 'folk', 'buck', 'continue', 'york', 'crush', 'taught', 'hustle', 'ex', 'asleep', 'grip', 'release', 'beside', 'mask', 'surround', 'noise', 'east', 'drag', 'admit', 'pure', 'large', 'shirt', 'dig', 'kitchen', 'drift', 'rob', 'bullshit', 'silver', 'plug', 'gain', 'government', 'chop', 'nerve', 'seed', 'passing', 'cast', 'confuse', 'mm', 'ahh', 'mood', 'truck', 'youth', 'grey', 'numb', 'poison', 'american', 'takin', 'oo', 'mon', 'wow', 'ridin', 'shape', 'warn', 'happiness', 'court', 'common', 'split', '20', 'drum', 'coast', 'motion', 'crib', 'list', 'thus', 'wise', 'spark', 'thug', 'issue', 'spring', 'stronger', 'nightmare', 'embrace', 'hungry', 'hella', 'main', 'remind', 'monster', '30', 'barely', 'forth', 'blunt', 'dis', 'creep', 'allow', 'rhythm', 'roof', 'ear', 'enjoy', 'paradise', 'sail', 'witness', 'receive', 'choke', 'midnight', 'anywhere', 'melt', 'addict', 'march', 'deeper', 'loss', 'plane', 'fold', 'prepare', 'charge', 'ooo', 'rat', 'planet', 'missed', 'shorty', 'rage', 'thе', 'victim', 'island', 'goal', 'mention', 'public', 'ruin', 'excuse', 'due', 'faster', 'weekend', 'spell', 'weapon', 'garden', 'lovely', 'ears', 'base', 'third', 'lame', 'ease', 'however', 'blade', 'throne', 'nut', 'thunder', 'juice', 'suit', 'hall', 'direction', 'eight', 'beach', 'famous', 'gather', 'captain', 'rough', 'accept', 'situation', 'knowledge', 'thick', 'america', 'protect', 'conversation', 'stain', 'ugly', 'suddenly', 'dough', 'string', 'sunday', 'trippin', 'north', 'jam', 'sort', 'satisfy', 'shore', '40', 'society', 'screen', 'sacrifice', 'mary', 'decision', 'yellow', 'bass', 'prince', 'callin', 'hurry', 'dangerous', 'player', 'smash', 'truly', '50', 'actually', 'michael', 'mighty', 'lung', 'except', 'motherfucking', 'unite', 'lo', 'hi', 'endless', 'sauce', 'dime', 'trash', 'underneath', '12', 'grass', 'mystery', 'breeze', 'consider', 'pant', 'fantasy', 'onto', 'jay', 'perhaps', 'clown', 'cock', 'patience', 'rockin', 'dip', 'reply', 'purple', 'danger', 'thanks', 'plain', 'pump', 'sugar', 'gyal', 'ray', 'dawg', 'cell', 'sexy', 'value', 'names', 'bitter', 'score', 'exactly', 'bother', 'raw', 'dinner', 'divine', 'parent', 'pace', 'damage', 'swag', 'hollow', 'x4', 'beer', 'booty', 'thru', 'squad', 'risk', 'important', 'fallin', 'tide', 'boo', '100', 'produce', 'cheese', 'refuse', 'echo', 'prison', 'daily', 'boot', 'camera', 'guard', 'beam', 'trynna', 'fist', 'destiny', 'journey', 'strip', 'complete', 'ballin', 'owe', 'thin', 'general', 'support', 'pistol', 'tone', 'worried', 'savage', 'effect', 'fam', 'misery', 'george', 'desert', 'erase', 'snap', 'album', 'indeed', 'sheet', 'click', 'drama', 'lotta', 'gentleman', 'ceiling', 'wicked', 'blaze', 'relax', 'comfort', 'violence', 'liquor', 'duck', 'melody', 'naked', 'metal', 'coat', 'lion', 'natural', 'presence', 'cheat', 'yall', 'image', 'bump', 'mental', 'position', 'opinion', 'hunt', 'mass', 'colour', 'wipe', '2018', 'extra', 'plant', 'steel', 'tick', 'shell', 'subject', 'unknown', 'hmm', 'serious', 'grand', 'cage', 'habit', 'spill', 'mc', 'lem', 'lust', 'compare', 'stream', 'cheap', 'root', 'tag', 'provide', 'waitin', 'although', 'account', 'disguise', 'hoo', 'possible', 'stretch', 'universe', 'connect', 'teacher', 'windows', 'defeat', 'anger', 'freeze', 'selling', 'degree', 'shop', 'experience', 'chair', 'gay', 'bloody', 'tape', 'punch', 'girlfriend', 'stole', 'row', 'wander', 'president', 'frozen', 'wherever', 'walkin', 'saint', 'code', 'torn', 'recognize', 'tea', 'dive', 'mac', 'interest', 'bum', 'plate', 'army', 'brave', 'reign', 'ting', 'plenty', 'haha', 'cream', 'service', 'unto', 'jail', 'jet', 'hardly', 'fifty', 'coke', 'thang', 'dash', 'design', 'bop', 'trigger', 'liar', 'benz', 'flood', 'moonlight', 'social', 'hidden', 'shooter', 'condition', 'highway', 'coffee', 'married', 'tho', 'goddamn', 'actin', 'study', 'slap', 'kingdom', 'simply', 'grant', 'arrive', 'success', 'religion', 'group', 'hearing', 'sittin', 'fashion', 'trade', 'shed', 'therefore', 'mike', 'justice', 'ancient', 'tool', 'smooth', 'underground', 'rope', 'iron', 'motherfuckin', 'pool', 'pot', 'nail', 'inna', 'jerry', 'map', 'candle', 'smart', 'candy', 'x3', 'groove', 'nuh', 'tale', 'complain', 'workin', 'gangsta', 'ghetto', 'thirty', 'artist', 'aside', 'leader', 'wire', 'rent', 'spray', 'hallelujah', 'everytime', 'lake', 'eternal', 'meat', 'creature', 'scratch', 'proof', 'doom', 'frame', 'skip', 'link', 'cheek', 'wreck', 'suicide', 'separate', 'label', 'birth', 'demand', 'shock', 'yard', '11', 'wonderful', 'peep', 'mud', 'thrill', 'reflection', 'worship', 'neither', 'angry', 'shy', 'innocent', 'trace', 'sober', 'distant', 'gaze', 'dot', 'pink', 'quarter', 'screw', 'london', 'bare', 'model', 'drank', 'tellin', 'fortune', 'visit', 'false', 'cruel', 'coz', 'approach', 'afford', 'chicken', 'manner', 'er', 'surrender', 'health', 'skill', 'earn', 'size', 'tha', 'private', 'tap', 'valley', 'board', 'sigh', 'hatin', 'bunch', 'measure', 'represent', 'rag', 'yell', 'joe', 'whore', 'flag', 'ache', 'fruit', 'chillin', 'vain', 'ego', 'sample', 'johnny', 'booth', 'movement', 'deliver', 'coupe', 'shift', 'major', 'honestly', 'palm', 'friday', 'honor', 'uncle', 'seal', 'member', 'surface', 'stab', 'pole', 'madness', 'nasty', 'wisdom', 'bae', 'sword', 'jungle', 'replace', 'flat', 'laughter', 'givin', 'precious', 'gut', 'bay', 'station', 'object', 'square', 'birthday', 'santa', 'james', 'surely', 'chip', 'clue', 'toy', 'commit', 'whats', 'silly', 'divide', 'patient', 'avoid', 'practice', 'impossible', 'pair', 'pause', 'language', 'cousin', 'profit', 'jealous', 'existence', 'roses', 'generation', 'pimp', 'adore', 'plot', 'video', 'forest', 'lazy', 'reveal', 'killin', 'intention', 'college', 'ey', 'snitch', 'project', 'revolution', 'victory', 'role', 'molly', 'option', 'burst', 'toss', 'office', 'miracle', 'equal', 'butterfly', 'credit', 'cute', 'violent', 'california', 'hammer', 'tower', 'quickly', 'bubble', 'stomach', 'rate', 'shatter', 'basic', 'cu', 'advance', 'discover', 'pa', 'gram', 'sum', 'balance', 'careful', 'consume', 'tour', 'void', 'zero', 'easily', 'ohhh', 'lap', 'fever', 'feature', 'lightning', 'depend', 'chris', 'gray', 'cruise', 'fry', 'studio', 'increase', 'dr', 'process', 'celebrate', 'bee', 'pon', 'inner', 'broad', 'bruh', 'sake', 'term', 'abuse', 'buzz', 'pale', 'pipe', 'nervous', 'cure', 'worthy', 'sinner', 'louis', 'forty', 'express', 'designer', 'uhh', 'squeeze', 'capital', 'agree', 'command', 'range', 'fo', 'guarantee', 'romance', 'grows', 'advice', 'target', 'non', 'bloom', 'lower', '15', 'jim', 'funk', 'character', '24', 'waist', 'hung', 'st', 'shower', 'sentence', 'wack', 'plastic', 'glance', 'curtain', 'attitude', 'amount', 'burden', 'ticket', 'hug', 'legend', 'stock', 'excite', 'treasure', 'drain', 'merry', 'speaker', 'guilty', 'skrrt', 'ought', 'collect', 'rocket', 'heartbeat', 'smack', 'opps', 'shelter', 'satan', 'trial', 'sock', 'result', 'torture', 'spending', 'sack', 'reading', 'trunk', 'weep', 'rude', 'christian', 'sheep', 'resist', 'dread', 'pity', 'le', 'beep', 'shook', 'require', 'neighbor', 'fore', 'include', 'dice', 'fucker', 'saturday', 'several', 'crook', 'mixed', 'apple', 'personal', 'winner', 'hype', 'sucker', 'sharp', 'threat', 'knight', 'effort', 'breed', '16', 'culture', 'bruise', 'hotel', 'illusion', 'whine', 'preach', 'aware', 'weird', 'disease', 'monkey', 'rainbow', 'clearly', 'yung', 'rewind', 'puff', 'willing', 'destruction', 'humble', '000', 'harm', 'ate', 'marry', 'foe', 'wolf', 'lifetime', 'reflect', 'describe', 'confess', 'science', 'student', 'content', 'van', 'gat', 'david', 'ur', 'pit', 'average', 'cheer', 'eternity', 'english', 'bedroom', 'toward', 'cocaine', 'thrown', 'lace', 'recall', 'fancy', 'um', 'rot', 'horn', 'product', 'toast', 'copy', 'traffic', 'mar', 'individual', 'necessary', 'source', 'paul', 'temple', 'especially', 'sleeve', 'funky', 'solid', 'pro', 'pig', 'husband', 'speech', 'heel', 'bean', 'information', 'savior', 'arise', 'prolly', 'pose', 'cave', 'grade', 'pie', 'explode', 'weigh', 'trail', 'hatred', 'completely', 'dome', 'chief', 'solve', 'castle', 'constant', 'colder', 'deck', 'sadness', 'hunger', 'ol', 'phase', 'nearly', 'crave', 'inch', 'relate', 'clout', 'penny', 'deceive', 'fence', 'swerve', 'chopper', 'milk', 'tuck', 'contain', 'delight', 'creation', 'punk', 'favor', 'sunset', 'ashamed', 'stumble', 'tom']\n",
      "['gah', 'blacken', 'oblivion', 'pam', 'delusion', 'reborn', 'awaits', 'unholy', 'abyss', 'legion', 'forge', 'juda', 'suffocate', 'void', 'torment', 'rot', 'decay', 'devour', 'rust', 'guitar', 'emptiness', 'claw', 'chaos', 'unleash', 'agony', 'demise', 'graf', 'solo', 'consume', 'wither', 'salvation', 'plague', 'realm', 'instrumental', 'ritual', 'spiral', 'undone', 'sever', 'flesh', 'collapse', 'crawl', 'darken', 'greed', 'howl', 'vengeance', 'endless', 'crimson', 'awaken', 'disease', 'wolves', 'await', 'forsake', 'final', 'darkness', 'sickness', 'shadow', 'sacred', 'misery', 'eternal', 'ash', 'carve', 'humanity', 'condemn', 'veil', 'rotten', 'hail', 'madness', 'breakdown', 'liar', 'paralyze', 'sanity', 'altar', 'destroy', 'disagree', 'wrath', 'hatred', 'oceans', 'guilt', 'drain', 'descend', 'burn', 'souls', 'torture', 'redemption', 'fate', 'defy', 'torn', 'sleepless', 'ascend', 'burning', 'innocence', 'mankind', 'collide', 'horizon', 'tide', 'destruction', 'crumble', 'echo', 'serpent', 'astray', 'revelation', 'rage', 'remorse', 'poison', 'doom', 'shatter', 'betray', 'prey', 'eternity', 'sink', 'desperate', 'depth', 'digging', 'seam', 'beneath', 'toll', 'ignite', 'embrace', 'bury', 'crow', 'beware', 'death', 'haunt', 'drag', 'ancient', 'disaster', 'explode', 'kneel', 'failure', 'blood', 'corpse', 'bleed', 'helpless', 'surrender', 'insanity', 'suffer', 'sorrow', 'curse', 'creation', 'bind', 'abandon', 'grows', 'terror', 'teenage', 'lung', 'belief', 'pulse', 'grasp', 'reap', 'witch', 'fog', 'bone', 'beyond', 'obey', 'worthless', 'warmth', 'despair', 'disgrace', 'ignorance', 'escape', 'mist', 'arise', 'absence', 'unknown', 'path', 'robot', 'thorn', 'skull', 'machine', 'solution', 'fuel', 'reveal', 'tragedy', 'beaten', 'siren', 'chemical', 'awake', 'illusion', 'nightmare', 'resist', 'nowhere', 'neon', 'distant', 'fear', 'sacrifice', 'wound', 'burden', 'horror', 'ache', 'march', 'empty', 'existence', 'erase', 'pierce', 'faster', 'reflection', 'maze', 'edge', 'useless', 'cast', 'breed', 'tangle', 'sail', 'reign', 'forgiveness', 'thе', 'boil', 'thunder', 'roar', 'scream', 'breath', 'refrain', 'rape', 'blind', 'victim', 'blur', 'nail', 'drown', 'gaze', 'tomb', 'alive', 'silence', 'dust', 'cling', 'whisper', 'vein', 'dead', 'corrupt', 'mourn', 'violence', 'guide', 'drift', 'inside', 'grave', 'shiver', 'anymore', 'hollow', 'shallow', 'revenge', 'empire', 'runaway', 'slaughter', 'hole', 'fade', 'dawn', 'storm', 'underneath', 'false', 'hunger', 'yearn', 'mortal', 'roam', 'flood', 'terrify', 'shove', 'behold', 'soil', 'cave', 'goodnight', 'steel', 'despise', 'pale', 'wander', 'within', 'sin', 'swore', 'sow', 'flame', 'sadness', 'limbs', 'restless', 'bitter', 'spell', 'satan', 'apart', 'linger', 'skin', 'fail', 'justify', 'away', 'anger', 'stare', 'cruel', 'regret', 'kingdom', 'sings', 'disguise', 'cycle', 'someday', 'weakness', 'loneliness', 'cure', 'painful', 'blank', 'sand', 'worm', 'thirst', 'feast', 'selfish', 'rescue', 'dark', 'sea', 'disappear', 'trace', 'breathe', 'survive', 'hide', 'wall', 'lust', 'fought', 'fire', 'sun', 'brave', 'bridge', 'plead', 'tunnel', 'ground', 'evil', 'wind', 'bloody', 'doo', 'wolf', 'funeral', 'end', 'lightning', 'knife', 'sword', 'familiar', 'behind', 'earth', 'farewell', 'telephone', 'crave', 'midnight', 'slowly', 'amongst', 'conquer', 'sky', 'frozen', 'die', 'war', 'mountain', 'rise', 'razor', 'sane', 'everyone', 'thief', 'confusion', 'onto', 'dry', 'gather', 'spine', 'memory', 'waste', 'fall', 'comfort', 'command', 'hopeless', 'upside', 'soak', 'bastard', 'beg', 'swell', 'trail', 'swallow', 'filthy', 'constant', 'destiny', 'medicine', 'pre', 'deceive', 'savior', 'bloom', 'shelter', 'stumble', 'slatt', 'baow', 'patek', 'opps', 'tec', 'opp', 'trappin', 'crip', 'geeked', 'boomin', 'muthafuckin', 'skrt', 'hunnids', 'guap', 'choppa', 'glizzy', 'perc', 'youngin', 'illest', 'skeet', 'bruh', 'cappin', 'glock', 'reppin', 'glocks', 'plottin', 'niggas', 'hunnid', 'rapper', 'xans', 'dawgs', 'whippin', 'xan', 'shank', 'fed', 'bouta', 'rollie', 'emcee', 'chopper', 'nigga', 'boutta', 'finna', 'thot', 'mothafuckin', 'bih', 'shoutout', 'hitter', 'phew', 'homie', 'murk', 'dissin', 'bando', 'lackin', 'swervin', 'stackin', 'fendi', 'vvs', 'pac', 'thots', 'servin', 'ratchet', 'yung', 'cheddar', 'bro', '2pac', 'ion', 'diss', 'spittin', 'rappin', 'aight', 'hol', 'hoe', 'gang', 'fam', 'grindin', 'snitch', 'ak', 'dawg', 'mil', 'bitch', 'bussin', 'shooter', 'beef', 'skrrt', 'dro', 'brr', 'flexin', 'cah', 'kobe', 'wildin', 'hatin', 'blunts', 'uzi', 'clout', 'og', 'rep', 'ching', 'lil', 'boi', 'motherfuckin', 'mixtape', 'wack', 'motherfucking', 'nike', 'prolly', 'dope', 'sellin', 'rari', 'swag', 'thuggin', 'kilo', 'coupe', 'bentley', 'codeine', 'hella', 'sprite', 'stuntin', 'ballin', 'kush', 'homies', 'yall', 'bustin', 'pimpin', 'skrr', 'rap', 'sauce', 'milli', 'suckin', 'rack', 'titty', 'ima', 'ayy', 'twerk', 'mc', 'floss', 'pimp', 'clique', 'gram', 'baddie', 'smokin', 'porsche', 'tote', 'stunt', 'winnin', 'hater', 'henny', 'strap', 'finesse', 'pew', 'clip', 'nope', 'bros', 'turnt', 'kool', 'squad', 'nuttin', 'biggie', 'gucci', 'trynna', 'dior', 'flex', 'realest', 'bankroll', 'goofy', 'baller', 'draco', 'mic', 'blunt', 'legit', 'gangsta', 'mac', 'slug', 'shit', 'thangs', 'dunk', 'poppin', 'lyrical', 'droppin', 'flippin', 'curry', 'shootin', 'bling', 'southside', 'mane', 'lambo', 'fuckin', 'spliff', 'swerve', 'slang', 'dick', 'plug', 'pussy', 'digit', 'thug', 'countin', 'packin', 'boss', 'maybach', 'ap', 'stash', 'hittin', 'trill', 'tech', 'switchin', 'wraith', 'vroom', 'aye', 'shorty', 'retard', 'bumpin', 'crib', 'stu', 'burner', 'yo', 'eatin', 'hood', 'drippin', 'catchin', 'sippin', 'uno', 'tryna', 'stack', 'dough', 'philly', 'heater', 'dm', 'nerd', 'faggot', 'cuff', 'benz', 'mop', 'dre', 'versace', 'motherfucker', 'fo', 'fiends', 'gat', 'gorilla', 'mma', 'spit', 'freestyle', 'comma', 'wetter', 'booth', 'cali', 'ugh', 'stressin', 'actin', 'wrist', 'speakin', 'wit', 'hennessy', 'sloppy', 'wassup', 'hustle', 'syrup', 'bust', 'deuce', 'tho', 'chillin', 'groupie', 'molly', 'cash', 'asian', 'grill', 'wavy', 'yup', 'tha', 'jewelry', 'drake', 'slidin', 'killin', 'dummy', 'cop', 'banger', 'slump', 'hook', 'dogg', 'lame', 'disrespect', 'block', 'ouu', 'smoking', 'designer', 'mack', 'grind', 'backpack', 'weed', 'pop', 'cocky', 'slime', 'dome', 'prada', 'imma', 'uber', 'whatchu', 'puttin', 'cheese', 'polo', 'pushin', 'lam', 'cap', 'rockstar', 'eminem', 'rhyme', 'frontin', 'homicide', 'im', 'slum', 'stripper', 'whip', 'dis', 'dude', 'ridin', 'lowkey', 'gangster', 'uhh', 'cheque', 'ting', 'fuck', 'em', 'loot', 'shawty', 'zip', 'bruce', 'crew', 'platinum', 'hype', 'tee', 'wop', 'tint', 'coke', 'swish', 'whack', 'potent', 'bong', 'jus', 'chanel', 'pic', 'alot', 'chasin', 'momma', 'tat', 'hoodie', 'naw', 'buck', 'phony', 'jeep', 'throwin', 'trench', 'wifey', 'snoop', 'matrix', 'sneaker', 'pistol', 'semi', 'flip', 'bag', 'nut', 'spray', 'hearse', 'kno', 'youtube', 'gettin', 'pullin', 'twitter', 'dip', 'triple', 'slim', 'wayne', 'mob', 'smack', 'thats', 'dub', 'peep', 'reload', 'trippin', 'sip', 'haha', 'goon', 'team', 'talkin', 'microphone', 'gas', 'drill', 'sack', 'lavish', 'exotic', 'cookin', 'askin', '40', 'chrome', 'spaceship', 'switch', 'lifestyle', 'po', 'hustler', 'booty', 'neva', 'jay', 'mumble', 'motivate', 'steppin', 'skit', 'lotta', 'bean', 'plus', 'flop', 'doe', 'smoked', 'dutch', 'goat', 'scope', 'label', 'jordan', 'raw', 'lyric', 'racist', 'splash', 'pourin', 'steak', 'fiend', 'thang', 'louis', 'froze', 'penis', 'dat', 'sample', 'granny', 'kanye', 'stoppin', 'nowadays', 'rick', 'woulda', 'fore', 'lit', 'slap', '100', 'yah', 'nun', 'yuh', 'drip', 'bullshit', 'ski', 'ham', 'pad', 'mo', 'duck', 'check', 'betta', 'chevy', 'brick', 'montana', 'menace', 'instagram', 'casket', 'dodge', 'chick', 'yea', 'pow', 'math', 'fucker', 'tuck', 'ounce', 'chip', 'juice', 'killa', 'pipe', 'trap', 'huh', 'brag', 'rim', 'studio', 'soda', 'clone', 'ricky', 'hit', 'lem', 'ghetto', 'bos', 'butt', 'overseas', 'takin', 'ayo', 'cock', 'cu', 'slippin', 'lab', 'wallet', 'pro', 'stripe', 'slut', 'champ', 'lane', 'prop', 'flick', 'selling', 'kickin', 'lettin', 'stress', 'jet', 'necklace', '50', 'money', 'curb', 'bout', 'nah', 'blowin', 'brooklyn', 'fan', 'dab', 'playa', 'slick', 'atlanta', 'aiming', 'dash', 'pen', 'cuz', 'panty', 'stayin', 'cookie', 'cocaine', 'dont', 'mike', 'bangin', 'snatch', 'playin', 'couple', 'fin', 'smoke', 'lobby', 'sayin', 'benjamin', 'cam', 'lick', 'ninja', 'gym', 'zone', 'dot', 'shoot', 'pole', 'legend', 'vest', 'drama', 'drug', 'trunk', 'screamin', 'blast', 'tweet', 'ace', 'chill', 'whats', 'plate', 'ball', 'marijuana', 'bread', 'mission', 'zoom', 'chat', 'bra', 'basic', 'tape', 'hahaha', 'baddest', 'chop', 'seein', 'gunna', 'dun', 'mentally', 'whoop', 'mmh', 'piss', 'iâ', 'thoia', 'yahdee', 'tico', 'giggy', 'wiggy', 'namo', 'heya', 'tuk', 'dequarius', 'alleluia', 'chee', 'idi', 'mambo', 'vienna', 'amin', 'jai', 'oya', 'emmanuel', 'yahweh', 'sleigh', 'woh', 'wuk', 'bluebird', 'bruk', 'jolene', 'christine', 'rosie', 'licky', 'aaah', 'waan', 'tum', 'ariana', 'hallelujah', 'disco', 'ev', 'woof', 'lovesick', 'incomprehensible', 'starlight', 'grande', 'aah', 'redeemer', 'springtime', 'gong', 'ooooo', 'loo', 'heather', 'reggae', 'bawl', 'unkind', 'unbreakable', 'ge', 'ooooh', 'bwoy', 'pum', 'evermore', 'mistletoe', 'shey', 'ove', 'candlelight', 'merry', 'oo', 'whoah', 'serenade', 'christmas', 'darlin', 'ry', 'eeh', 'heartbeat', 'lollipop', 'snowman', 'meh', 'tun', 'prettiest', 'fairytale', 'starry', 'gal', 'newborn', 'ee', 'la', 'vous', 'jingle', 'marilyn', 'claus', 'romance', 'heartbreaker', 'eah', 'tidings', 'ding', 'noel', 'whatcha', 'barbara', 'seh', 'jonas', 'lullaby', 'eh', 'ea', 'ly', 'fabulous', 'moonlight', 'wo', 'bla', 'goodbye', 'weightless', 'lover', 'raindrop', 'ella', 'ricochet', 'darling', 'jo', 'goodie', 'linda', 'rye', 'dum', 'uuh', 'streetlight', 'silhouette', 'sunshine', 'closer', 'alibi', 'jah', 'ann', 'sushi', 'adore', 'overflow', 'ba', 'euphoria', 'rollercoaster', 'untrue', 'eternally', 'bumper', 'wonderland', 'por', 'oh', 'fi', 'gyal', 'paradise', 'jive', 'sweetly', 'prechorus', 'bittersweet', 'cking', 'arse', 'canyon', 'rhythm', 'tonight', 'neath', 'healer', 'heartache', 'rainbows', 'gypsy', 'spooky', 'tenderly', 'fascination', 'dolls', 'trough', 'sunrise', 'overload', 'somehow', 'symphony', 'hu', 'joyful', 'ooo', 'shimmer', 'hoo', 'forevermore', 'stormy', 'uptight', 'oooh', 'madonna', 'marie', 'sing', 'unconditional', 'twilight', 'reminds', 'dance', 'brightly', 'lingers', 'harmony', 'clumsy', 'lonesome', 'wah', 'rainbow', 'unspoken', 'heals', 'bella', 'tattooed', 'caroline', 'everlasting', 'beautiful', 'sailed', 'wey', 'lovin', 'tu', 'photograph', 'dreamer', 'rе', 'warmer', 'nocturnal', 'sunlight', 'wherever', 'endlessly', 'sally', 'softly', 'fingertips', 'mu', 'dancer', 'broadway', 'neil', 'amor', 'whine', 'teardrop', 'sexy', 'belong', 'inna', 'pon', 'miracle', 'hum', 'oooooh', 'velvet', 'tumble', 'ooh', 'melody', 'forever', 'suitcase', 'anywhere', 'tomorrow', 'hometown', 'beggin', 'kiss', 'glory', 'dey', 'fe', 'queue', 'strawberry', 'heart', 'mend', 'angel', 'thrill', 'di', 'ole', 'fragile', 'firefly', 'love', 'someone', 'lonely', 'daydream', 'sweetheart', 'dreamt', 'rainy', 'fantasy', 'brighter', 'undo', 'omo', 'anytime', 'dandy', 'bu', 'nuh', 'sweet', 'santa', 'yesterday', 'te', 'stronger', 'saviour', 'yi', 'reindeer', 'spank', 'mystery', 'jenny', 'ginger', 'lo', 'willow', 'butterfly', 'underwater', 'choo', 'ahhh', 'ensemble', 'overthinking', 'deh', 'honey', 'balloon', 'alight', 'rum', 'mi', 'jesus', 'giddy', 'oooo', 'lipstick', 'hurricane', 'giver', 'naive', 'aboard', 'pony', 'babe', 'ohh', 'daylight', 'sugar', 'heartbreak', 'wooo', 'joy', 'badman', 'feedback', 'warm', 'dreamed', 'ow', 'rocker', 'sweetness', 'ah', 'masquerade', 'happier', 'lang', 'lovely', 'wonderful', 'pa', 'belle', 'dam', 'somewhere', 'firework', 'lifetime', 'sunset', 'ohhhh', 'ohhhhh', 'hee', 'getaway', 'praise', 'du', 'sentimental', 'thump', 'dynamite', 'together', 'hooray', 'hey', 'precious', 'unsaid', 'tease', 'weh', 'downtown', 'hypnotize', 'waltz', 'resurrection', 'moon', 'dancin', 'magical', 'subway', 'lala', 'superstar', 'rain', 'shy', 'berlin', 'belongs', 'melt', 'whoa', 'hello', 'river', 'rio', 'temptation', 'sha', 'mek', 'sparkle', 'twinkle', 'tic', 'ga', 'tokyo', 'bell', 'hymn', 'glitter', 'bum', 'dah', 'ocean', 'tear', 'lovе', 'mon', 'rejoice', 'stillness', 'autumn', 'heal', 'dream', 'moonshine', 'alright', 'stranger', 'getcha', 'airplane', 'alone', 'whirl', 'colour', 'perfume', 'unsure', 'satellite', 'wildest', 'buffalo', 'cry', 'smile', 'afraid', 'scare', 'invincible', 'night', 'doll', 'roses', 'recall', 'summer', 'choir', 'singin', 'sidewalk', 'uncover', 'tender', 'headlight', 'hazy', 'devotion', 'tightly', 'intertwine', 'milky', 'bright', 'soothe', 'nighttime', 'boogie', 'flicker', 'babylon', 'baby', 'shin', 'maybe', 'sanctuary', 'rearrange', 'sweeter', 'vibration', 'bruise', 'fever', 'wash', 'crossroad', 'light', 'tenderness', 'radio', 'revolve', 'dreamin', 'hai', 'je', 'swept', 'meaningless', 'heaven', 'happy', 'annie', 'rainin', 'along', 'shinin', 'parade', 'runway', 'touch', 'somebody', 'sometime', 'dong', 'mesmerize', 'fairy', 'unreal', 'dem', 'mighty', 'groove', 'dove', 'insecure', 'destination', 'desperation', 'heel', 'timе', 'bon', 'believe', 'footstep', 'secret', 'holiday', 'hurt', 'foolin', 'star', 'delightful', 'bonnie', 'comeback', 'restart', 'goodness', 'feather', 'home', 'ripple', 'ember', 'breathin', 'romantic', 'grace', 'flower', 'mine', 'emma', 'halfway', 'wе', 'dizzy', 'anew', 'speechless', 'suh', 'world', 'anyway', 'vie', 'bye', 'haffi', 'bе', 'else', 'ohhh', 'hold', 'dusk', 'morning', 'forget', 'true', 'shine', 'railroad', 'fortress', 'meant', 'ko', 'easy', 'fun', 'mm', 'eye', 'sarah', 'lucky', 'borderline', 'electric', 'dada', 'faithful', 'holly', 'breeze', 'asleep', 'tiny', 'taller', 'hears', 'seas', 'weary', 'chorus', 'ribbon', 'que', 'shake', 'untold', 'find', 'electricity', 'sang', 'feel', 'lips', 'lauren', 'blue', 'snow', 'realise', 'da', 'obscene', 'naughty', 'pretend', 'wi', 'anyone', 'na', 'incomplete', 'loosen', 'treasure', 'california', 'jolly', 'chimney', 'dee', 'arm', 'gi', 'peanut', 'caress', 'fearless', 'mercy', 'today', 'search', 'magic', 'cigarettes', 'mercury', 'worthy', 'wasteland', 'wing', 'footprint', 'ch', 'unwind', 'dear', 'everything', 'attraction', 'ale', 'limbo', 'chance', 'troubled', 'whеn', 'saturday', 'frankie', 'daisy', 'wait', 'laughter', 'aa', 'silver', 'mile', 'strung', 'clearer', 'awhile', 'wastin', 'doorway', 'fallin', 'eve', 'afar', 'mornin', 'winter', 'everywhere', 'sunny', 'ivy', 'pane', 'sailor', 'mmm', 'beauty', 'silently', 'close', 'worry', 'blah', 'waterfall', 'su', 'romeo', 'taunt', 'cherry', 'something', 'scenery', 'betty', 'fighter', 'wonder', 'trouble', 'bam', 'control', 'wild', 'worship', 'flown', 'sunday', 'gravity', 'stereo', 'everytime', 'cigarette', 'coo', 'hear', 'blonde', 'brighten', 'let', 'sad', 'overcome', 'wish', 'shore', 'beside', 'compromise', 'worn', 'awesome', 'crowded', 'makeup', 'share', 'wrong', 'unfold', 'valley', 'tight', 'highway', 'marvin', 'long', 'usa', 'ra', 'free', 'song', 'thread', 'cowboy', 'gently', 'post', 'jamaica', 'deny', 'holy', 'obsession', 'voice', 'laura', 'desert', 'co', 'enough', 'emergency', 'coffee', 'unlock', 'cloud', 'soar', 'rewrite', 'kissin', 'color', 'promise', 'fine', 'golden', 'forgive', 'ecstasy', 'strong', 'mе', 'nothing', 'wire', 'traveled', 'drunken', 'please', 'wine', 'pretty', 'youre', 'foggy', 'sometimes', 'unaware', 'realize', 'place', 'glorious', 'little', 'desire', 'forbidden', 'believer', 'fool', 'lose', 'remember', 'save', 'happiness', 'complicate', 'chime', 'blanket', 'irish', 'ever', 'johnny', 'stand', 'yer', 'deeper', 'tin', 'danger', 'lift', 'way', 'maria', 'lie', 'gentle', 'le', 'guilty', 'ou', 'foolish', 'afternoon', 'searchin', 'thing', 'cha', 'could', 'ina', 'repeat', 'africa', 'shame', 'dive', 'turn', 'celebrate', 'blame', 'trembling', 'misty', 'potter', 'heavens', 'ling', 'moment', 'redeem', 'lisa', 'bride', 'invitation', 'badly', 'wake', 'hush', 'sincere', 'satisfy', 'hmmm', 'without', 'late', 'louder', 'far', 'atmosphere', 'sway', 'vulnerable', 'violet', 'courage', 'strange', 'across', 'carry', 'day', 'walk', 'chord', 'se', 'want', 'seem', 'funky', 'remind', 'finally', 'anything', 'aisle', 'awe', 'heave', 'boyfriend', 'lucy', 'tread', 'travel', 'fight', 'careless', 'fill', 'ke', 'skyline', 'faith', 'aha', 'desperately', 'needle', 'eclipse', 'illuminate', 'come', 'uptown', 'time', 'kind', 'hollywood', 'strength', 'can', 'not', 'shiny', 'smilin', 'weekend', 'bathe', 'prayer', 'sting', 'miss', 'bleach', 'blinding', 'tickle', 'candle', 'criticize', 'trance', 'adrenaline', 'around', 'care', 'reach', 'tire', 'nana', 'affection', 'seventeen', 'nerve', 'country', 'daddy', 'town', 'train', 'road', 'old', 'drink', 'mama', 'lord', 'woman', 'boys', 'lay', 'tree', 'drive', 'red', 'good', 'verse', 'sure', 'til', 'well', 'hell', 'crazy', 'line', 'roll', 'water', 'meet', 'bear', 'saw', 'door', 'outro', 'every', 'guess', 'would', 'big', 'cold', 'sit', 'leave', 'may', 'hand', 'since', 'grow', 'year', 'gon', 'white', 'hard', 'another', 'friend', 'foot', 'yes', 'one', 'girl', 'ex', 'feeling', 'vibe', 'lately', 'sex', 'yeah', 'thinkin', 'somethin', 'wan', 'me', 'treat', 'woo', 'deserve', 'nobody', 'need', 'gim', 'woah', 'phone', 'lady', 'feelin', 'slow', 'know', 'body', 'cool', 'doin', 'intro', 'nothin', 'got', 'sorry', 'right', 'ta', 'tell', 'ride', 'worth', 'mind', 'queen', 'whatever', 'ya', 'trust', 'ready', 'low', 'real', 'type', 'show', 'bless', 'perfect', 'give', 'say', 'stay', 'goin', 'club', 'side', 'ha', 'bad', 'really', 'x2', 'everyday', 'thank', 'party', 'think', 'swear', 'keep', 'play', 'much', 'spend', 'make', 'pick', 'trip', 'round', 'cause', 'help', 'okay', 'uh', 'win', 'call', 'minute', 'get', 'damn', 'u', 'always', 'nice', 'best', 'put', 'game', 'take', 'bed', 'go', 'boy', 'act', 'taste', 'music', '2018', 'thus', 'therefore', 'however', 'jerry', 'thou', 'subject', 'general', 'object', 'perhaps', 'manner', 'thy', 'indeed', 'also', 'sir', 'value', 'interest', 'unto', 'george', 'thee', 'possible', 'condition', 'service', 'among', 'whose', 'shall', 'mr', 'large', 'appear', 'government', 'unite', 'gentleman', 'effect', 'consider', 'receive', 'idea', 'reply', 'sort', 'continue', 'present', 'whether', 'captain', 'court', 'upon', 'nature', 'public', 'enter', 'order', 'certain', 'form', 'state', 'law', 'able', 'towards', 'american', 'company', 'allow', 'course', 'men', 'common', 'often', 'return', 'person', 'others', 'father', 'ye', 'offer', 'add', 'quite', 'great', 'poor', 'art', 'horse', 'daughter', 'case', 'doctor', 'table', 'yet', 'wife', 'either', 'note', 'remain', 'letter', 'almost']\n"
     ]
    }
   ],
   "source": [
    "print(most_common_words)\n",
    "print(relevant_words)\n",
    "\n",
    "count = 0\n",
    "for word in most_common_words:\n",
    "    if word not in relevant_words:\n",
    "        count += 1"
   ]
  },
  {
   "cell_type": "code",
   "execution_count": 147,
   "metadata": {},
   "outputs": [
    {
     "data": {
      "text/plain": [
       "1073"
      ]
     },
     "execution_count": 147,
     "metadata": {},
     "output_type": "execute_result"
    }
   ],
   "source": [
    "count"
   ]
  },
  {
   "cell_type": "code",
   "execution_count": 14,
   "metadata": {},
   "outputs": [],
   "source": [
    "def filter_lyrics(lyrics, word_set):\n",
    "    return ' '.join(word for word in lyrics.split() if word in word_set)"
   ]
  },
  {
   "cell_type": "code",
   "execution_count": 24,
   "metadata": {},
   "outputs": [
    {
     "data": {
      "text/html": [
       "<div>\n",
       "<style scoped>\n",
       "    .dataframe tbody tr th:only-of-type {\n",
       "        vertical-align: middle;\n",
       "    }\n",
       "\n",
       "    .dataframe tbody tr th {\n",
       "        vertical-align: top;\n",
       "    }\n",
       "\n",
       "    .dataframe thead th {\n",
       "        text-align: right;\n",
       "    }\n",
       "</style>\n",
       "<table border=\"1\" class=\"dataframe\">\n",
       "  <thead>\n",
       "    <tr style=\"text-align: right;\">\n",
       "      <th></th>\n",
       "      <th>lyrics</th>\n",
       "      <th>tag</th>\n",
       "    </tr>\n",
       "    <tr>\n",
       "      <th>id</th>\n",
       "      <th></th>\n",
       "      <th></th>\n",
       "    </tr>\n",
       "  </thead>\n",
       "  <tbody>\n",
       "    <tr>\n",
       "      <th>535805</th>\n",
       "      <td>say love mean change mind one day pretend caus...</td>\n",
       "      <td>rock</td>\n",
       "    </tr>\n",
       "    <tr>\n",
       "      <th>7519483</th>\n",
       "      <td>kid naruto rap hook everybody want hurt everyb...</td>\n",
       "      <td>rap</td>\n",
       "    </tr>\n",
       "    <tr>\n",
       "      <th>4892808</th>\n",
       "      <td>verse people tell change find hard explain may...</td>\n",
       "      <td>pop</td>\n",
       "    </tr>\n",
       "    <tr>\n",
       "      <th>1584150</th>\n",
       "      <td>warn try get close know want chain leave ghost...</td>\n",
       "      <td>pop</td>\n",
       "    </tr>\n",
       "    <tr>\n",
       "      <th>7639050</th>\n",
       "      <td>verse see end come never like odds need way ev...</td>\n",
       "      <td>country</td>\n",
       "    </tr>\n",
       "    <tr>\n",
       "      <th>...</th>\n",
       "      <td>...</td>\n",
       "      <td>...</td>\n",
       "    </tr>\n",
       "    <tr>\n",
       "      <th>1702980</th>\n",
       "      <td>know young old many thing would tell chance te...</td>\n",
       "      <td>pop</td>\n",
       "    </tr>\n",
       "    <tr>\n",
       "      <th>4802970</th>\n",
       "      <td>intro lil gotit cash wah wah wah wah wah wah e...</td>\n",
       "      <td>rap</td>\n",
       "    </tr>\n",
       "    <tr>\n",
       "      <th>403929</th>\n",
       "      <td>verse bear inside home young three boy fought ...</td>\n",
       "      <td>rock</td>\n",
       "    </tr>\n",
       "    <tr>\n",
       "      <th>1000723</th>\n",
       "      <td>rollin pool fall star condescend twin nothing ...</td>\n",
       "      <td>pop</td>\n",
       "    </tr>\n",
       "    <tr>\n",
       "      <th>6177674</th>\n",
       "      <td>verse godlyrisktaker yeah epic game playin gam...</td>\n",
       "      <td>rap</td>\n",
       "    </tr>\n",
       "  </tbody>\n",
       "</table>\n",
       "<p>134967 rows × 2 columns</p>\n",
       "</div>"
      ],
      "text/plain": [
       "                                                    lyrics      tag\n",
       "id                                                                 \n",
       "535805   say love mean change mind one day pretend caus...     rock\n",
       "7519483  kid naruto rap hook everybody want hurt everyb...      rap\n",
       "4892808  verse people tell change find hard explain may...      pop\n",
       "1584150  warn try get close know want chain leave ghost...      pop\n",
       "7639050  verse see end come never like odds need way ev...  country\n",
       "...                                                    ...      ...\n",
       "1702980  know young old many thing would tell chance te...      pop\n",
       "4802970  intro lil gotit cash wah wah wah wah wah wah e...      rap\n",
       "403929   verse bear inside home young three boy fought ...     rock\n",
       "1000723  rollin pool fall star condescend twin nothing ...      pop\n",
       "6177674  verse godlyrisktaker yeah epic game playin gam...      rap\n",
       "\n",
       "[134967 rows x 2 columns]"
      ]
     },
     "execution_count": 24,
     "metadata": {},
     "output_type": "execute_result"
    }
   ],
   "source": [
    "lyrics_preproc"
   ]
  },
  {
   "cell_type": "markdown",
   "metadata": {},
   "source": [
    "### Algorithms"
   ]
  },
  {
   "cell_type": "code",
   "execution_count": 25,
   "metadata": {},
   "outputs": [],
   "source": [
    "# VADER performs very well with emojis, slangs and acronyms in sentences\n",
    "        \n",
    "#####  apagar os not related com emoções e deixar os outrs???"
   ]
  },
  {
   "cell_type": "markdown",
   "metadata": {},
   "source": [
    "## VADER"
   ]
  },
  {
   "cell_type": "code",
   "execution_count": 72,
   "metadata": {},
   "outputs": [],
   "source": [
    "vader = SentimentIntensityAnalyzer()"
   ]
  },
  {
   "cell_type": "code",
   "execution_count": 73,
   "metadata": {},
   "outputs": [],
   "source": [
    "#### relevant words\n",
    "relevant_words_set = set(relevant_words)\n",
    "\n",
    "#### common words\n",
    "common_words_set = set(most_common_words)\n",
    "\n",
    "\n",
    "#### relevant + common words\n",
    "# relevant_common_words_set = set(words_to_use)"
   ]
  },
  {
   "cell_type": "code",
   "execution_count": 74,
   "metadata": {},
   "outputs": [],
   "source": [
    "### extract compound score\n",
    "\n",
    "def vader_wrapper(filtered_lyrics):\n",
    "\n",
    "    if type(filtered_lyrics) == list:\n",
    "\n",
    "        sent_compound_list = []\n",
    "\n",
    "        for sentence in filtered_lyrics:\n",
    "            # calculates the compound sentiment score for each sentence using VADER \n",
    "            sent_compound_list.append(vader.polarity_scores(sentence)[\"compound\"])\n",
    "\n",
    "        polarity = np.array(sent_compound_list).mean()\n",
    "        \n",
    "    else:\n",
    "        polarity = vader.polarity_scores(filtered_lyrics)[\"compound\"]\n",
    "\n",
    "    return polarity"
   ]
  },
  {
   "cell_type": "code",
   "execution_count": 75,
   "metadata": {},
   "outputs": [],
   "source": [
    "def vader_analysis(word_set, df):\n",
    "\n",
    "    # filter lyrics\n",
    "    df['filtered_lyrics'] = df['lyrics'].apply(lambda x: filter_lyrics(x, word_set))\n",
    "\n",
    "    # polarity lyric by lyric\n",
    "    df['polarity'] = df['filtered_lyrics'].apply(lambda x: vader.polarity_scores(x))\n",
    "\n",
    "    # extract the compound\n",
    "    df[\"polarity\"] =  df[\"filtered_lyrics\"].apply(lambda x: vader_wrapper(str(x)))\n",
    "\n",
    "    # extract the label\n",
    "    df['sentiment_label'] = np.select(\n",
    "    [df['polarity'] < -0.2, df['polarity'] > 0.2],\n",
    "    ['negative', 'positive'],\n",
    "    default='neutral')\n",
    "    \n",
    "    df = df.drop(\"lyrics\", axis=1)\n",
    "\n",
    "    return df"
   ]
  },
  {
   "cell_type": "code",
   "execution_count": 76,
   "metadata": {},
   "outputs": [],
   "source": [
    "def polarity_by_gender(df):\n",
    "\n",
    "    ### mean polarity by gender\n",
    "    polarity_by_tag = df.groupby('tag')['polarity'].mean().reset_index()\n",
    "\n",
    "    ### label\n",
    "    polarity_by_tag['sentiment_label'] = np.select(\n",
    "        [polarity_by_tag['polarity'] < -0.2, \n",
    "        polarity_by_tag['polarity'] > 0.2],\n",
    "        ['negative', 'positive'],\n",
    "        default='neutral')\n",
    "\n",
    "    return polarity_by_tag"
   ]
  },
  {
   "cell_type": "markdown",
   "metadata": {},
   "source": [
    "### 1. With Emojis and Without Stopwords"
   ]
  },
  {
   "cell_type": "code",
   "execution_count": 77,
   "metadata": {},
   "outputs": [],
   "source": [
    "#### dataset with emojis, and without stopwords\n",
    "emojis_df = lyrics_preproc"
   ]
  },
  {
   "cell_type": "markdown",
   "metadata": {},
   "source": [
    "#### 1.1 With Relevant words"
   ]
  },
  {
   "cell_type": "code",
   "execution_count": 78,
   "metadata": {},
   "outputs": [
    {
     "data": {
      "text/html": [
       "<div>\n",
       "<style scoped>\n",
       "    .dataframe tbody tr th:only-of-type {\n",
       "        vertical-align: middle;\n",
       "    }\n",
       "\n",
       "    .dataframe tbody tr th {\n",
       "        vertical-align: top;\n",
       "    }\n",
       "\n",
       "    .dataframe thead th {\n",
       "        text-align: right;\n",
       "    }\n",
       "</style>\n",
       "<table border=\"1\" class=\"dataframe\">\n",
       "  <thead>\n",
       "    <tr style=\"text-align: right;\">\n",
       "      <th></th>\n",
       "      <th>tag</th>\n",
       "      <th>year</th>\n",
       "      <th>filtered_lyrics</th>\n",
       "      <th>polarity</th>\n",
       "      <th>sentiment_label</th>\n",
       "    </tr>\n",
       "    <tr>\n",
       "      <th>id</th>\n",
       "      <th></th>\n",
       "      <th></th>\n",
       "      <th></th>\n",
       "      <th></th>\n",
       "      <th></th>\n",
       "    </tr>\n",
       "  </thead>\n",
       "  <tbody>\n",
       "    <tr>\n",
       "      <th>535805</th>\n",
       "      <td>rock</td>\n",
       "      <td>2013</td>\n",
       "      <td>say love mind one day pretend cause walk away ...</td>\n",
       "      <td>0.5859</td>\n",
       "      <td>positive</td>\n",
       "    </tr>\n",
       "    <tr>\n",
       "      <th>7519483</th>\n",
       "      <td>rap</td>\n",
       "      <td>2021</td>\n",
       "      <td>rap hook want hurt want cry put time fall make...</td>\n",
       "      <td>-0.9823</td>\n",
       "      <td>negative</td>\n",
       "    </tr>\n",
       "    <tr>\n",
       "      <th>4892808</th>\n",
       "      <td>pop</td>\n",
       "      <td>2019</td>\n",
       "      <td>verse tell find hard maybe feel know make well...</td>\n",
       "      <td>0.5423</td>\n",
       "      <td>positive</td>\n",
       "    </tr>\n",
       "    <tr>\n",
       "      <th>1584150</th>\n",
       "      <td>pop</td>\n",
       "      <td>2013</td>\n",
       "      <td>get close know want leave take certain fallin ...</td>\n",
       "      <td>-0.9246</td>\n",
       "      <td>negative</td>\n",
       "    </tr>\n",
       "    <tr>\n",
       "      <th>7639050</th>\n",
       "      <td>country</td>\n",
       "      <td>1</td>\n",
       "      <td>verse end come need way around soil take steel...</td>\n",
       "      <td>0.9644</td>\n",
       "      <td>positive</td>\n",
       "    </tr>\n",
       "    <tr>\n",
       "      <th>...</th>\n",
       "      <td>...</td>\n",
       "      <td>...</td>\n",
       "      <td>...</td>\n",
       "      <td>...</td>\n",
       "      <td>...</td>\n",
       "    </tr>\n",
       "    <tr>\n",
       "      <th>1702980</th>\n",
       "      <td>pop</td>\n",
       "      <td>2007</td>\n",
       "      <td>know old thing would tell chance tell sit crow...</td>\n",
       "      <td>0.9815</td>\n",
       "      <td>positive</td>\n",
       "    </tr>\n",
       "    <tr>\n",
       "      <th>4802970</th>\n",
       "      <td>rap</td>\n",
       "      <td>2019</td>\n",
       "      <td>intro lil cash wah wah wah wah wah wah everyth...</td>\n",
       "      <td>-0.9981</td>\n",
       "      <td>negative</td>\n",
       "    </tr>\n",
       "    <tr>\n",
       "      <th>403929</th>\n",
       "      <td>rock</td>\n",
       "      <td>2014</td>\n",
       "      <td>verse bear inside home boys fought daddy heart...</td>\n",
       "      <td>0.9834</td>\n",
       "      <td>positive</td>\n",
       "    </tr>\n",
       "    <tr>\n",
       "      <th>1000723</th>\n",
       "      <td>pop</td>\n",
       "      <td>2001</td>\n",
       "      <td>fall star nothing nothing wrong go heaven thin...</td>\n",
       "      <td>0.8247</td>\n",
       "      <td>positive</td>\n",
       "    </tr>\n",
       "    <tr>\n",
       "      <th>6177674</th>\n",
       "      <td>rap</td>\n",
       "      <td>2020</td>\n",
       "      <td>verse yeah game playin game game die cry cuz u...</td>\n",
       "      <td>0.9815</td>\n",
       "      <td>positive</td>\n",
       "    </tr>\n",
       "  </tbody>\n",
       "</table>\n",
       "<p>134967 rows × 5 columns</p>\n",
       "</div>"
      ],
      "text/plain": [
       "             tag  year                                    filtered_lyrics  \\\n",
       "id                                                                          \n",
       "535805      rock  2013  say love mind one day pretend cause walk away ...   \n",
       "7519483      rap  2021  rap hook want hurt want cry put time fall make...   \n",
       "4892808      pop  2019  verse tell find hard maybe feel know make well...   \n",
       "1584150      pop  2013  get close know want leave take certain fallin ...   \n",
       "7639050  country     1  verse end come need way around soil take steel...   \n",
       "...          ...   ...                                                ...   \n",
       "1702980      pop  2007  know old thing would tell chance tell sit crow...   \n",
       "4802970      rap  2019  intro lil cash wah wah wah wah wah wah everyth...   \n",
       "403929      rock  2014  verse bear inside home boys fought daddy heart...   \n",
       "1000723      pop  2001  fall star nothing nothing wrong go heaven thin...   \n",
       "6177674      rap  2020  verse yeah game playin game game die cry cuz u...   \n",
       "\n",
       "         polarity sentiment_label  \n",
       "id                                 \n",
       "535805     0.5859        positive  \n",
       "7519483   -0.9823        negative  \n",
       "4892808    0.5423        positive  \n",
       "1584150   -0.9246        negative  \n",
       "7639050    0.9644        positive  \n",
       "...           ...             ...  \n",
       "1702980    0.9815        positive  \n",
       "4802970   -0.9981        negative  \n",
       "403929     0.9834        positive  \n",
       "1000723    0.8247        positive  \n",
       "6177674    0.9815        positive  \n",
       "\n",
       "[134967 rows x 5 columns]"
      ]
     },
     "execution_count": 78,
     "metadata": {},
     "output_type": "execute_result"
    }
   ],
   "source": [
    "emojis_relevant_df = vader_analysis(relevant_words_set, emojis_df)\n",
    "emojis_relevant_df"
   ]
  },
  {
   "cell_type": "markdown",
   "metadata": {},
   "source": [
    "##### 1.1.1 BY GENDER"
   ]
  },
  {
   "cell_type": "code",
   "execution_count": 79,
   "metadata": {},
   "outputs": [
    {
     "data": {
      "text/html": [
       "<div>\n",
       "<style scoped>\n",
       "    .dataframe tbody tr th:only-of-type {\n",
       "        vertical-align: middle;\n",
       "    }\n",
       "\n",
       "    .dataframe tbody tr th {\n",
       "        vertical-align: top;\n",
       "    }\n",
       "\n",
       "    .dataframe thead th {\n",
       "        text-align: right;\n",
       "    }\n",
       "</style>\n",
       "<table border=\"1\" class=\"dataframe\">\n",
       "  <thead>\n",
       "    <tr style=\"text-align: right;\">\n",
       "      <th></th>\n",
       "      <th>tag</th>\n",
       "      <th>polarity</th>\n",
       "      <th>sentiment_label</th>\n",
       "    </tr>\n",
       "  </thead>\n",
       "  <tbody>\n",
       "    <tr>\n",
       "      <th>0</th>\n",
       "      <td>country</td>\n",
       "      <td>0.483938</td>\n",
       "      <td>positive</td>\n",
       "    </tr>\n",
       "    <tr>\n",
       "      <th>1</th>\n",
       "      <td>misc</td>\n",
       "      <td>0.363572</td>\n",
       "      <td>positive</td>\n",
       "    </tr>\n",
       "    <tr>\n",
       "      <th>2</th>\n",
       "      <td>pop</td>\n",
       "      <td>0.332176</td>\n",
       "      <td>positive</td>\n",
       "    </tr>\n",
       "    <tr>\n",
       "      <th>3</th>\n",
       "      <td>rap</td>\n",
       "      <td>-0.244748</td>\n",
       "      <td>negative</td>\n",
       "    </tr>\n",
       "    <tr>\n",
       "      <th>4</th>\n",
       "      <td>rb</td>\n",
       "      <td>0.456004</td>\n",
       "      <td>positive</td>\n",
       "    </tr>\n",
       "    <tr>\n",
       "      <th>5</th>\n",
       "      <td>rock</td>\n",
       "      <td>0.067043</td>\n",
       "      <td>neutral</td>\n",
       "    </tr>\n",
       "  </tbody>\n",
       "</table>\n",
       "</div>"
      ],
      "text/plain": [
       "       tag  polarity sentiment_label\n",
       "0  country  0.483938        positive\n",
       "1     misc  0.363572        positive\n",
       "2      pop  0.332176        positive\n",
       "3      rap -0.244748        negative\n",
       "4       rb  0.456004        positive\n",
       "5     rock  0.067043         neutral"
      ]
     },
     "execution_count": 79,
     "metadata": {},
     "output_type": "execute_result"
    }
   ],
   "source": [
    "emojis_relevant_df_by_gender = polarity_by_gender(emojis_relevant_df)\n",
    "emojis_relevant_df_by_gender"
   ]
  },
  {
   "cell_type": "code",
   "execution_count": 80,
   "metadata": {},
   "outputs": [],
   "source": [
    "### rap - negative"
   ]
  },
  {
   "cell_type": "markdown",
   "metadata": {},
   "source": [
    "#### 1.2. With Relevant + Common words"
   ]
  },
  {
   "cell_type": "code",
   "execution_count": 160,
   "metadata": {},
   "outputs": [],
   "source": [
    "# emojis_relevant_common_df = vader_analysis(relevant_common_words_set, emojis_df)\n",
    "# emojis_relevant_common_df"
   ]
  },
  {
   "cell_type": "markdown",
   "metadata": {},
   "source": [
    "##### 1.2.1 BY GENDER"
   ]
  },
  {
   "cell_type": "code",
   "execution_count": 82,
   "metadata": {},
   "outputs": [],
   "source": [
    "emojis_relevant_common_df_by_gender = polarity_by_gender(emojis_relevant_common_df)"
   ]
  },
  {
   "cell_type": "code",
   "execution_count": 83,
   "metadata": {},
   "outputs": [],
   "source": [
    "### rap - neutral"
   ]
  },
  {
   "cell_type": "markdown",
   "metadata": {},
   "source": [
    "#### 1.3. With Common words"
   ]
  },
  {
   "cell_type": "code",
   "execution_count": 84,
   "metadata": {},
   "outputs": [
    {
     "data": {
      "text/html": [
       "<div>\n",
       "<style scoped>\n",
       "    .dataframe tbody tr th:only-of-type {\n",
       "        vertical-align: middle;\n",
       "    }\n",
       "\n",
       "    .dataframe tbody tr th {\n",
       "        vertical-align: top;\n",
       "    }\n",
       "\n",
       "    .dataframe thead th {\n",
       "        text-align: right;\n",
       "    }\n",
       "</style>\n",
       "<table border=\"1\" class=\"dataframe\">\n",
       "  <thead>\n",
       "    <tr style=\"text-align: right;\">\n",
       "      <th></th>\n",
       "      <th>tag</th>\n",
       "      <th>year</th>\n",
       "      <th>filtered_lyrics</th>\n",
       "      <th>polarity</th>\n",
       "      <th>sentiment_label</th>\n",
       "    </tr>\n",
       "    <tr>\n",
       "      <th>id</th>\n",
       "      <th></th>\n",
       "      <th></th>\n",
       "      <th></th>\n",
       "      <th></th>\n",
       "      <th></th>\n",
       "    </tr>\n",
       "  </thead>\n",
       "  <tbody>\n",
       "    <tr>\n",
       "      <th>535805</th>\n",
       "      <td>rock</td>\n",
       "      <td>2013</td>\n",
       "      <td>say love mean change mind one day cause see wa...</td>\n",
       "      <td>0.7717</td>\n",
       "      <td>positive</td>\n",
       "    </tr>\n",
       "    <tr>\n",
       "      <th>7519483</th>\n",
       "      <td>rap</td>\n",
       "      <td>2021</td>\n",
       "      <td>hook want want cry face put time work fall mak...</td>\n",
       "      <td>-0.9279</td>\n",
       "      <td>negative</td>\n",
       "    </tr>\n",
       "    <tr>\n",
       "      <th>4892808</th>\n",
       "      <td>pop</td>\n",
       "      <td>2019</td>\n",
       "      <td>verse people tell change find hard maybe feel ...</td>\n",
       "      <td>0.4404</td>\n",
       "      <td>positive</td>\n",
       "    </tr>\n",
       "    <tr>\n",
       "      <th>1584150</th>\n",
       "      <td>pop</td>\n",
       "      <td>2013</td>\n",
       "      <td>try get close know want leave take away stay s...</td>\n",
       "      <td>0.4404</td>\n",
       "      <td>positive</td>\n",
       "    </tr>\n",
       "    <tr>\n",
       "      <th>7639050</th>\n",
       "      <td>country</td>\n",
       "      <td>1</td>\n",
       "      <td>verse see end come never like need way even ar...</td>\n",
       "      <td>0.8515</td>\n",
       "      <td>positive</td>\n",
       "    </tr>\n",
       "    <tr>\n",
       "      <th>...</th>\n",
       "      <td>...</td>\n",
       "      <td>...</td>\n",
       "      <td>...</td>\n",
       "      <td>...</td>\n",
       "      <td>...</td>\n",
       "    </tr>\n",
       "    <tr>\n",
       "      <th>1702980</th>\n",
       "      <td>pop</td>\n",
       "      <td>2007</td>\n",
       "      <td>know young old many thing would tell tell say ...</td>\n",
       "      <td>0.9783</td>\n",
       "      <td>positive</td>\n",
       "    </tr>\n",
       "    <tr>\n",
       "      <th>4802970</th>\n",
       "      <td>rap</td>\n",
       "      <td>2019</td>\n",
       "      <td>intro everything chorus bitch god god shit shi...</td>\n",
       "      <td>-0.9987</td>\n",
       "      <td>negative</td>\n",
       "    </tr>\n",
       "    <tr>\n",
       "      <th>403929</th>\n",
       "      <td>rock</td>\n",
       "      <td>2014</td>\n",
       "      <td>verse inside home young heart god know make ha...</td>\n",
       "      <td>0.9781</td>\n",
       "      <td>positive</td>\n",
       "    </tr>\n",
       "    <tr>\n",
       "      <th>1000723</th>\n",
       "      <td>pop</td>\n",
       "      <td>2001</td>\n",
       "      <td>fall star nothing nothing wrong go think find ...</td>\n",
       "      <td>0.8705</td>\n",
       "      <td>positive</td>\n",
       "    </tr>\n",
       "    <tr>\n",
       "      <th>6177674</th>\n",
       "      <td>rap</td>\n",
       "      <td>2020</td>\n",
       "      <td>verse yeah game game game die cry u always lie...</td>\n",
       "      <td>0.9316</td>\n",
       "      <td>positive</td>\n",
       "    </tr>\n",
       "  </tbody>\n",
       "</table>\n",
       "<p>134967 rows × 5 columns</p>\n",
       "</div>"
      ],
      "text/plain": [
       "             tag  year                                    filtered_lyrics  \\\n",
       "id                                                                          \n",
       "535805      rock  2013  say love mean change mind one day cause see wa...   \n",
       "7519483      rap  2021  hook want want cry face put time work fall mak...   \n",
       "4892808      pop  2019  verse people tell change find hard maybe feel ...   \n",
       "1584150      pop  2013  try get close know want leave take away stay s...   \n",
       "7639050  country     1  verse see end come never like need way even ar...   \n",
       "...          ...   ...                                                ...   \n",
       "1702980      pop  2007  know young old many thing would tell tell say ...   \n",
       "4802970      rap  2019  intro everything chorus bitch god god shit shi...   \n",
       "403929      rock  2014  verse inside home young heart god know make ha...   \n",
       "1000723      pop  2001  fall star nothing nothing wrong go think find ...   \n",
       "6177674      rap  2020  verse yeah game game game die cry u always lie...   \n",
       "\n",
       "         polarity sentiment_label  \n",
       "id                                 \n",
       "535805     0.7717        positive  \n",
       "7519483   -0.9279        negative  \n",
       "4892808    0.4404        positive  \n",
       "1584150    0.4404        positive  \n",
       "7639050    0.8515        positive  \n",
       "...           ...             ...  \n",
       "1702980    0.9783        positive  \n",
       "4802970   -0.9987        negative  \n",
       "403929     0.9781        positive  \n",
       "1000723    0.8705        positive  \n",
       "6177674    0.9316        positive  \n",
       "\n",
       "[134967 rows x 5 columns]"
      ]
     },
     "execution_count": 84,
     "metadata": {},
     "output_type": "execute_result"
    }
   ],
   "source": [
    "emojis_common_df = vader_analysis(common_words_set, emojis_df)\n",
    "emojis_common_df"
   ]
  },
  {
   "cell_type": "markdown",
   "metadata": {},
   "source": [
    "##### 1.3.1 BY GENDER"
   ]
  },
  {
   "cell_type": "code",
   "execution_count": 85,
   "metadata": {},
   "outputs": [
    {
     "data": {
      "text/html": [
       "<div>\n",
       "<style scoped>\n",
       "    .dataframe tbody tr th:only-of-type {\n",
       "        vertical-align: middle;\n",
       "    }\n",
       "\n",
       "    .dataframe tbody tr th {\n",
       "        vertical-align: top;\n",
       "    }\n",
       "\n",
       "    .dataframe thead th {\n",
       "        text-align: right;\n",
       "    }\n",
       "</style>\n",
       "<table border=\"1\" class=\"dataframe\">\n",
       "  <thead>\n",
       "    <tr style=\"text-align: right;\">\n",
       "      <th></th>\n",
       "      <th>tag</th>\n",
       "      <th>polarity</th>\n",
       "      <th>sentiment_label</th>\n",
       "    </tr>\n",
       "  </thead>\n",
       "  <tbody>\n",
       "    <tr>\n",
       "      <th>0</th>\n",
       "      <td>country</td>\n",
       "      <td>0.510474</td>\n",
       "      <td>positive</td>\n",
       "    </tr>\n",
       "    <tr>\n",
       "      <th>1</th>\n",
       "      <td>misc</td>\n",
       "      <td>0.405783</td>\n",
       "      <td>positive</td>\n",
       "    </tr>\n",
       "    <tr>\n",
       "      <th>2</th>\n",
       "      <td>pop</td>\n",
       "      <td>0.372568</td>\n",
       "      <td>positive</td>\n",
       "    </tr>\n",
       "    <tr>\n",
       "      <th>3</th>\n",
       "      <td>rap</td>\n",
       "      <td>-0.027740</td>\n",
       "      <td>neutral</td>\n",
       "    </tr>\n",
       "    <tr>\n",
       "      <th>4</th>\n",
       "      <td>rb</td>\n",
       "      <td>0.504782</td>\n",
       "      <td>positive</td>\n",
       "    </tr>\n",
       "    <tr>\n",
       "      <th>5</th>\n",
       "      <td>rock</td>\n",
       "      <td>0.187713</td>\n",
       "      <td>neutral</td>\n",
       "    </tr>\n",
       "  </tbody>\n",
       "</table>\n",
       "</div>"
      ],
      "text/plain": [
       "       tag  polarity sentiment_label\n",
       "0  country  0.510474        positive\n",
       "1     misc  0.405783        positive\n",
       "2      pop  0.372568        positive\n",
       "3      rap -0.027740         neutral\n",
       "4       rb  0.504782        positive\n",
       "5     rock  0.187713         neutral"
      ]
     },
     "execution_count": 85,
     "metadata": {},
     "output_type": "execute_result"
    }
   ],
   "source": [
    "emojis_common_df_by_gender = polarity_by_gender(emojis_common_df)\n",
    "emojis_common_df_by_gender"
   ]
  },
  {
   "cell_type": "code",
   "execution_count": 86,
   "metadata": {},
   "outputs": [],
   "source": [
    "### rap - neutral"
   ]
  },
  {
   "cell_type": "markdown",
   "metadata": {},
   "source": [
    "### 2. Without Emojis and With Stopwords"
   ]
  },
  {
   "cell_type": "code",
   "execution_count": 87,
   "metadata": {},
   "outputs": [],
   "source": [
    "#### dataset without emojis, and with stopwords\n",
    "stopwords_df = text_preprocessing(train, \"lyrics\", \"tag\")"
   ]
  },
  {
   "cell_type": "markdown",
   "metadata": {},
   "source": [
    "#### 2.1 With Relevant words"
   ]
  },
  {
   "cell_type": "code",
   "execution_count": 88,
   "metadata": {},
   "outputs": [
    {
     "data": {
      "text/html": [
       "<div>\n",
       "<style scoped>\n",
       "    .dataframe tbody tr th:only-of-type {\n",
       "        vertical-align: middle;\n",
       "    }\n",
       "\n",
       "    .dataframe tbody tr th {\n",
       "        vertical-align: top;\n",
       "    }\n",
       "\n",
       "    .dataframe thead th {\n",
       "        text-align: right;\n",
       "    }\n",
       "</style>\n",
       "<table border=\"1\" class=\"dataframe\">\n",
       "  <thead>\n",
       "    <tr style=\"text-align: right;\">\n",
       "      <th></th>\n",
       "      <th>tag</th>\n",
       "      <th>filtered_lyrics</th>\n",
       "      <th>polarity</th>\n",
       "      <th>sentiment_label</th>\n",
       "    </tr>\n",
       "    <tr>\n",
       "      <th>id</th>\n",
       "      <th></th>\n",
       "      <th></th>\n",
       "      <th></th>\n",
       "      <th></th>\n",
       "    </tr>\n",
       "  </thead>\n",
       "  <tbody>\n",
       "    <tr>\n",
       "      <th>535805</th>\n",
       "      <td>rock</td>\n",
       "      <td>say love me mind one day pretend cause walk aw...</td>\n",
       "      <td>0.5859</td>\n",
       "      <td>positive</td>\n",
       "    </tr>\n",
       "    <tr>\n",
       "      <th>7519483</th>\n",
       "      <td>rap</td>\n",
       "      <td>rap hook want hurt want cry put time fall make...</td>\n",
       "      <td>-0.9858</td>\n",
       "      <td>negative</td>\n",
       "    </tr>\n",
       "    <tr>\n",
       "      <th>4892808</th>\n",
       "      <td>pop</td>\n",
       "      <td>verse tell me find hard maybe feel not make we...</td>\n",
       "      <td>-0.7463</td>\n",
       "      <td>negative</td>\n",
       "    </tr>\n",
       "    <tr>\n",
       "      <th>1584150</th>\n",
       "      <td>pop</td>\n",
       "      <td>me not get close know want me leave take im ce...</td>\n",
       "      <td>0.6679</td>\n",
       "      <td>positive</td>\n",
       "    </tr>\n",
       "    <tr>\n",
       "      <th>7639050</th>\n",
       "      <td>country</td>\n",
       "      <td>verse can end come need way around turn soil w...</td>\n",
       "      <td>0.9811</td>\n",
       "      <td>positive</td>\n",
       "    </tr>\n",
       "    <tr>\n",
       "      <th>...</th>\n",
       "      <td>...</td>\n",
       "      <td>...</td>\n",
       "      <td>...</td>\n",
       "      <td>...</td>\n",
       "    </tr>\n",
       "    <tr>\n",
       "      <th>1702980</th>\n",
       "      <td>pop</td>\n",
       "      <td>old thing would not chance tell im sit im say ...</td>\n",
       "      <td>0.9838</td>\n",
       "      <td>positive</td>\n",
       "    </tr>\n",
       "    <tr>\n",
       "      <th>4802970</th>\n",
       "      <td>rap</td>\n",
       "      <td>intro lil cash everything chrome chorus lil li...</td>\n",
       "      <td>-0.9980</td>\n",
       "      <td>negative</td>\n",
       "    </tr>\n",
       "    <tr>\n",
       "      <th>403929</th>\n",
       "      <td>rock</td>\n",
       "      <td>verse inside home boys fight daddy heart stran...</td>\n",
       "      <td>0.9829</td>\n",
       "      <td>positive</td>\n",
       "    </tr>\n",
       "    <tr>\n",
       "      <th>1000723</th>\n",
       "      <td>pop</td>\n",
       "      <td>fall star not me nothing nothing wrong go heav...</td>\n",
       "      <td>-0.8944</td>\n",
       "      <td>negative</td>\n",
       "    </tr>\n",
       "    <tr>\n",
       "      <th>6177674</th>\n",
       "      <td>rap</td>\n",
       "      <td>verse yeah game not playin game game die cry c...</td>\n",
       "      <td>0.9706</td>\n",
       "      <td>positive</td>\n",
       "    </tr>\n",
       "  </tbody>\n",
       "</table>\n",
       "<p>134967 rows × 4 columns</p>\n",
       "</div>"
      ],
      "text/plain": [
       "             tag                                    filtered_lyrics  polarity  \\\n",
       "id                                                                              \n",
       "535805      rock  say love me mind one day pretend cause walk aw...    0.5859   \n",
       "7519483      rap  rap hook want hurt want cry put time fall make...   -0.9858   \n",
       "4892808      pop  verse tell me find hard maybe feel not make we...   -0.7463   \n",
       "1584150      pop  me not get close know want me leave take im ce...    0.6679   \n",
       "7639050  country  verse can end come need way around turn soil w...    0.9811   \n",
       "...          ...                                                ...       ...   \n",
       "1702980      pop  old thing would not chance tell im sit im say ...    0.9838   \n",
       "4802970      rap  intro lil cash everything chrome chorus lil li...   -0.9980   \n",
       "403929      rock  verse inside home boys fight daddy heart stran...    0.9829   \n",
       "1000723      pop  fall star not me nothing nothing wrong go heav...   -0.8944   \n",
       "6177674      rap  verse yeah game not playin game game die cry c...    0.9706   \n",
       "\n",
       "        sentiment_label  \n",
       "id                       \n",
       "535805         positive  \n",
       "7519483        negative  \n",
       "4892808        negative  \n",
       "1584150        positive  \n",
       "7639050        positive  \n",
       "...                 ...  \n",
       "1702980        positive  \n",
       "4802970        negative  \n",
       "403929         positive  \n",
       "1000723        negative  \n",
       "6177674        positive  \n",
       "\n",
       "[134967 rows x 4 columns]"
      ]
     },
     "execution_count": 88,
     "metadata": {},
     "output_type": "execute_result"
    }
   ],
   "source": [
    "stopwords_relevant_df = vader_analysis(relevant_words_set, stopwords_df)\n",
    "stopwords_relevant_df"
   ]
  },
  {
   "cell_type": "markdown",
   "metadata": {},
   "source": [
    "##### 2.1.1 BY GENDER"
   ]
  },
  {
   "cell_type": "code",
   "execution_count": 89,
   "metadata": {},
   "outputs": [
    {
     "data": {
      "text/html": [
       "<div>\n",
       "<style scoped>\n",
       "    .dataframe tbody tr th:only-of-type {\n",
       "        vertical-align: middle;\n",
       "    }\n",
       "\n",
       "    .dataframe tbody tr th {\n",
       "        vertical-align: top;\n",
       "    }\n",
       "\n",
       "    .dataframe thead th {\n",
       "        text-align: right;\n",
       "    }\n",
       "</style>\n",
       "<table border=\"1\" class=\"dataframe\">\n",
       "  <thead>\n",
       "    <tr style=\"text-align: right;\">\n",
       "      <th></th>\n",
       "      <th>tag</th>\n",
       "      <th>polarity</th>\n",
       "      <th>sentiment_label</th>\n",
       "    </tr>\n",
       "  </thead>\n",
       "  <tbody>\n",
       "    <tr>\n",
       "      <th>0</th>\n",
       "      <td>country</td>\n",
       "      <td>0.406706</td>\n",
       "      <td>positive</td>\n",
       "    </tr>\n",
       "    <tr>\n",
       "      <th>1</th>\n",
       "      <td>misc</td>\n",
       "      <td>0.326663</td>\n",
       "      <td>positive</td>\n",
       "    </tr>\n",
       "    <tr>\n",
       "      <th>2</th>\n",
       "      <td>pop</td>\n",
       "      <td>0.284687</td>\n",
       "      <td>positive</td>\n",
       "    </tr>\n",
       "    <tr>\n",
       "      <th>3</th>\n",
       "      <td>rap</td>\n",
       "      <td>-0.203610</td>\n",
       "      <td>negative</td>\n",
       "    </tr>\n",
       "    <tr>\n",
       "      <th>4</th>\n",
       "      <td>rb</td>\n",
       "      <td>0.372365</td>\n",
       "      <td>positive</td>\n",
       "    </tr>\n",
       "    <tr>\n",
       "      <th>5</th>\n",
       "      <td>rock</td>\n",
       "      <td>0.046164</td>\n",
       "      <td>neutral</td>\n",
       "    </tr>\n",
       "  </tbody>\n",
       "</table>\n",
       "</div>"
      ],
      "text/plain": [
       "       tag  polarity sentiment_label\n",
       "0  country  0.406706        positive\n",
       "1     misc  0.326663        positive\n",
       "2      pop  0.284687        positive\n",
       "3      rap -0.203610        negative\n",
       "4       rb  0.372365        positive\n",
       "5     rock  0.046164         neutral"
      ]
     },
     "execution_count": 89,
     "metadata": {},
     "output_type": "execute_result"
    }
   ],
   "source": [
    "stopwords_relevant_df_by_gender = polarity_by_gender(stopwords_relevant_df)\n",
    "stopwords_relevant_df_by_gender"
   ]
  },
  {
   "cell_type": "code",
   "execution_count": 90,
   "metadata": {},
   "outputs": [],
   "source": [
    "### rap - negative"
   ]
  },
  {
   "cell_type": "markdown",
   "metadata": {},
   "source": [
    "#### 2.2 With Relevant + Common words"
   ]
  },
  {
   "cell_type": "code",
   "execution_count": 91,
   "metadata": {},
   "outputs": [
    {
     "data": {
      "text/html": [
       "<div>\n",
       "<style scoped>\n",
       "    .dataframe tbody tr th:only-of-type {\n",
       "        vertical-align: middle;\n",
       "    }\n",
       "\n",
       "    .dataframe tbody tr th {\n",
       "        vertical-align: top;\n",
       "    }\n",
       "\n",
       "    .dataframe thead th {\n",
       "        text-align: right;\n",
       "    }\n",
       "</style>\n",
       "<table border=\"1\" class=\"dataframe\">\n",
       "  <thead>\n",
       "    <tr style=\"text-align: right;\">\n",
       "      <th></th>\n",
       "      <th>tag</th>\n",
       "      <th>filtered_lyrics</th>\n",
       "      <th>polarity</th>\n",
       "      <th>sentiment_label</th>\n",
       "    </tr>\n",
       "    <tr>\n",
       "      <th>id</th>\n",
       "      <th></th>\n",
       "      <th></th>\n",
       "      <th></th>\n",
       "      <th></th>\n",
       "    </tr>\n",
       "  </thead>\n",
       "  <tbody>\n",
       "    <tr>\n",
       "      <th>535805</th>\n",
       "      <td>rock</td>\n",
       "      <td>say love me mean change mind one day pretend c...</td>\n",
       "      <td>0.7430</td>\n",
       "      <td>positive</td>\n",
       "    </tr>\n",
       "    <tr>\n",
       "      <th>7519483</th>\n",
       "      <td>rap</td>\n",
       "      <td>rap hook want hurt want cry face put time work...</td>\n",
       "      <td>-0.9927</td>\n",
       "      <td>negative</td>\n",
       "    </tr>\n",
       "    <tr>\n",
       "      <th>4892808</th>\n",
       "      <td>pop</td>\n",
       "      <td>verse people tell me change find hard maybe fe...</td>\n",
       "      <td>-0.7463</td>\n",
       "      <td>negative</td>\n",
       "    </tr>\n",
       "    <tr>\n",
       "      <th>1584150</th>\n",
       "      <td>pop</td>\n",
       "      <td>me not try get close know want me leave take i...</td>\n",
       "      <td>0.0377</td>\n",
       "      <td>neutral</td>\n",
       "    </tr>\n",
       "    <tr>\n",
       "      <th>7639050</th>\n",
       "      <td>country</td>\n",
       "      <td>verse can see end come never like need way eve...</td>\n",
       "      <td>0.9788</td>\n",
       "      <td>positive</td>\n",
       "    </tr>\n",
       "    <tr>\n",
       "      <th>...</th>\n",
       "      <td>...</td>\n",
       "      <td>...</td>\n",
       "      <td>...</td>\n",
       "      <td>...</td>\n",
       "    </tr>\n",
       "    <tr>\n",
       "      <th>1702980</th>\n",
       "      <td>pop</td>\n",
       "      <td>young old many thing would not chance tell im ...</td>\n",
       "      <td>0.9877</td>\n",
       "      <td>positive</td>\n",
       "    </tr>\n",
       "    <tr>\n",
       "      <th>4802970</th>\n",
       "      <td>rap</td>\n",
       "      <td>intro lil cash everything chrome chorus lil li...</td>\n",
       "      <td>-0.9986</td>\n",
       "      <td>negative</td>\n",
       "    </tr>\n",
       "    <tr>\n",
       "      <th>403929</th>\n",
       "      <td>rock</td>\n",
       "      <td>verse inside home young boys fight daddy heart...</td>\n",
       "      <td>0.9846</td>\n",
       "      <td>positive</td>\n",
       "    </tr>\n",
       "    <tr>\n",
       "      <th>1000723</th>\n",
       "      <td>pop</td>\n",
       "      <td>fall star not me nothing nothing wrong go heav...</td>\n",
       "      <td>-0.8499</td>\n",
       "      <td>negative</td>\n",
       "    </tr>\n",
       "    <tr>\n",
       "      <th>6177674</th>\n",
       "      <td>rap</td>\n",
       "      <td>verse yeah game not playin game game die cry c...</td>\n",
       "      <td>0.9001</td>\n",
       "      <td>positive</td>\n",
       "    </tr>\n",
       "  </tbody>\n",
       "</table>\n",
       "<p>134967 rows × 4 columns</p>\n",
       "</div>"
      ],
      "text/plain": [
       "             tag                                    filtered_lyrics  polarity  \\\n",
       "id                                                                              \n",
       "535805      rock  say love me mean change mind one day pretend c...    0.7430   \n",
       "7519483      rap  rap hook want hurt want cry face put time work...   -0.9927   \n",
       "4892808      pop  verse people tell me change find hard maybe fe...   -0.7463   \n",
       "1584150      pop  me not try get close know want me leave take i...    0.0377   \n",
       "7639050  country  verse can see end come never like need way eve...    0.9788   \n",
       "...          ...                                                ...       ...   \n",
       "1702980      pop  young old many thing would not chance tell im ...    0.9877   \n",
       "4802970      rap  intro lil cash everything chrome chorus lil li...   -0.9986   \n",
       "403929      rock  verse inside home young boys fight daddy heart...    0.9846   \n",
       "1000723      pop  fall star not me nothing nothing wrong go heav...   -0.8499   \n",
       "6177674      rap  verse yeah game not playin game game die cry c...    0.9001   \n",
       "\n",
       "        sentiment_label  \n",
       "id                       \n",
       "535805         positive  \n",
       "7519483        negative  \n",
       "4892808        negative  \n",
       "1584150         neutral  \n",
       "7639050        positive  \n",
       "...                 ...  \n",
       "1702980        positive  \n",
       "4802970        negative  \n",
       "403929         positive  \n",
       "1000723        negative  \n",
       "6177674        positive  \n",
       "\n",
       "[134967 rows x 4 columns]"
      ]
     },
     "execution_count": 91,
     "metadata": {},
     "output_type": "execute_result"
    }
   ],
   "source": [
    "# stopwords_relevant_common_df = vader_analysis(relevant_common_words_set, stopwords_df)\n",
    "# stopwords_relevant_common_df"
   ]
  },
  {
   "cell_type": "markdown",
   "metadata": {},
   "source": [
    "##### 2.2.1 BY GENDER"
   ]
  },
  {
   "cell_type": "code",
   "execution_count": 92,
   "metadata": {},
   "outputs": [
    {
     "data": {
      "text/html": [
       "<div>\n",
       "<style scoped>\n",
       "    .dataframe tbody tr th:only-of-type {\n",
       "        vertical-align: middle;\n",
       "    }\n",
       "\n",
       "    .dataframe tbody tr th {\n",
       "        vertical-align: top;\n",
       "    }\n",
       "\n",
       "    .dataframe thead th {\n",
       "        text-align: right;\n",
       "    }\n",
       "</style>\n",
       "<table border=\"1\" class=\"dataframe\">\n",
       "  <thead>\n",
       "    <tr style=\"text-align: right;\">\n",
       "      <th></th>\n",
       "      <th>tag</th>\n",
       "      <th>polarity</th>\n",
       "      <th>sentiment_label</th>\n",
       "    </tr>\n",
       "  </thead>\n",
       "  <tbody>\n",
       "    <tr>\n",
       "      <th>0</th>\n",
       "      <td>country</td>\n",
       "      <td>0.433980</td>\n",
       "      <td>positive</td>\n",
       "    </tr>\n",
       "    <tr>\n",
       "      <th>1</th>\n",
       "      <td>misc</td>\n",
       "      <td>0.368747</td>\n",
       "      <td>positive</td>\n",
       "    </tr>\n",
       "    <tr>\n",
       "      <th>2</th>\n",
       "      <td>pop</td>\n",
       "      <td>0.314675</td>\n",
       "      <td>positive</td>\n",
       "    </tr>\n",
       "    <tr>\n",
       "      <th>3</th>\n",
       "      <td>rap</td>\n",
       "      <td>-0.070180</td>\n",
       "      <td>neutral</td>\n",
       "    </tr>\n",
       "    <tr>\n",
       "      <th>4</th>\n",
       "      <td>rb</td>\n",
       "      <td>0.418076</td>\n",
       "      <td>positive</td>\n",
       "    </tr>\n",
       "    <tr>\n",
       "      <th>5</th>\n",
       "      <td>rock</td>\n",
       "      <td>0.072404</td>\n",
       "      <td>neutral</td>\n",
       "    </tr>\n",
       "  </tbody>\n",
       "</table>\n",
       "</div>"
      ],
      "text/plain": [
       "       tag  polarity sentiment_label\n",
       "0  country  0.433980        positive\n",
       "1     misc  0.368747        positive\n",
       "2      pop  0.314675        positive\n",
       "3      rap -0.070180         neutral\n",
       "4       rb  0.418076        positive\n",
       "5     rock  0.072404         neutral"
      ]
     },
     "execution_count": 92,
     "metadata": {},
     "output_type": "execute_result"
    }
   ],
   "source": [
    "stopwords_relevant_common_df_by_gender = polarity_by_gender(stopwords_relevant_common_df)\n",
    "stopwords_relevant_common_df_by_gender"
   ]
  },
  {
   "cell_type": "code",
   "execution_count": 93,
   "metadata": {},
   "outputs": [],
   "source": [
    "### rap - neutral"
   ]
  },
  {
   "cell_type": "markdown",
   "metadata": {},
   "source": [
    "#### 2.3 With Common words"
   ]
  },
  {
   "cell_type": "code",
   "execution_count": 94,
   "metadata": {},
   "outputs": [
    {
     "data": {
      "text/html": [
       "<div>\n",
       "<style scoped>\n",
       "    .dataframe tbody tr th:only-of-type {\n",
       "        vertical-align: middle;\n",
       "    }\n",
       "\n",
       "    .dataframe tbody tr th {\n",
       "        vertical-align: top;\n",
       "    }\n",
       "\n",
       "    .dataframe thead th {\n",
       "        text-align: right;\n",
       "    }\n",
       "</style>\n",
       "<table border=\"1\" class=\"dataframe\">\n",
       "  <thead>\n",
       "    <tr style=\"text-align: right;\">\n",
       "      <th></th>\n",
       "      <th>tag</th>\n",
       "      <th>filtered_lyrics</th>\n",
       "      <th>polarity</th>\n",
       "      <th>sentiment_label</th>\n",
       "    </tr>\n",
       "    <tr>\n",
       "      <th>id</th>\n",
       "      <th></th>\n",
       "      <th></th>\n",
       "      <th></th>\n",
       "      <th></th>\n",
       "    </tr>\n",
       "  </thead>\n",
       "  <tbody>\n",
       "    <tr>\n",
       "      <th>535805</th>\n",
       "      <td>rock</td>\n",
       "      <td>say love mean change mind one day cause see wa...</td>\n",
       "      <td>0.7717</td>\n",
       "      <td>positive</td>\n",
       "    </tr>\n",
       "    <tr>\n",
       "      <th>7519483</th>\n",
       "      <td>rap</td>\n",
       "      <td>hook want want cry face put time work fall mak...</td>\n",
       "      <td>-0.8902</td>\n",
       "      <td>negative</td>\n",
       "    </tr>\n",
       "    <tr>\n",
       "      <th>4892808</th>\n",
       "      <td>pop</td>\n",
       "      <td>verse people tell change find hard maybe feel ...</td>\n",
       "      <td>-0.7871</td>\n",
       "      <td>negative</td>\n",
       "    </tr>\n",
       "    <tr>\n",
       "      <th>1584150</th>\n",
       "      <td>pop</td>\n",
       "      <td>not try get close know want leave take im im a...</td>\n",
       "      <td>-0.8372</td>\n",
       "      <td>negative</td>\n",
       "    </tr>\n",
       "    <tr>\n",
       "      <th>7639050</th>\n",
       "      <td>country</td>\n",
       "      <td>verse can see end come never like need way eve...</td>\n",
       "      <td>0.9501</td>\n",
       "      <td>positive</td>\n",
       "    </tr>\n",
       "    <tr>\n",
       "      <th>...</th>\n",
       "      <td>...</td>\n",
       "      <td>...</td>\n",
       "      <td>...</td>\n",
       "      <td>...</td>\n",
       "    </tr>\n",
       "    <tr>\n",
       "      <th>1702980</th>\n",
       "      <td>pop</td>\n",
       "      <td>young old many thing would not tell im im say ...</td>\n",
       "      <td>0.9840</td>\n",
       "      <td>positive</td>\n",
       "    </tr>\n",
       "    <tr>\n",
       "      <th>4802970</th>\n",
       "      <td>rap</td>\n",
       "      <td>intro everything chorus bitch im god god see k...</td>\n",
       "      <td>-0.9986</td>\n",
       "      <td>negative</td>\n",
       "    </tr>\n",
       "    <tr>\n",
       "      <th>403929</th>\n",
       "      <td>rock</td>\n",
       "      <td>verse inside home young fight heart god know m...</td>\n",
       "      <td>0.9738</td>\n",
       "      <td>positive</td>\n",
       "    </tr>\n",
       "    <tr>\n",
       "      <th>1000723</th>\n",
       "      <td>pop</td>\n",
       "      <td>fall star not nothing nothing wrong go think f...</td>\n",
       "      <td>0.5651</td>\n",
       "      <td>positive</td>\n",
       "    </tr>\n",
       "    <tr>\n",
       "      <th>6177674</th>\n",
       "      <td>rap</td>\n",
       "      <td>verse yeah game not game game die cry u always...</td>\n",
       "      <td>0.9354</td>\n",
       "      <td>positive</td>\n",
       "    </tr>\n",
       "  </tbody>\n",
       "</table>\n",
       "<p>134967 rows × 4 columns</p>\n",
       "</div>"
      ],
      "text/plain": [
       "             tag                                    filtered_lyrics  polarity  \\\n",
       "id                                                                              \n",
       "535805      rock  say love mean change mind one day cause see wa...    0.7717   \n",
       "7519483      rap  hook want want cry face put time work fall mak...   -0.8902   \n",
       "4892808      pop  verse people tell change find hard maybe feel ...   -0.7871   \n",
       "1584150      pop  not try get close know want leave take im im a...   -0.8372   \n",
       "7639050  country  verse can see end come never like need way eve...    0.9501   \n",
       "...          ...                                                ...       ...   \n",
       "1702980      pop  young old many thing would not tell im im say ...    0.9840   \n",
       "4802970      rap  intro everything chorus bitch im god god see k...   -0.9986   \n",
       "403929      rock  verse inside home young fight heart god know m...    0.9738   \n",
       "1000723      pop  fall star not nothing nothing wrong go think f...    0.5651   \n",
       "6177674      rap  verse yeah game not game game die cry u always...    0.9354   \n",
       "\n",
       "        sentiment_label  \n",
       "id                       \n",
       "535805         positive  \n",
       "7519483        negative  \n",
       "4892808        negative  \n",
       "1584150        negative  \n",
       "7639050        positive  \n",
       "...                 ...  \n",
       "1702980        positive  \n",
       "4802970        negative  \n",
       "403929         positive  \n",
       "1000723        positive  \n",
       "6177674        positive  \n",
       "\n",
       "[134967 rows x 4 columns]"
      ]
     },
     "execution_count": 94,
     "metadata": {},
     "output_type": "execute_result"
    }
   ],
   "source": [
    "stopwords_common_df = vader_analysis(common_words_set, stopwords_df)\n",
    "stopwords_common_df"
   ]
  },
  {
   "cell_type": "markdown",
   "metadata": {},
   "source": [
    "##### 2.3.1 BY GENDER"
   ]
  },
  {
   "cell_type": "code",
   "execution_count": 95,
   "metadata": {},
   "outputs": [
    {
     "data": {
      "text/html": [
       "<div>\n",
       "<style scoped>\n",
       "    .dataframe tbody tr th:only-of-type {\n",
       "        vertical-align: middle;\n",
       "    }\n",
       "\n",
       "    .dataframe tbody tr th {\n",
       "        vertical-align: top;\n",
       "    }\n",
       "\n",
       "    .dataframe thead th {\n",
       "        text-align: right;\n",
       "    }\n",
       "</style>\n",
       "<table border=\"1\" class=\"dataframe\">\n",
       "  <thead>\n",
       "    <tr style=\"text-align: right;\">\n",
       "      <th></th>\n",
       "      <th>tag</th>\n",
       "      <th>polarity</th>\n",
       "      <th>sentiment_label</th>\n",
       "    </tr>\n",
       "  </thead>\n",
       "  <tbody>\n",
       "    <tr>\n",
       "      <th>0</th>\n",
       "      <td>country</td>\n",
       "      <td>0.415798</td>\n",
       "      <td>positive</td>\n",
       "    </tr>\n",
       "    <tr>\n",
       "      <th>1</th>\n",
       "      <td>misc</td>\n",
       "      <td>0.317826</td>\n",
       "      <td>positive</td>\n",
       "    </tr>\n",
       "    <tr>\n",
       "      <th>2</th>\n",
       "      <td>pop</td>\n",
       "      <td>0.303168</td>\n",
       "      <td>positive</td>\n",
       "    </tr>\n",
       "    <tr>\n",
       "      <th>3</th>\n",
       "      <td>rap</td>\n",
       "      <td>-0.005496</td>\n",
       "      <td>neutral</td>\n",
       "    </tr>\n",
       "    <tr>\n",
       "      <th>4</th>\n",
       "      <td>rb</td>\n",
       "      <td>0.409664</td>\n",
       "      <td>positive</td>\n",
       "    </tr>\n",
       "    <tr>\n",
       "      <th>5</th>\n",
       "      <td>rock</td>\n",
       "      <td>0.141662</td>\n",
       "      <td>neutral</td>\n",
       "    </tr>\n",
       "  </tbody>\n",
       "</table>\n",
       "</div>"
      ],
      "text/plain": [
       "       tag  polarity sentiment_label\n",
       "0  country  0.415798        positive\n",
       "1     misc  0.317826        positive\n",
       "2      pop  0.303168        positive\n",
       "3      rap -0.005496         neutral\n",
       "4       rb  0.409664        positive\n",
       "5     rock  0.141662         neutral"
      ]
     },
     "execution_count": 95,
     "metadata": {},
     "output_type": "execute_result"
    }
   ],
   "source": [
    "stopwords_common_df_by_gender = polarity_by_gender(stopwords_common_df)\n",
    "stopwords_common_df_by_gender"
   ]
  },
  {
   "cell_type": "code",
   "execution_count": 96,
   "metadata": {},
   "outputs": [],
   "source": [
    "### rap - neutral"
   ]
  },
  {
   "cell_type": "markdown",
   "metadata": {},
   "source": [
    "## Comparissons"
   ]
  },
  {
   "cell_type": "code",
   "execution_count": 97,
   "metadata": {},
   "outputs": [],
   "source": [
    "def sentiment_differences_across_genres(dataframes, titles, ncols):\n",
    "\n",
    "    # Set up subplots\n",
    "    fig, axes = plt.subplots(nrows=1, ncols=ncols, figsize=(18, 6))\n",
    "\n",
    "    # Plot each DataFrame\n",
    "    for i, (df, title) in enumerate(zip(dataframes, titles)):\n",
    "        sns.barplot(x='tag', y='polarity', data=df, ax=axes[i])\n",
    "        axes[i].set_title(f'Sentiment Differences ({title})')\n",
    "        axes[i].set_xlabel('Genre')\n",
    "        axes[i].set_ylabel('Mean Sentiment Score')\n",
    "\n",
    "    # Adjust layout for better spacing\n",
    "    plt.tight_layout()\n",
    "\n",
    "    # Show the plot\n",
    "    plt.show()"
   ]
  },
  {
   "cell_type": "markdown",
   "metadata": {},
   "source": [
    "#### With Emojis and Without Stopwords"
   ]
  },
  {
   "cell_type": "markdown",
   "metadata": {},
   "source": [
    "relevant VS revelant + common VS common"
   ]
  },
  {
   "cell_type": "code",
   "execution_count": 98,
   "metadata": {},
   "outputs": [],
   "source": [
    "# emojis_relevant_df_by_gender\n",
    "# emojis_relevant_common_df_by_gender\n",
    "# emojis_common_df_by_gender"
   ]
  },
  {
   "cell_type": "code",
   "execution_count": 99,
   "metadata": {},
   "outputs": [
    {
     "data": {
      "image/png": "[encoded data removed]",
      "text/plain": [
       "<Figure size 1800x600 with 3 Axes>"
      ]
     },
     "metadata": {},
     "output_type": "display_data"
    }
   ],
   "source": [
    "dataframes = [emojis_relevant_df_by_gender, emojis_relevant_common_df_by_gender, emojis_common_df_by_gender]\n",
    "titles = ['Relevant', 'Relevant + Common', 'Common']\n",
    "\n",
    "sentiment_differences_across_genres(dataframes, titles, ncols=3)"
   ]
  },
  {
   "cell_type": "markdown",
   "metadata": {},
   "source": [
    "#### Without Emojis and With Stopwords"
   ]
  },
  {
   "cell_type": "markdown",
   "metadata": {},
   "source": [
    "relevant VS revelant + common VS common"
   ]
  },
  {
   "cell_type": "code",
   "execution_count": 100,
   "metadata": {},
   "outputs": [],
   "source": [
    "# stopwords_relevant_df_by_gender\n",
    "# stopwords_relevant_common_df_by_gender\n",
    "# stopwords_common_df_by_gender"
   ]
  },
  {
   "cell_type": "code",
   "execution_count": 101,
   "metadata": {},
   "outputs": [
    {
     "data": {
      "image/png": "[encoded data removed]",
      "text/plain": [
       "<Figure size 1800x600 with 3 Axes>"
      ]
     },
     "metadata": {},
     "output_type": "display_data"
    }
   ],
   "source": [
    "dataframes = [stopwords_relevant_df_by_gender, stopwords_relevant_common_df_by_gender, stopwords_common_df_by_gender]\n",
    "titles = ['Relevant', 'Relevant + Common', 'Common']\n",
    "\n",
    "sentiment_differences_across_genres(dataframes, titles, ncols=3)"
   ]
  },
  {
   "cell_type": "markdown",
   "metadata": {},
   "source": [
    "#### Relevant"
   ]
  },
  {
   "cell_type": "markdown",
   "metadata": {},
   "source": [
    "With Emojis and Without Stopwords VS Without Emojis and With Stopwords"
   ]
  },
  {
   "cell_type": "code",
   "execution_count": 102,
   "metadata": {},
   "outputs": [
    {
     "data": {
      "image/png": "[encoded data removed]",
      "text/plain": [
       "<Figure size 1800x600 with 2 Axes>"
      ]
     },
     "metadata": {},
     "output_type": "display_data"
    }
   ],
   "source": [
    "dataframes = [emojis_relevant_df, stopwords_relevant_df]\n",
    "titles = ['With Emojis and Without Stopwords', 'Without Emojis and With Stopwords']\n",
    "\n",
    "sentiment_differences_across_genres(dataframes, titles, ncols=2)"
   ]
  },
  {
   "cell_type": "markdown",
   "metadata": {},
   "source": [
    "#### Revelant + Common"
   ]
  },
  {
   "cell_type": "markdown",
   "metadata": {},
   "source": [
    "With Emojis and Without Stopwords VS Without Emojis and With Stopwords"
   ]
  },
  {
   "cell_type": "code",
   "execution_count": 103,
   "metadata": {},
   "outputs": [
    {
     "data": {
      "image/png": "[encoded data removed]",
      "text/plain": [
       "<Figure size 1800x600 with 2 Axes>"
      ]
     },
     "metadata": {},
     "output_type": "display_data"
    }
   ],
   "source": [
    "dataframes = [emojis_relevant_common_df, stopwords_relevant_common_df]\n",
    "titles = ['With Emojis and Without Stopwords', 'Without Emojis and With Stopwords']\n",
    "\n",
    "sentiment_differences_across_genres(dataframes, titles, ncols=2)"
   ]
  },
  {
   "cell_type": "markdown",
   "metadata": {},
   "source": [
    "#### Common"
   ]
  },
  {
   "cell_type": "markdown",
   "metadata": {},
   "source": [
    "With Emojis and Without Stopwords VS Without Emojis and With Stopwords"
   ]
  },
  {
   "cell_type": "code",
   "execution_count": 104,
   "metadata": {},
   "outputs": [
    {
     "data": {
      "image/png": "[encoded data removed]",
      "text/plain": [
       "<Figure size 1800x600 with 2 Axes>"
      ]
     },
     "metadata": {},
     "output_type": "display_data"
    }
   ],
   "source": [
    "dataframes = [emojis_common_df, stopwords_common_df]\n",
    "titles = ['With Emojis and Without Stopwords', 'Without Emojis and With Stopwords']\n",
    "\n",
    "sentiment_differences_across_genres(dataframes, titles, ncols=2)"
   ]
  },
  {
   "cell_type": "markdown",
   "metadata": {},
   "source": [
    "### TextBlob"
   ]
  },
  {
   "cell_type": "code",
   "execution_count": 105,
   "metadata": {},
   "outputs": [],
   "source": [
    "def textblob_analysis(word_set, df):\n",
    "\n",
    "    # filter lyrics\n",
    "    df['filtered_lyrics'] = df['lyrics'].apply(lambda x: filter_lyrics(x, word_set))\n",
    "\n",
    "    df['polarity'] = df['filtered_lyrics'].apply(lambda x: TextBlob(x).sentiment.polarity)    \n",
    "\n",
    "    # for lyric in df['filtered_lyrics']:\n",
    "    #     analysis = TextBlob(lyric)\n",
    "    #     analysis.sentiment  \t    \n",
    "\n",
    "    # extract the label\n",
    "    df['sentiment_label'] = np.select(\n",
    "    [df['polarity'] < -0.2, df['polarity'] > 0.2],\n",
    "    ['negative', 'positive'],\n",
    "    default='neutral')\n",
    "    \n",
    "    df = df.drop(\"lyrics\", axis=1)\n",
    "\n",
    "    return df\n",
    "\n",
    "    # return analysis.sentiment.polarity"
   ]
  },
  {
   "cell_type": "markdown",
   "metadata": {},
   "source": [
    "### 1. With Emojis and Without Stopwords"
   ]
  },
  {
   "cell_type": "code",
   "execution_count": 106,
   "metadata": {},
   "outputs": [
    {
     "data": {
      "text/html": [
       "<div>\n",
       "<style scoped>\n",
       "    .dataframe tbody tr th:only-of-type {\n",
       "        vertical-align: middle;\n",
       "    }\n",
       "\n",
       "    .dataframe tbody tr th {\n",
       "        vertical-align: top;\n",
       "    }\n",
       "\n",
       "    .dataframe thead th {\n",
       "        text-align: right;\n",
       "    }\n",
       "</style>\n",
       "<table border=\"1\" class=\"dataframe\">\n",
       "  <thead>\n",
       "    <tr style=\"text-align: right;\">\n",
       "      <th></th>\n",
       "      <th>lyrics</th>\n",
       "      <th>tag</th>\n",
       "      <th>year</th>\n",
       "      <th>filtered_lyrics</th>\n",
       "      <th>polarity</th>\n",
       "      <th>sentiment_label</th>\n",
       "    </tr>\n",
       "    <tr>\n",
       "      <th>id</th>\n",
       "      <th></th>\n",
       "      <th></th>\n",
       "      <th></th>\n",
       "      <th></th>\n",
       "      <th></th>\n",
       "      <th></th>\n",
       "    </tr>\n",
       "  </thead>\n",
       "  <tbody>\n",
       "    <tr>\n",
       "      <th>535805</th>\n",
       "      <td>say love mean change mind one day pretend caus...</td>\n",
       "      <td>rock</td>\n",
       "      <td>2013</td>\n",
       "      <td>say love mean change mind one day cause see wa...</td>\n",
       "      <td>0.7717</td>\n",
       "      <td>positive</td>\n",
       "    </tr>\n",
       "    <tr>\n",
       "      <th>7519483</th>\n",
       "      <td>kid naruto rap hook everybody want hurt everyb...</td>\n",
       "      <td>rap</td>\n",
       "      <td>2021</td>\n",
       "      <td>hook want want cry face put time work fall mak...</td>\n",
       "      <td>-0.9279</td>\n",
       "      <td>negative</td>\n",
       "    </tr>\n",
       "    <tr>\n",
       "      <th>4892808</th>\n",
       "      <td>verse people tell change find hard explain may...</td>\n",
       "      <td>pop</td>\n",
       "      <td>2019</td>\n",
       "      <td>verse people tell change find hard maybe feel ...</td>\n",
       "      <td>0.4404</td>\n",
       "      <td>positive</td>\n",
       "    </tr>\n",
       "    <tr>\n",
       "      <th>1584150</th>\n",
       "      <td>warn try get close know want chain leave ghost...</td>\n",
       "      <td>pop</td>\n",
       "      <td>2013</td>\n",
       "      <td>try get close know want leave take away stay s...</td>\n",
       "      <td>0.4404</td>\n",
       "      <td>positive</td>\n",
       "    </tr>\n",
       "    <tr>\n",
       "      <th>7639050</th>\n",
       "      <td>verse see end come never like odds need way ev...</td>\n",
       "      <td>country</td>\n",
       "      <td>1</td>\n",
       "      <td>verse see end come never like need way even ar...</td>\n",
       "      <td>0.8515</td>\n",
       "      <td>positive</td>\n",
       "    </tr>\n",
       "    <tr>\n",
       "      <th>...</th>\n",
       "      <td>...</td>\n",
       "      <td>...</td>\n",
       "      <td>...</td>\n",
       "      <td>...</td>\n",
       "      <td>...</td>\n",
       "      <td>...</td>\n",
       "    </tr>\n",
       "    <tr>\n",
       "      <th>1702980</th>\n",
       "      <td>know young old many thing would tell chance te...</td>\n",
       "      <td>pop</td>\n",
       "      <td>2007</td>\n",
       "      <td>know young old many thing would tell tell say ...</td>\n",
       "      <td>0.9783</td>\n",
       "      <td>positive</td>\n",
       "    </tr>\n",
       "    <tr>\n",
       "      <th>4802970</th>\n",
       "      <td>intro lil gotit cash wah wah wah wah wah wah e...</td>\n",
       "      <td>rap</td>\n",
       "      <td>2019</td>\n",
       "      <td>intro everything chorus bitch god god shit shi...</td>\n",
       "      <td>-0.9987</td>\n",
       "      <td>negative</td>\n",
       "    </tr>\n",
       "    <tr>\n",
       "      <th>403929</th>\n",
       "      <td>verse bear inside home young three boys fought...</td>\n",
       "      <td>rock</td>\n",
       "      <td>2014</td>\n",
       "      <td>verse inside home young heart god know make ha...</td>\n",
       "      <td>0.9781</td>\n",
       "      <td>positive</td>\n",
       "    </tr>\n",
       "    <tr>\n",
       "      <th>1000723</th>\n",
       "      <td>rollin pool fall star condescend twin nothing ...</td>\n",
       "      <td>pop</td>\n",
       "      <td>2001</td>\n",
       "      <td>fall star nothing nothing wrong go think find ...</td>\n",
       "      <td>0.8705</td>\n",
       "      <td>positive</td>\n",
       "    </tr>\n",
       "    <tr>\n",
       "      <th>6177674</th>\n",
       "      <td>verse godlyrisktaker yeah epic game playin gam...</td>\n",
       "      <td>rap</td>\n",
       "      <td>2020</td>\n",
       "      <td>verse yeah game game game die cry u always lie...</td>\n",
       "      <td>0.9316</td>\n",
       "      <td>positive</td>\n",
       "    </tr>\n",
       "  </tbody>\n",
       "</table>\n",
       "<p>134967 rows × 6 columns</p>\n",
       "</div>"
      ],
      "text/plain": [
       "                                                    lyrics      tag  year  \\\n",
       "id                                                                          \n",
       "535805   say love mean change mind one day pretend caus...     rock  2013   \n",
       "7519483  kid naruto rap hook everybody want hurt everyb...      rap  2021   \n",
       "4892808  verse people tell change find hard explain may...      pop  2019   \n",
       "1584150  warn try get close know want chain leave ghost...      pop  2013   \n",
       "7639050  verse see end come never like odds need way ev...  country     1   \n",
       "...                                                    ...      ...   ...   \n",
       "1702980  know young old many thing would tell chance te...      pop  2007   \n",
       "4802970  intro lil gotit cash wah wah wah wah wah wah e...      rap  2019   \n",
       "403929   verse bear inside home young three boys fought...     rock  2014   \n",
       "1000723  rollin pool fall star condescend twin nothing ...      pop  2001   \n",
       "6177674  verse godlyrisktaker yeah epic game playin gam...      rap  2020   \n",
       "\n",
       "                                           filtered_lyrics  polarity  \\\n",
       "id                                                                     \n",
       "535805   say love mean change mind one day cause see wa...    0.7717   \n",
       "7519483  hook want want cry face put time work fall mak...   -0.9279   \n",
       "4892808  verse people tell change find hard maybe feel ...    0.4404   \n",
       "1584150  try get close know want leave take away stay s...    0.4404   \n",
       "7639050  verse see end come never like need way even ar...    0.8515   \n",
       "...                                                    ...       ...   \n",
       "1702980  know young old many thing would tell tell say ...    0.9783   \n",
       "4802970  intro everything chorus bitch god god shit shi...   -0.9987   \n",
       "403929   verse inside home young heart god know make ha...    0.9781   \n",
       "1000723  fall star nothing nothing wrong go think find ...    0.8705   \n",
       "6177674  verse yeah game game game die cry u always lie...    0.9316   \n",
       "\n",
       "        sentiment_label  \n",
       "id                       \n",
       "535805         positive  \n",
       "7519483        negative  \n",
       "4892808        positive  \n",
       "1584150        positive  \n",
       "7639050        positive  \n",
       "...                 ...  \n",
       "1702980        positive  \n",
       "4802970        negative  \n",
       "403929         positive  \n",
       "1000723        positive  \n",
       "6177674        positive  \n",
       "\n",
       "[134967 rows x 6 columns]"
      ]
     },
     "execution_count": 106,
     "metadata": {},
     "output_type": "execute_result"
    }
   ],
   "source": [
    "emojis_df2 = lyrics_preproc.copy()\n",
    "emojis_df2"
   ]
  },
  {
   "cell_type": "markdown",
   "metadata": {},
   "source": [
    "#### 1.1 With Relevant words"
   ]
  },
  {
   "cell_type": "code",
   "execution_count": 107,
   "metadata": {},
   "outputs": [
    {
     "data": {
      "text/html": [
       "<div>\n",
       "<style scoped>\n",
       "    .dataframe tbody tr th:only-of-type {\n",
       "        vertical-align: middle;\n",
       "    }\n",
       "\n",
       "    .dataframe tbody tr th {\n",
       "        vertical-align: top;\n",
       "    }\n",
       "\n",
       "    .dataframe thead th {\n",
       "        text-align: right;\n",
       "    }\n",
       "</style>\n",
       "<table border=\"1\" class=\"dataframe\">\n",
       "  <thead>\n",
       "    <tr style=\"text-align: right;\">\n",
       "      <th></th>\n",
       "      <th>tag</th>\n",
       "      <th>year</th>\n",
       "      <th>filtered_lyrics</th>\n",
       "      <th>polarity</th>\n",
       "      <th>sentiment_label</th>\n",
       "    </tr>\n",
       "    <tr>\n",
       "      <th>id</th>\n",
       "      <th></th>\n",
       "      <th></th>\n",
       "      <th></th>\n",
       "      <th></th>\n",
       "      <th></th>\n",
       "    </tr>\n",
       "  </thead>\n",
       "  <tbody>\n",
       "    <tr>\n",
       "      <th>535805</th>\n",
       "      <td>rock</td>\n",
       "      <td>2013</td>\n",
       "      <td>say love mind one day pretend cause walk away ...</td>\n",
       "      <td>0.500000</td>\n",
       "      <td>positive</td>\n",
       "    </tr>\n",
       "    <tr>\n",
       "      <th>7519483</th>\n",
       "      <td>rap</td>\n",
       "      <td>2021</td>\n",
       "      <td>rap hook want hurt want cry put time fall make...</td>\n",
       "      <td>0.180952</td>\n",
       "      <td>neutral</td>\n",
       "    </tr>\n",
       "    <tr>\n",
       "      <th>4892808</th>\n",
       "      <td>pop</td>\n",
       "      <td>2019</td>\n",
       "      <td>verse tell find hard maybe feel know make well...</td>\n",
       "      <td>0.237925</td>\n",
       "      <td>positive</td>\n",
       "    </tr>\n",
       "    <tr>\n",
       "      <th>1584150</th>\n",
       "      <td>pop</td>\n",
       "      <td>2013</td>\n",
       "      <td>get close know want leave take certain fallin ...</td>\n",
       "      <td>-0.091005</td>\n",
       "      <td>neutral</td>\n",
       "    </tr>\n",
       "    <tr>\n",
       "      <th>7639050</th>\n",
       "      <td>country</td>\n",
       "      <td>1</td>\n",
       "      <td>verse end come need way around soil take steel...</td>\n",
       "      <td>0.625000</td>\n",
       "      <td>positive</td>\n",
       "    </tr>\n",
       "    <tr>\n",
       "      <th>...</th>\n",
       "      <td>...</td>\n",
       "      <td>...</td>\n",
       "      <td>...</td>\n",
       "      <td>...</td>\n",
       "      <td>...</td>\n",
       "    </tr>\n",
       "    <tr>\n",
       "      <th>1702980</th>\n",
       "      <td>pop</td>\n",
       "      <td>2007</td>\n",
       "      <td>know old thing would tell chance tell sit crow...</td>\n",
       "      <td>0.328571</td>\n",
       "      <td>positive</td>\n",
       "    </tr>\n",
       "    <tr>\n",
       "      <th>4802970</th>\n",
       "      <td>rap</td>\n",
       "      <td>2019</td>\n",
       "      <td>intro lil cash wah wah wah wah wah wah everyth...</td>\n",
       "      <td>0.063240</td>\n",
       "      <td>neutral</td>\n",
       "    </tr>\n",
       "    <tr>\n",
       "      <th>403929</th>\n",
       "      <td>rock</td>\n",
       "      <td>2014</td>\n",
       "      <td>verse bear inside home boys fought daddy heart...</td>\n",
       "      <td>0.192949</td>\n",
       "      <td>neutral</td>\n",
       "    </tr>\n",
       "    <tr>\n",
       "      <th>1000723</th>\n",
       "      <td>pop</td>\n",
       "      <td>2001</td>\n",
       "      <td>fall star nothing nothing wrong go heaven thin...</td>\n",
       "      <td>0.050000</td>\n",
       "      <td>neutral</td>\n",
       "    </tr>\n",
       "    <tr>\n",
       "      <th>6177674</th>\n",
       "      <td>rap</td>\n",
       "      <td>2020</td>\n",
       "      <td>verse yeah game playin game game die cry cuz u...</td>\n",
       "      <td>-0.161822</td>\n",
       "      <td>neutral</td>\n",
       "    </tr>\n",
       "  </tbody>\n",
       "</table>\n",
       "<p>134967 rows × 5 columns</p>\n",
       "</div>"
      ],
      "text/plain": [
       "             tag  year                                    filtered_lyrics  \\\n",
       "id                                                                          \n",
       "535805      rock  2013  say love mind one day pretend cause walk away ...   \n",
       "7519483      rap  2021  rap hook want hurt want cry put time fall make...   \n",
       "4892808      pop  2019  verse tell find hard maybe feel know make well...   \n",
       "1584150      pop  2013  get close know want leave take certain fallin ...   \n",
       "7639050  country     1  verse end come need way around soil take steel...   \n",
       "...          ...   ...                                                ...   \n",
       "1702980      pop  2007  know old thing would tell chance tell sit crow...   \n",
       "4802970      rap  2019  intro lil cash wah wah wah wah wah wah everyth...   \n",
       "403929      rock  2014  verse bear inside home boys fought daddy heart...   \n",
       "1000723      pop  2001  fall star nothing nothing wrong go heaven thin...   \n",
       "6177674      rap  2020  verse yeah game playin game game die cry cuz u...   \n",
       "\n",
       "         polarity sentiment_label  \n",
       "id                                 \n",
       "535805   0.500000        positive  \n",
       "7519483  0.180952         neutral  \n",
       "4892808  0.237925        positive  \n",
       "1584150 -0.091005         neutral  \n",
       "7639050  0.625000        positive  \n",
       "...           ...             ...  \n",
       "1702980  0.328571        positive  \n",
       "4802970  0.063240         neutral  \n",
       "403929   0.192949         neutral  \n",
       "1000723  0.050000         neutral  \n",
       "6177674 -0.161822         neutral  \n",
       "\n",
       "[134967 rows x 5 columns]"
      ]
     },
     "execution_count": 107,
     "metadata": {},
     "output_type": "execute_result"
    }
   ],
   "source": [
    "emojis_relevant_df2 = textblob_analysis(relevant_words_set, emojis_df2)\n",
    "emojis_relevant_df2 "
   ]
  },
  {
   "cell_type": "markdown",
   "metadata": {},
   "source": [
    "##### 1.1.1 BY GENDER"
   ]
  },
  {
   "cell_type": "code",
   "execution_count": 108,
   "metadata": {},
   "outputs": [
    {
     "data": {
      "text/html": [
       "<div>\n",
       "<style scoped>\n",
       "    .dataframe tbody tr th:only-of-type {\n",
       "        vertical-align: middle;\n",
       "    }\n",
       "\n",
       "    .dataframe tbody tr th {\n",
       "        vertical-align: top;\n",
       "    }\n",
       "\n",
       "    .dataframe thead th {\n",
       "        text-align: right;\n",
       "    }\n",
       "</style>\n",
       "<table border=\"1\" class=\"dataframe\">\n",
       "  <thead>\n",
       "    <tr style=\"text-align: right;\">\n",
       "      <th></th>\n",
       "      <th>tag</th>\n",
       "      <th>polarity</th>\n",
       "      <th>sentiment_label</th>\n",
       "    </tr>\n",
       "  </thead>\n",
       "  <tbody>\n",
       "    <tr>\n",
       "      <th>0</th>\n",
       "      <td>country</td>\n",
       "      <td>0.156557</td>\n",
       "      <td>neutral</td>\n",
       "    </tr>\n",
       "    <tr>\n",
       "      <th>1</th>\n",
       "      <td>misc</td>\n",
       "      <td>0.128221</td>\n",
       "      <td>neutral</td>\n",
       "    </tr>\n",
       "    <tr>\n",
       "      <th>2</th>\n",
       "      <td>pop</td>\n",
       "      <td>0.133421</td>\n",
       "      <td>neutral</td>\n",
       "    </tr>\n",
       "    <tr>\n",
       "      <th>3</th>\n",
       "      <td>rap</td>\n",
       "      <td>0.014739</td>\n",
       "      <td>neutral</td>\n",
       "    </tr>\n",
       "    <tr>\n",
       "      <th>4</th>\n",
       "      <td>rb</td>\n",
       "      <td>0.152271</td>\n",
       "      <td>neutral</td>\n",
       "    </tr>\n",
       "    <tr>\n",
       "      <th>5</th>\n",
       "      <td>rock</td>\n",
       "      <td>0.075543</td>\n",
       "      <td>neutral</td>\n",
       "    </tr>\n",
       "  </tbody>\n",
       "</table>\n",
       "</div>"
      ],
      "text/plain": [
       "       tag  polarity sentiment_label\n",
       "0  country  0.156557         neutral\n",
       "1     misc  0.128221         neutral\n",
       "2      pop  0.133421         neutral\n",
       "3      rap  0.014739         neutral\n",
       "4       rb  0.152271         neutral\n",
       "5     rock  0.075543         neutral"
      ]
     },
     "execution_count": 108,
     "metadata": {},
     "output_type": "execute_result"
    }
   ],
   "source": [
    "emojis_relevant_df2_by_gender = polarity_by_gender(emojis_relevant_df2)\n",
    "emojis_relevant_df2_by_gender"
   ]
  },
  {
   "cell_type": "markdown",
   "metadata": {},
   "source": [
    "#### 1.2. With Relevant + Common words"
   ]
  },
  {
   "cell_type": "code",
   "execution_count": 109,
   "metadata": {},
   "outputs": [
    {
     "data": {
      "text/html": [
       "<div>\n",
       "<style scoped>\n",
       "    .dataframe tbody tr th:only-of-type {\n",
       "        vertical-align: middle;\n",
       "    }\n",
       "\n",
       "    .dataframe tbody tr th {\n",
       "        vertical-align: top;\n",
       "    }\n",
       "\n",
       "    .dataframe thead th {\n",
       "        text-align: right;\n",
       "    }\n",
       "</style>\n",
       "<table border=\"1\" class=\"dataframe\">\n",
       "  <thead>\n",
       "    <tr style=\"text-align: right;\">\n",
       "      <th></th>\n",
       "      <th>tag</th>\n",
       "      <th>year</th>\n",
       "      <th>filtered_lyrics</th>\n",
       "      <th>polarity</th>\n",
       "      <th>sentiment_label</th>\n",
       "    </tr>\n",
       "    <tr>\n",
       "      <th>id</th>\n",
       "      <th></th>\n",
       "      <th></th>\n",
       "      <th></th>\n",
       "      <th></th>\n",
       "      <th></th>\n",
       "    </tr>\n",
       "  </thead>\n",
       "  <tbody>\n",
       "    <tr>\n",
       "      <th>535805</th>\n",
       "      <td>rock</td>\n",
       "      <td>2013</td>\n",
       "      <td>say love mean change mind one day pretend caus...</td>\n",
       "      <td>0.093750</td>\n",
       "      <td>neutral</td>\n",
       "    </tr>\n",
       "    <tr>\n",
       "      <th>7519483</th>\n",
       "      <td>rap</td>\n",
       "      <td>2021</td>\n",
       "      <td>rap hook want hurt want cry face put time work...</td>\n",
       "      <td>-0.019048</td>\n",
       "      <td>neutral</td>\n",
       "    </tr>\n",
       "    <tr>\n",
       "      <th>4892808</th>\n",
       "      <td>pop</td>\n",
       "      <td>2019</td>\n",
       "      <td>verse people tell change find hard maybe feel ...</td>\n",
       "      <td>0.237925</td>\n",
       "      <td>positive</td>\n",
       "    </tr>\n",
       "    <tr>\n",
       "      <th>1584150</th>\n",
       "      <td>pop</td>\n",
       "      <td>2013</td>\n",
       "      <td>try get close know want leave take certain fal...</td>\n",
       "      <td>-0.005754</td>\n",
       "      <td>neutral</td>\n",
       "    </tr>\n",
       "    <tr>\n",
       "      <th>7639050</th>\n",
       "      <td>country</td>\n",
       "      <td>1</td>\n",
       "      <td>verse see end come never like need way even ar...</td>\n",
       "      <td>0.625000</td>\n",
       "      <td>positive</td>\n",
       "    </tr>\n",
       "    <tr>\n",
       "      <th>...</th>\n",
       "      <td>...</td>\n",
       "      <td>...</td>\n",
       "      <td>...</td>\n",
       "      <td>...</td>\n",
       "      <td>...</td>\n",
       "    </tr>\n",
       "    <tr>\n",
       "      <th>1702980</th>\n",
       "      <td>pop</td>\n",
       "      <td>2007</td>\n",
       "      <td>know young old many thing would tell chance te...</td>\n",
       "      <td>0.202424</td>\n",
       "      <td>positive</td>\n",
       "    </tr>\n",
       "    <tr>\n",
       "      <th>4802970</th>\n",
       "      <td>rap</td>\n",
       "      <td>2019</td>\n",
       "      <td>intro lil cash wah wah wah wah wah wah everyth...</td>\n",
       "      <td>0.063884</td>\n",
       "      <td>neutral</td>\n",
       "    </tr>\n",
       "    <tr>\n",
       "      <th>403929</th>\n",
       "      <td>rock</td>\n",
       "      <td>2014</td>\n",
       "      <td>verse bear inside home young boys fought daddy...</td>\n",
       "      <td>0.163021</td>\n",
       "      <td>neutral</td>\n",
       "    </tr>\n",
       "    <tr>\n",
       "      <th>1000723</th>\n",
       "      <td>pop</td>\n",
       "      <td>2001</td>\n",
       "      <td>fall star nothing nothing wrong go heaven thin...</td>\n",
       "      <td>0.077500</td>\n",
       "      <td>neutral</td>\n",
       "    </tr>\n",
       "    <tr>\n",
       "      <th>6177674</th>\n",
       "      <td>rap</td>\n",
       "      <td>2020</td>\n",
       "      <td>verse yeah game playin game game die cry cuz u...</td>\n",
       "      <td>-0.154630</td>\n",
       "      <td>neutral</td>\n",
       "    </tr>\n",
       "  </tbody>\n",
       "</table>\n",
       "<p>134967 rows × 5 columns</p>\n",
       "</div>"
      ],
      "text/plain": [
       "             tag  year                                    filtered_lyrics  \\\n",
       "id                                                                          \n",
       "535805      rock  2013  say love mean change mind one day pretend caus...   \n",
       "7519483      rap  2021  rap hook want hurt want cry face put time work...   \n",
       "4892808      pop  2019  verse people tell change find hard maybe feel ...   \n",
       "1584150      pop  2013  try get close know want leave take certain fal...   \n",
       "7639050  country     1  verse see end come never like need way even ar...   \n",
       "...          ...   ...                                                ...   \n",
       "1702980      pop  2007  know young old many thing would tell chance te...   \n",
       "4802970      rap  2019  intro lil cash wah wah wah wah wah wah everyth...   \n",
       "403929      rock  2014  verse bear inside home young boys fought daddy...   \n",
       "1000723      pop  2001  fall star nothing nothing wrong go heaven thin...   \n",
       "6177674      rap  2020  verse yeah game playin game game die cry cuz u...   \n",
       "\n",
       "         polarity sentiment_label  \n",
       "id                                 \n",
       "535805   0.093750         neutral  \n",
       "7519483 -0.019048         neutral  \n",
       "4892808  0.237925        positive  \n",
       "1584150 -0.005754         neutral  \n",
       "7639050  0.625000        positive  \n",
       "...           ...             ...  \n",
       "1702980  0.202424        positive  \n",
       "4802970  0.063884         neutral  \n",
       "403929   0.163021         neutral  \n",
       "1000723  0.077500         neutral  \n",
       "6177674 -0.154630         neutral  \n",
       "\n",
       "[134967 rows x 5 columns]"
      ]
     },
     "execution_count": 109,
     "metadata": {},
     "output_type": "execute_result"
    }
   ],
   "source": [
    "emojis_relevant_common_df2 = textblob_analysis(relevant_common_words_set, emojis_df2)\n",
    "emojis_relevant_common_df2 "
   ]
  },
  {
   "cell_type": "markdown",
   "metadata": {},
   "source": [
    "##### 1.2.1 BY GENDER"
   ]
  },
  {
   "cell_type": "code",
   "execution_count": 110,
   "metadata": {},
   "outputs": [
    {
     "data": {
      "text/html": [
       "<div>\n",
       "<style scoped>\n",
       "    .dataframe tbody tr th:only-of-type {\n",
       "        vertical-align: middle;\n",
       "    }\n",
       "\n",
       "    .dataframe tbody tr th {\n",
       "        vertical-align: top;\n",
       "    }\n",
       "\n",
       "    .dataframe thead th {\n",
       "        text-align: right;\n",
       "    }\n",
       "</style>\n",
       "<table border=\"1\" class=\"dataframe\">\n",
       "  <thead>\n",
       "    <tr style=\"text-align: right;\">\n",
       "      <th></th>\n",
       "      <th>tag</th>\n",
       "      <th>polarity</th>\n",
       "      <th>sentiment_label</th>\n",
       "    </tr>\n",
       "  </thead>\n",
       "  <tbody>\n",
       "    <tr>\n",
       "      <th>0</th>\n",
       "      <td>country</td>\n",
       "      <td>0.142772</td>\n",
       "      <td>neutral</td>\n",
       "    </tr>\n",
       "    <tr>\n",
       "      <th>1</th>\n",
       "      <td>misc</td>\n",
       "      <td>0.121781</td>\n",
       "      <td>neutral</td>\n",
       "    </tr>\n",
       "    <tr>\n",
       "      <th>2</th>\n",
       "      <td>pop</td>\n",
       "      <td>0.122993</td>\n",
       "      <td>neutral</td>\n",
       "    </tr>\n",
       "    <tr>\n",
       "      <th>3</th>\n",
       "      <td>rap</td>\n",
       "      <td>0.019537</td>\n",
       "      <td>neutral</td>\n",
       "    </tr>\n",
       "    <tr>\n",
       "      <th>4</th>\n",
       "      <td>rb</td>\n",
       "      <td>0.137536</td>\n",
       "      <td>neutral</td>\n",
       "    </tr>\n",
       "    <tr>\n",
       "      <th>5</th>\n",
       "      <td>rock</td>\n",
       "      <td>0.068405</td>\n",
       "      <td>neutral</td>\n",
       "    </tr>\n",
       "  </tbody>\n",
       "</table>\n",
       "</div>"
      ],
      "text/plain": [
       "       tag  polarity sentiment_label\n",
       "0  country  0.142772         neutral\n",
       "1     misc  0.121781         neutral\n",
       "2      pop  0.122993         neutral\n",
       "3      rap  0.019537         neutral\n",
       "4       rb  0.137536         neutral\n",
       "5     rock  0.068405         neutral"
      ]
     },
     "execution_count": 110,
     "metadata": {},
     "output_type": "execute_result"
    }
   ],
   "source": [
    "emojis_relevant_common_df2_by_gender = polarity_by_gender(emojis_relevant_common_df2)\n",
    "emojis_relevant_common_df2_by_gender"
   ]
  },
  {
   "cell_type": "markdown",
   "metadata": {},
   "source": [
    "#### 1.3. With Common words"
   ]
  },
  {
   "cell_type": "code",
   "execution_count": 111,
   "metadata": {},
   "outputs": [
    {
     "data": {
      "text/html": [
       "<div>\n",
       "<style scoped>\n",
       "    .dataframe tbody tr th:only-of-type {\n",
       "        vertical-align: middle;\n",
       "    }\n",
       "\n",
       "    .dataframe tbody tr th {\n",
       "        vertical-align: top;\n",
       "    }\n",
       "\n",
       "    .dataframe thead th {\n",
       "        text-align: right;\n",
       "    }\n",
       "</style>\n",
       "<table border=\"1\" class=\"dataframe\">\n",
       "  <thead>\n",
       "    <tr style=\"text-align: right;\">\n",
       "      <th></th>\n",
       "      <th>tag</th>\n",
       "      <th>year</th>\n",
       "      <th>filtered_lyrics</th>\n",
       "      <th>polarity</th>\n",
       "      <th>sentiment_label</th>\n",
       "    </tr>\n",
       "    <tr>\n",
       "      <th>id</th>\n",
       "      <th></th>\n",
       "      <th></th>\n",
       "      <th></th>\n",
       "      <th></th>\n",
       "      <th></th>\n",
       "    </tr>\n",
       "  </thead>\n",
       "  <tbody>\n",
       "    <tr>\n",
       "      <th>535805</th>\n",
       "      <td>rock</td>\n",
       "      <td>2013</td>\n",
       "      <td>say love mean change mind one day cause see wa...</td>\n",
       "      <td>0.093750</td>\n",
       "      <td>neutral</td>\n",
       "    </tr>\n",
       "    <tr>\n",
       "      <th>7519483</th>\n",
       "      <td>rap</td>\n",
       "      <td>2021</td>\n",
       "      <td>hook want want cry face put time work fall mak...</td>\n",
       "      <td>-0.019048</td>\n",
       "      <td>neutral</td>\n",
       "    </tr>\n",
       "    <tr>\n",
       "      <th>4892808</th>\n",
       "      <td>pop</td>\n",
       "      <td>2019</td>\n",
       "      <td>verse people tell change find hard maybe feel ...</td>\n",
       "      <td>0.013095</td>\n",
       "      <td>neutral</td>\n",
       "    </tr>\n",
       "    <tr>\n",
       "      <th>1584150</th>\n",
       "      <td>pop</td>\n",
       "      <td>2013</td>\n",
       "      <td>try get close know want leave take away stay s...</td>\n",
       "      <td>0.012500</td>\n",
       "      <td>neutral</td>\n",
       "    </tr>\n",
       "    <tr>\n",
       "      <th>7639050</th>\n",
       "      <td>country</td>\n",
       "      <td>1</td>\n",
       "      <td>verse see end come never like need way even ar...</td>\n",
       "      <td>0.625000</td>\n",
       "      <td>positive</td>\n",
       "    </tr>\n",
       "    <tr>\n",
       "      <th>...</th>\n",
       "      <td>...</td>\n",
       "      <td>...</td>\n",
       "      <td>...</td>\n",
       "      <td>...</td>\n",
       "      <td>...</td>\n",
       "    </tr>\n",
       "    <tr>\n",
       "      <th>1702980</th>\n",
       "      <td>pop</td>\n",
       "      <td>2007</td>\n",
       "      <td>know young old many thing would tell tell say ...</td>\n",
       "      <td>0.181169</td>\n",
       "      <td>neutral</td>\n",
       "    </tr>\n",
       "    <tr>\n",
       "      <th>4802970</th>\n",
       "      <td>rap</td>\n",
       "      <td>2019</td>\n",
       "      <td>intro everything chorus bitch god god shit shi...</td>\n",
       "      <td>0.025523</td>\n",
       "      <td>neutral</td>\n",
       "    </tr>\n",
       "    <tr>\n",
       "      <th>403929</th>\n",
       "      <td>rock</td>\n",
       "      <td>2014</td>\n",
       "      <td>verse inside home young heart god know make ha...</td>\n",
       "      <td>0.192361</td>\n",
       "      <td>neutral</td>\n",
       "    </tr>\n",
       "    <tr>\n",
       "      <th>1000723</th>\n",
       "      <td>pop</td>\n",
       "      <td>2001</td>\n",
       "      <td>fall star nothing nothing wrong go think find ...</td>\n",
       "      <td>0.005000</td>\n",
       "      <td>neutral</td>\n",
       "    </tr>\n",
       "    <tr>\n",
       "      <th>6177674</th>\n",
       "      <td>rap</td>\n",
       "      <td>2020</td>\n",
       "      <td>verse yeah game game game die cry u always lie...</td>\n",
       "      <td>-0.154630</td>\n",
       "      <td>neutral</td>\n",
       "    </tr>\n",
       "  </tbody>\n",
       "</table>\n",
       "<p>134967 rows × 5 columns</p>\n",
       "</div>"
      ],
      "text/plain": [
       "             tag  year                                    filtered_lyrics  \\\n",
       "id                                                                          \n",
       "535805      rock  2013  say love mean change mind one day cause see wa...   \n",
       "7519483      rap  2021  hook want want cry face put time work fall mak...   \n",
       "4892808      pop  2019  verse people tell change find hard maybe feel ...   \n",
       "1584150      pop  2013  try get close know want leave take away stay s...   \n",
       "7639050  country     1  verse see end come never like need way even ar...   \n",
       "...          ...   ...                                                ...   \n",
       "1702980      pop  2007  know young old many thing would tell tell say ...   \n",
       "4802970      rap  2019  intro everything chorus bitch god god shit shi...   \n",
       "403929      rock  2014  verse inside home young heart god know make ha...   \n",
       "1000723      pop  2001  fall star nothing nothing wrong go think find ...   \n",
       "6177674      rap  2020  verse yeah game game game die cry u always lie...   \n",
       "\n",
       "         polarity sentiment_label  \n",
       "id                                 \n",
       "535805   0.093750         neutral  \n",
       "7519483 -0.019048         neutral  \n",
       "4892808  0.013095         neutral  \n",
       "1584150  0.012500         neutral  \n",
       "7639050  0.625000        positive  \n",
       "...           ...             ...  \n",
       "1702980  0.181169         neutral  \n",
       "4802970  0.025523         neutral  \n",
       "403929   0.192361         neutral  \n",
       "1000723  0.005000         neutral  \n",
       "6177674 -0.154630         neutral  \n",
       "\n",
       "[134967 rows x 5 columns]"
      ]
     },
     "execution_count": 111,
     "metadata": {},
     "output_type": "execute_result"
    }
   ],
   "source": [
    "emojis_common_df2 = textblob_analysis(common_words_set, emojis_df2)\n",
    "emojis_common_df2 "
   ]
  },
  {
   "cell_type": "markdown",
   "metadata": {},
   "source": [
    "##### 1.3.1 BY GENDER"
   ]
  },
  {
   "cell_type": "code",
   "execution_count": 112,
   "metadata": {},
   "outputs": [
    {
     "data": {
      "text/html": [
       "<div>\n",
       "<style scoped>\n",
       "    .dataframe tbody tr th:only-of-type {\n",
       "        vertical-align: middle;\n",
       "    }\n",
       "\n",
       "    .dataframe tbody tr th {\n",
       "        vertical-align: top;\n",
       "    }\n",
       "\n",
       "    .dataframe thead th {\n",
       "        text-align: right;\n",
       "    }\n",
       "</style>\n",
       "<table border=\"1\" class=\"dataframe\">\n",
       "  <thead>\n",
       "    <tr style=\"text-align: right;\">\n",
       "      <th></th>\n",
       "      <th>tag</th>\n",
       "      <th>polarity</th>\n",
       "      <th>sentiment_label</th>\n",
       "    </tr>\n",
       "  </thead>\n",
       "  <tbody>\n",
       "    <tr>\n",
       "      <th>0</th>\n",
       "      <td>country</td>\n",
       "      <td>0.159519</td>\n",
       "      <td>neutral</td>\n",
       "    </tr>\n",
       "    <tr>\n",
       "      <th>1</th>\n",
       "      <td>misc</td>\n",
       "      <td>0.128292</td>\n",
       "      <td>neutral</td>\n",
       "    </tr>\n",
       "    <tr>\n",
       "      <th>2</th>\n",
       "      <td>pop</td>\n",
       "      <td>0.138718</td>\n",
       "      <td>neutral</td>\n",
       "    </tr>\n",
       "    <tr>\n",
       "      <th>3</th>\n",
       "      <td>rap</td>\n",
       "      <td>0.012422</td>\n",
       "      <td>neutral</td>\n",
       "    </tr>\n",
       "    <tr>\n",
       "      <th>4</th>\n",
       "      <td>rb</td>\n",
       "      <td>0.154357</td>\n",
       "      <td>neutral</td>\n",
       "    </tr>\n",
       "    <tr>\n",
       "      <th>5</th>\n",
       "      <td>rock</td>\n",
       "      <td>0.089300</td>\n",
       "      <td>neutral</td>\n",
       "    </tr>\n",
       "  </tbody>\n",
       "</table>\n",
       "</div>"
      ],
      "text/plain": [
       "       tag  polarity sentiment_label\n",
       "0  country  0.159519         neutral\n",
       "1     misc  0.128292         neutral\n",
       "2      pop  0.138718         neutral\n",
       "3      rap  0.012422         neutral\n",
       "4       rb  0.154357         neutral\n",
       "5     rock  0.089300         neutral"
      ]
     },
     "execution_count": 112,
     "metadata": {},
     "output_type": "execute_result"
    }
   ],
   "source": [
    "emojis_common_df2_by_gender = polarity_by_gender(emojis_common_df2)\n",
    "emojis_common_df2_by_gender"
   ]
  },
  {
   "cell_type": "markdown",
   "metadata": {},
   "source": [
    "### 2. Without Emojis and With Stopwords"
   ]
  },
  {
   "cell_type": "code",
   "execution_count": 113,
   "metadata": {},
   "outputs": [],
   "source": [
    "stopwords_df2 = text_preprocessing(train, \"lyrics\", \"tag\")"
   ]
  },
  {
   "cell_type": "markdown",
   "metadata": {},
   "source": [
    "#### 2.1 With Relevant words"
   ]
  },
  {
   "cell_type": "code",
   "execution_count": 114,
   "metadata": {},
   "outputs": [
    {
     "data": {
      "text/html": [
       "<div>\n",
       "<style scoped>\n",
       "    .dataframe tbody tr th:only-of-type {\n",
       "        vertical-align: middle;\n",
       "    }\n",
       "\n",
       "    .dataframe tbody tr th {\n",
       "        vertical-align: top;\n",
       "    }\n",
       "\n",
       "    .dataframe thead th {\n",
       "        text-align: right;\n",
       "    }\n",
       "</style>\n",
       "<table border=\"1\" class=\"dataframe\">\n",
       "  <thead>\n",
       "    <tr style=\"text-align: right;\">\n",
       "      <th></th>\n",
       "      <th>tag</th>\n",
       "      <th>filtered_lyrics</th>\n",
       "      <th>polarity</th>\n",
       "      <th>sentiment_label</th>\n",
       "    </tr>\n",
       "    <tr>\n",
       "      <th>id</th>\n",
       "      <th></th>\n",
       "      <th></th>\n",
       "      <th></th>\n",
       "      <th></th>\n",
       "    </tr>\n",
       "  </thead>\n",
       "  <tbody>\n",
       "    <tr>\n",
       "      <th>535805</th>\n",
       "      <td>rock</td>\n",
       "      <td>say love me mind one day pretend cause walk aw...</td>\n",
       "      <td>0.500000</td>\n",
       "      <td>positive</td>\n",
       "    </tr>\n",
       "    <tr>\n",
       "      <th>7519483</th>\n",
       "      <td>rap</td>\n",
       "      <td>rap hook want hurt want cry put time fall make...</td>\n",
       "      <td>0.057143</td>\n",
       "      <td>neutral</td>\n",
       "    </tr>\n",
       "    <tr>\n",
       "      <th>4892808</th>\n",
       "      <td>pop</td>\n",
       "      <td>verse tell me find hard maybe feel not make we...</td>\n",
       "      <td>0.237925</td>\n",
       "      <td>positive</td>\n",
       "    </tr>\n",
       "    <tr>\n",
       "      <th>1584150</th>\n",
       "      <td>pop</td>\n",
       "      <td>me not get close know want me leave take im ce...</td>\n",
       "      <td>-0.057672</td>\n",
       "      <td>neutral</td>\n",
       "    </tr>\n",
       "    <tr>\n",
       "      <th>7639050</th>\n",
       "      <td>country</td>\n",
       "      <td>verse can end come need way around turn soil w...</td>\n",
       "      <td>0.625000</td>\n",
       "      <td>positive</td>\n",
       "    </tr>\n",
       "    <tr>\n",
       "      <th>...</th>\n",
       "      <td>...</td>\n",
       "      <td>...</td>\n",
       "      <td>...</td>\n",
       "      <td>...</td>\n",
       "    </tr>\n",
       "    <tr>\n",
       "      <th>1702980</th>\n",
       "      <td>pop</td>\n",
       "      <td>old thing would not chance tell im sit im say ...</td>\n",
       "      <td>0.328571</td>\n",
       "      <td>positive</td>\n",
       "    </tr>\n",
       "    <tr>\n",
       "      <th>4802970</th>\n",
       "      <td>rap</td>\n",
       "      <td>intro lil cash everything chrome chorus lil li...</td>\n",
       "      <td>0.060618</td>\n",
       "      <td>neutral</td>\n",
       "    </tr>\n",
       "    <tr>\n",
       "      <th>403929</th>\n",
       "      <td>rock</td>\n",
       "      <td>verse inside home boys fight daddy heart stran...</td>\n",
       "      <td>0.192949</td>\n",
       "      <td>neutral</td>\n",
       "    </tr>\n",
       "    <tr>\n",
       "      <th>1000723</th>\n",
       "      <td>pop</td>\n",
       "      <td>fall star not me nothing nothing wrong go heav...</td>\n",
       "      <td>0.050000</td>\n",
       "      <td>neutral</td>\n",
       "    </tr>\n",
       "    <tr>\n",
       "      <th>6177674</th>\n",
       "      <td>rap</td>\n",
       "      <td>verse yeah game not playin game game die cry c...</td>\n",
       "      <td>-0.161822</td>\n",
       "      <td>neutral</td>\n",
       "    </tr>\n",
       "  </tbody>\n",
       "</table>\n",
       "<p>134967 rows × 4 columns</p>\n",
       "</div>"
      ],
      "text/plain": [
       "             tag                                    filtered_lyrics  polarity  \\\n",
       "id                                                                              \n",
       "535805      rock  say love me mind one day pretend cause walk aw...  0.500000   \n",
       "7519483      rap  rap hook want hurt want cry put time fall make...  0.057143   \n",
       "4892808      pop  verse tell me find hard maybe feel not make we...  0.237925   \n",
       "1584150      pop  me not get close know want me leave take im ce... -0.057672   \n",
       "7639050  country  verse can end come need way around turn soil w...  0.625000   \n",
       "...          ...                                                ...       ...   \n",
       "1702980      pop  old thing would not chance tell im sit im say ...  0.328571   \n",
       "4802970      rap  intro lil cash everything chrome chorus lil li...  0.060618   \n",
       "403929      rock  verse inside home boys fight daddy heart stran...  0.192949   \n",
       "1000723      pop  fall star not me nothing nothing wrong go heav...  0.050000   \n",
       "6177674      rap  verse yeah game not playin game game die cry c... -0.161822   \n",
       "\n",
       "        sentiment_label  \n",
       "id                       \n",
       "535805         positive  \n",
       "7519483         neutral  \n",
       "4892808        positive  \n",
       "1584150         neutral  \n",
       "7639050        positive  \n",
       "...                 ...  \n",
       "1702980        positive  \n",
       "4802970         neutral  \n",
       "403929          neutral  \n",
       "1000723         neutral  \n",
       "6177674         neutral  \n",
       "\n",
       "[134967 rows x 4 columns]"
      ]
     },
     "execution_count": 114,
     "metadata": {},
     "output_type": "execute_result"
    }
   ],
   "source": [
    "stopwords_relevant_df2 = textblob_analysis(relevant_words_set, stopwords_df2)\n",
    "stopwords_relevant_df2 "
   ]
  },
  {
   "cell_type": "markdown",
   "metadata": {},
   "source": [
    "##### 2.1.1 BY GENDER"
   ]
  },
  {
   "cell_type": "code",
   "execution_count": 115,
   "metadata": {},
   "outputs": [
    {
     "data": {
      "text/html": [
       "<div>\n",
       "<style scoped>\n",
       "    .dataframe tbody tr th:only-of-type {\n",
       "        vertical-align: middle;\n",
       "    }\n",
       "\n",
       "    .dataframe tbody tr th {\n",
       "        vertical-align: top;\n",
       "    }\n",
       "\n",
       "    .dataframe thead th {\n",
       "        text-align: right;\n",
       "    }\n",
       "</style>\n",
       "<table border=\"1\" class=\"dataframe\">\n",
       "  <thead>\n",
       "    <tr style=\"text-align: right;\">\n",
       "      <th></th>\n",
       "      <th>tag</th>\n",
       "      <th>polarity</th>\n",
       "      <th>sentiment_label</th>\n",
       "    </tr>\n",
       "  </thead>\n",
       "  <tbody>\n",
       "    <tr>\n",
       "      <th>0</th>\n",
       "      <td>country</td>\n",
       "      <td>0.143346</td>\n",
       "      <td>neutral</td>\n",
       "    </tr>\n",
       "    <tr>\n",
       "      <th>1</th>\n",
       "      <td>misc</td>\n",
       "      <td>0.117173</td>\n",
       "      <td>neutral</td>\n",
       "    </tr>\n",
       "    <tr>\n",
       "      <th>2</th>\n",
       "      <td>pop</td>\n",
       "      <td>0.122690</td>\n",
       "      <td>neutral</td>\n",
       "    </tr>\n",
       "    <tr>\n",
       "      <th>3</th>\n",
       "      <td>rap</td>\n",
       "      <td>0.006817</td>\n",
       "      <td>neutral</td>\n",
       "    </tr>\n",
       "    <tr>\n",
       "      <th>4</th>\n",
       "      <td>rb</td>\n",
       "      <td>0.137137</td>\n",
       "      <td>neutral</td>\n",
       "    </tr>\n",
       "    <tr>\n",
       "      <th>5</th>\n",
       "      <td>rock</td>\n",
       "      <td>0.064950</td>\n",
       "      <td>neutral</td>\n",
       "    </tr>\n",
       "  </tbody>\n",
       "</table>\n",
       "</div>"
      ],
      "text/plain": [
       "       tag  polarity sentiment_label\n",
       "0  country  0.143346         neutral\n",
       "1     misc  0.117173         neutral\n",
       "2      pop  0.122690         neutral\n",
       "3      rap  0.006817         neutral\n",
       "4       rb  0.137137         neutral\n",
       "5     rock  0.064950         neutral"
      ]
     },
     "execution_count": 115,
     "metadata": {},
     "output_type": "execute_result"
    }
   ],
   "source": [
    "stopwords_relevant_df2_by_gender = polarity_by_gender(stopwords_relevant_df2)\n",
    "stopwords_relevant_df2_by_gender"
   ]
  },
  {
   "cell_type": "markdown",
   "metadata": {},
   "source": [
    "#### 2.2. With Relevant + Common words"
   ]
  },
  {
   "cell_type": "code",
   "execution_count": 116,
   "metadata": {},
   "outputs": [
    {
     "data": {
      "text/html": [
       "<div>\n",
       "<style scoped>\n",
       "    .dataframe tbody tr th:only-of-type {\n",
       "        vertical-align: middle;\n",
       "    }\n",
       "\n",
       "    .dataframe tbody tr th {\n",
       "        vertical-align: top;\n",
       "    }\n",
       "\n",
       "    .dataframe thead th {\n",
       "        text-align: right;\n",
       "    }\n",
       "</style>\n",
       "<table border=\"1\" class=\"dataframe\">\n",
       "  <thead>\n",
       "    <tr style=\"text-align: right;\">\n",
       "      <th></th>\n",
       "      <th>tag</th>\n",
       "      <th>filtered_lyrics</th>\n",
       "      <th>polarity</th>\n",
       "      <th>sentiment_label</th>\n",
       "    </tr>\n",
       "    <tr>\n",
       "      <th>id</th>\n",
       "      <th></th>\n",
       "      <th></th>\n",
       "      <th></th>\n",
       "      <th></th>\n",
       "    </tr>\n",
       "  </thead>\n",
       "  <tbody>\n",
       "    <tr>\n",
       "      <th>535805</th>\n",
       "      <td>rock</td>\n",
       "      <td>say love me mean change mind one day pretend c...</td>\n",
       "      <td>0.093750</td>\n",
       "      <td>neutral</td>\n",
       "    </tr>\n",
       "    <tr>\n",
       "      <th>7519483</th>\n",
       "      <td>rap</td>\n",
       "      <td>rap hook want hurt want cry face put time work...</td>\n",
       "      <td>-0.182857</td>\n",
       "      <td>neutral</td>\n",
       "    </tr>\n",
       "    <tr>\n",
       "      <th>4892808</th>\n",
       "      <td>pop</td>\n",
       "      <td>verse people tell me change find hard maybe fe...</td>\n",
       "      <td>0.237925</td>\n",
       "      <td>positive</td>\n",
       "    </tr>\n",
       "    <tr>\n",
       "      <th>1584150</th>\n",
       "      <td>pop</td>\n",
       "      <td>me not try get close know want me leave take i...</td>\n",
       "      <td>-0.074504</td>\n",
       "      <td>neutral</td>\n",
       "    </tr>\n",
       "    <tr>\n",
       "      <th>7639050</th>\n",
       "      <td>country</td>\n",
       "      <td>verse can see end come never like need way eve...</td>\n",
       "      <td>0.625000</td>\n",
       "      <td>positive</td>\n",
       "    </tr>\n",
       "    <tr>\n",
       "      <th>...</th>\n",
       "      <td>...</td>\n",
       "      <td>...</td>\n",
       "      <td>...</td>\n",
       "      <td>...</td>\n",
       "    </tr>\n",
       "    <tr>\n",
       "      <th>1702980</th>\n",
       "      <td>pop</td>\n",
       "      <td>young old many thing would not chance tell im ...</td>\n",
       "      <td>0.202424</td>\n",
       "      <td>positive</td>\n",
       "    </tr>\n",
       "    <tr>\n",
       "      <th>4802970</th>\n",
       "      <td>rap</td>\n",
       "      <td>intro lil cash everything chrome chorus lil li...</td>\n",
       "      <td>0.073279</td>\n",
       "      <td>neutral</td>\n",
       "    </tr>\n",
       "    <tr>\n",
       "      <th>403929</th>\n",
       "      <td>rock</td>\n",
       "      <td>verse inside home young boys fight daddy heart...</td>\n",
       "      <td>0.163021</td>\n",
       "      <td>neutral</td>\n",
       "    </tr>\n",
       "    <tr>\n",
       "      <th>1000723</th>\n",
       "      <td>pop</td>\n",
       "      <td>fall star not me nothing nothing wrong go heav...</td>\n",
       "      <td>0.077500</td>\n",
       "      <td>neutral</td>\n",
       "    </tr>\n",
       "    <tr>\n",
       "      <th>6177674</th>\n",
       "      <td>rap</td>\n",
       "      <td>verse yeah game not playin game game die cry c...</td>\n",
       "      <td>-0.154630</td>\n",
       "      <td>neutral</td>\n",
       "    </tr>\n",
       "  </tbody>\n",
       "</table>\n",
       "<p>134967 rows × 4 columns</p>\n",
       "</div>"
      ],
      "text/plain": [
       "             tag                                    filtered_lyrics  polarity  \\\n",
       "id                                                                              \n",
       "535805      rock  say love me mean change mind one day pretend c...  0.093750   \n",
       "7519483      rap  rap hook want hurt want cry face put time work... -0.182857   \n",
       "4892808      pop  verse people tell me change find hard maybe fe...  0.237925   \n",
       "1584150      pop  me not try get close know want me leave take i... -0.074504   \n",
       "7639050  country  verse can see end come never like need way eve...  0.625000   \n",
       "...          ...                                                ...       ...   \n",
       "1702980      pop  young old many thing would not chance tell im ...  0.202424   \n",
       "4802970      rap  intro lil cash everything chrome chorus lil li...  0.073279   \n",
       "403929      rock  verse inside home young boys fight daddy heart...  0.163021   \n",
       "1000723      pop  fall star not me nothing nothing wrong go heav...  0.077500   \n",
       "6177674      rap  verse yeah game not playin game game die cry c... -0.154630   \n",
       "\n",
       "        sentiment_label  \n",
       "id                       \n",
       "535805          neutral  \n",
       "7519483         neutral  \n",
       "4892808        positive  \n",
       "1584150         neutral  \n",
       "7639050        positive  \n",
       "...                 ...  \n",
       "1702980        positive  \n",
       "4802970         neutral  \n",
       "403929          neutral  \n",
       "1000723         neutral  \n",
       "6177674         neutral  \n",
       "\n",
       "[134967 rows x 4 columns]"
      ]
     },
     "execution_count": 116,
     "metadata": {},
     "output_type": "execute_result"
    }
   ],
   "source": [
    "stopwords_relevant_common_df2 = textblob_analysis(relevant_common_words_set, stopwords_df2)\n",
    "stopwords_relevant_common_df2 "
   ]
  },
  {
   "cell_type": "markdown",
   "metadata": {},
   "source": [
    "##### 2.2.1 BY GENDER"
   ]
  },
  {
   "cell_type": "code",
   "execution_count": 117,
   "metadata": {},
   "outputs": [
    {
     "data": {
      "text/html": [
       "<div>\n",
       "<style scoped>\n",
       "    .dataframe tbody tr th:only-of-type {\n",
       "        vertical-align: middle;\n",
       "    }\n",
       "\n",
       "    .dataframe tbody tr th {\n",
       "        vertical-align: top;\n",
       "    }\n",
       "\n",
       "    .dataframe thead th {\n",
       "        text-align: right;\n",
       "    }\n",
       "</style>\n",
       "<table border=\"1\" class=\"dataframe\">\n",
       "  <thead>\n",
       "    <tr style=\"text-align: right;\">\n",
       "      <th></th>\n",
       "      <th>tag</th>\n",
       "      <th>polarity</th>\n",
       "      <th>sentiment_label</th>\n",
       "    </tr>\n",
       "  </thead>\n",
       "  <tbody>\n",
       "    <tr>\n",
       "      <th>0</th>\n",
       "      <td>country</td>\n",
       "      <td>0.132094</td>\n",
       "      <td>neutral</td>\n",
       "    </tr>\n",
       "    <tr>\n",
       "      <th>1</th>\n",
       "      <td>misc</td>\n",
       "      <td>0.112492</td>\n",
       "      <td>neutral</td>\n",
       "    </tr>\n",
       "    <tr>\n",
       "      <th>2</th>\n",
       "      <td>pop</td>\n",
       "      <td>0.114147</td>\n",
       "      <td>neutral</td>\n",
       "    </tr>\n",
       "    <tr>\n",
       "      <th>3</th>\n",
       "      <td>rap</td>\n",
       "      <td>0.012905</td>\n",
       "      <td>neutral</td>\n",
       "    </tr>\n",
       "    <tr>\n",
       "      <th>4</th>\n",
       "      <td>rb</td>\n",
       "      <td>0.125405</td>\n",
       "      <td>neutral</td>\n",
       "    </tr>\n",
       "    <tr>\n",
       "      <th>5</th>\n",
       "      <td>rock</td>\n",
       "      <td>0.059645</td>\n",
       "      <td>neutral</td>\n",
       "    </tr>\n",
       "  </tbody>\n",
       "</table>\n",
       "</div>"
      ],
      "text/plain": [
       "       tag  polarity sentiment_label\n",
       "0  country  0.132094         neutral\n",
       "1     misc  0.112492         neutral\n",
       "2      pop  0.114147         neutral\n",
       "3      rap  0.012905         neutral\n",
       "4       rb  0.125405         neutral\n",
       "5     rock  0.059645         neutral"
      ]
     },
     "execution_count": 117,
     "metadata": {},
     "output_type": "execute_result"
    }
   ],
   "source": [
    "stopwords_relevant_common_df2_by_gender = polarity_by_gender(stopwords_relevant_common_df2)\n",
    "stopwords_relevant_common_df2_by_gender"
   ]
  },
  {
   "cell_type": "markdown",
   "metadata": {},
   "source": [
    "#### 2.3. With Common words"
   ]
  },
  {
   "cell_type": "code",
   "execution_count": 118,
   "metadata": {},
   "outputs": [
    {
     "data": {
      "text/html": [
       "<div>\n",
       "<style scoped>\n",
       "    .dataframe tbody tr th:only-of-type {\n",
       "        vertical-align: middle;\n",
       "    }\n",
       "\n",
       "    .dataframe tbody tr th {\n",
       "        vertical-align: top;\n",
       "    }\n",
       "\n",
       "    .dataframe thead th {\n",
       "        text-align: right;\n",
       "    }\n",
       "</style>\n",
       "<table border=\"1\" class=\"dataframe\">\n",
       "  <thead>\n",
       "    <tr style=\"text-align: right;\">\n",
       "      <th></th>\n",
       "      <th>tag</th>\n",
       "      <th>filtered_lyrics</th>\n",
       "      <th>polarity</th>\n",
       "      <th>sentiment_label</th>\n",
       "    </tr>\n",
       "    <tr>\n",
       "      <th>id</th>\n",
       "      <th></th>\n",
       "      <th></th>\n",
       "      <th></th>\n",
       "      <th></th>\n",
       "    </tr>\n",
       "  </thead>\n",
       "  <tbody>\n",
       "    <tr>\n",
       "      <th>535805</th>\n",
       "      <td>rock</td>\n",
       "      <td>say love mean change mind one day cause see wa...</td>\n",
       "      <td>0.093750</td>\n",
       "      <td>neutral</td>\n",
       "    </tr>\n",
       "    <tr>\n",
       "      <th>7519483</th>\n",
       "      <td>rap</td>\n",
       "      <td>hook want want cry face put time work fall mak...</td>\n",
       "      <td>-0.182857</td>\n",
       "      <td>neutral</td>\n",
       "    </tr>\n",
       "    <tr>\n",
       "      <th>4892808</th>\n",
       "      <td>pop</td>\n",
       "      <td>verse people tell change find hard maybe feel ...</td>\n",
       "      <td>0.013095</td>\n",
       "      <td>neutral</td>\n",
       "    </tr>\n",
       "    <tr>\n",
       "      <th>1584150</th>\n",
       "      <td>pop</td>\n",
       "      <td>not try get close know want leave take im im a...</td>\n",
       "      <td>-0.268750</td>\n",
       "      <td>negative</td>\n",
       "    </tr>\n",
       "    <tr>\n",
       "      <th>7639050</th>\n",
       "      <td>country</td>\n",
       "      <td>verse can see end come never like need way eve...</td>\n",
       "      <td>0.625000</td>\n",
       "      <td>positive</td>\n",
       "    </tr>\n",
       "    <tr>\n",
       "      <th>...</th>\n",
       "      <td>...</td>\n",
       "      <td>...</td>\n",
       "      <td>...</td>\n",
       "      <td>...</td>\n",
       "    </tr>\n",
       "    <tr>\n",
       "      <th>1702980</th>\n",
       "      <td>pop</td>\n",
       "      <td>young old many thing would not tell im im say ...</td>\n",
       "      <td>0.181169</td>\n",
       "      <td>neutral</td>\n",
       "    </tr>\n",
       "    <tr>\n",
       "      <th>4802970</th>\n",
       "      <td>rap</td>\n",
       "      <td>intro everything chorus bitch im god god see k...</td>\n",
       "      <td>0.031685</td>\n",
       "      <td>neutral</td>\n",
       "    </tr>\n",
       "    <tr>\n",
       "      <th>403929</th>\n",
       "      <td>rock</td>\n",
       "      <td>verse inside home young fight heart god know m...</td>\n",
       "      <td>0.192361</td>\n",
       "      <td>neutral</td>\n",
       "    </tr>\n",
       "    <tr>\n",
       "      <th>1000723</th>\n",
       "      <td>pop</td>\n",
       "      <td>fall star not nothing nothing wrong go think f...</td>\n",
       "      <td>0.005000</td>\n",
       "      <td>neutral</td>\n",
       "    </tr>\n",
       "    <tr>\n",
       "      <th>6177674</th>\n",
       "      <td>rap</td>\n",
       "      <td>verse yeah game not game game die cry u always...</td>\n",
       "      <td>-0.141296</td>\n",
       "      <td>neutral</td>\n",
       "    </tr>\n",
       "  </tbody>\n",
       "</table>\n",
       "<p>134967 rows × 4 columns</p>\n",
       "</div>"
      ],
      "text/plain": [
       "             tag                                    filtered_lyrics  polarity  \\\n",
       "id                                                                              \n",
       "535805      rock  say love mean change mind one day cause see wa...  0.093750   \n",
       "7519483      rap  hook want want cry face put time work fall mak... -0.182857   \n",
       "4892808      pop  verse people tell change find hard maybe feel ...  0.013095   \n",
       "1584150      pop  not try get close know want leave take im im a... -0.268750   \n",
       "7639050  country  verse can see end come never like need way eve...  0.625000   \n",
       "...          ...                                                ...       ...   \n",
       "1702980      pop  young old many thing would not tell im im say ...  0.181169   \n",
       "4802970      rap  intro everything chorus bitch im god god see k...  0.031685   \n",
       "403929      rock  verse inside home young fight heart god know m...  0.192361   \n",
       "1000723      pop  fall star not nothing nothing wrong go think f...  0.005000   \n",
       "6177674      rap  verse yeah game not game game die cry u always... -0.141296   \n",
       "\n",
       "        sentiment_label  \n",
       "id                       \n",
       "535805          neutral  \n",
       "7519483         neutral  \n",
       "4892808         neutral  \n",
       "1584150        negative  \n",
       "7639050        positive  \n",
       "...                 ...  \n",
       "1702980         neutral  \n",
       "4802970         neutral  \n",
       "403929          neutral  \n",
       "1000723         neutral  \n",
       "6177674         neutral  \n",
       "\n",
       "[134967 rows x 4 columns]"
      ]
     },
     "execution_count": 118,
     "metadata": {},
     "output_type": "execute_result"
    }
   ],
   "source": [
    "stopwords_common_df2 = textblob_analysis(common_words_set, stopwords_df2)\n",
    "stopwords_common_df2 "
   ]
  },
  {
   "cell_type": "markdown",
   "metadata": {},
   "source": [
    "##### 2.3.1 BY GENDER"
   ]
  },
  {
   "cell_type": "code",
   "execution_count": 119,
   "metadata": {},
   "outputs": [
    {
     "data": {
      "text/html": [
       "<div>\n",
       "<style scoped>\n",
       "    .dataframe tbody tr th:only-of-type {\n",
       "        vertical-align: middle;\n",
       "    }\n",
       "\n",
       "    .dataframe tbody tr th {\n",
       "        vertical-align: top;\n",
       "    }\n",
       "\n",
       "    .dataframe thead th {\n",
       "        text-align: right;\n",
       "    }\n",
       "</style>\n",
       "<table border=\"1\" class=\"dataframe\">\n",
       "  <thead>\n",
       "    <tr style=\"text-align: right;\">\n",
       "      <th></th>\n",
       "      <th>tag</th>\n",
       "      <th>polarity</th>\n",
       "      <th>sentiment_label</th>\n",
       "    </tr>\n",
       "  </thead>\n",
       "  <tbody>\n",
       "    <tr>\n",
       "      <th>0</th>\n",
       "      <td>country</td>\n",
       "      <td>0.145171</td>\n",
       "      <td>neutral</td>\n",
       "    </tr>\n",
       "    <tr>\n",
       "      <th>1</th>\n",
       "      <td>misc</td>\n",
       "      <td>0.112976</td>\n",
       "      <td>neutral</td>\n",
       "    </tr>\n",
       "    <tr>\n",
       "      <th>2</th>\n",
       "      <td>pop</td>\n",
       "      <td>0.125373</td>\n",
       "      <td>neutral</td>\n",
       "    </tr>\n",
       "    <tr>\n",
       "      <th>3</th>\n",
       "      <td>rap</td>\n",
       "      <td>0.007032</td>\n",
       "      <td>neutral</td>\n",
       "    </tr>\n",
       "    <tr>\n",
       "      <th>4</th>\n",
       "      <td>rb</td>\n",
       "      <td>0.137533</td>\n",
       "      <td>neutral</td>\n",
       "    </tr>\n",
       "    <tr>\n",
       "      <th>5</th>\n",
       "      <td>rock</td>\n",
       "      <td>0.076706</td>\n",
       "      <td>neutral</td>\n",
       "    </tr>\n",
       "  </tbody>\n",
       "</table>\n",
       "</div>"
      ],
      "text/plain": [
       "       tag  polarity sentiment_label\n",
       "0  country  0.145171         neutral\n",
       "1     misc  0.112976         neutral\n",
       "2      pop  0.125373         neutral\n",
       "3      rap  0.007032         neutral\n",
       "4       rb  0.137533         neutral\n",
       "5     rock  0.076706         neutral"
      ]
     },
     "execution_count": 119,
     "metadata": {},
     "output_type": "execute_result"
    }
   ],
   "source": [
    "stopwords_common_df2_by_gender = polarity_by_gender(stopwords_common_df2)\n",
    "stopwords_common_df2_by_gender"
   ]
  },
  {
   "cell_type": "markdown",
   "metadata": {},
   "source": [
    "## Comparissons"
   ]
  },
  {
   "cell_type": "markdown",
   "metadata": {},
   "source": [
    "#### With Emojis and Without Stopwords"
   ]
  },
  {
   "cell_type": "markdown",
   "metadata": {},
   "source": [
    "relevant VS revelant + common VS common"
   ]
  },
  {
   "cell_type": "code",
   "execution_count": 120,
   "metadata": {},
   "outputs": [
    {
     "data": {
      "image/png": "[encoded data removed]",
      "text/plain": [
       "<Figure size 1800x600 with 3 Axes>"
      ]
     },
     "metadata": {},
     "output_type": "display_data"
    }
   ],
   "source": [
    "dataframes = [emojis_relevant_df2_by_gender, emojis_relevant_common_df2_by_gender, emojis_common_df2_by_gender]\n",
    "titles = ['Relevant', 'Relevant + Common', 'Common']\n",
    "\n",
    "sentiment_differences_across_genres(dataframes, titles, ncols=3)"
   ]
  },
  {
   "cell_type": "markdown",
   "metadata": {},
   "source": [
    "#### Without Emojis and With Stopwords"
   ]
  },
  {
   "cell_type": "markdown",
   "metadata": {},
   "source": [
    "relevant VS revelant + common VS common"
   ]
  },
  {
   "cell_type": "code",
   "execution_count": 121,
   "metadata": {},
   "outputs": [
    {
     "data": {
      "image/png": "[encoded data removed]",
      "text/plain": [
       "<Figure size 1800x600 with 3 Axes>"
      ]
     },
     "metadata": {},
     "output_type": "display_data"
    }
   ],
   "source": [
    "dataframes = [stopwords_relevant_df2_by_gender, stopwords_relevant_common_df2_by_gender, stopwords_common_df2_by_gender]\n",
    "titles = ['Relevant', 'Relevant + Common', 'Common']\n",
    "\n",
    "sentiment_differences_across_genres(dataframes, titles, ncols=3)"
   ]
  },
  {
   "cell_type": "markdown",
   "metadata": {},
   "source": [
    "#### Relevant"
   ]
  },
  {
   "cell_type": "markdown",
   "metadata": {},
   "source": [
    "With Emojis and Without Stopwords VS Without Emojis and With Stopwords"
   ]
  },
  {
   "cell_type": "code",
   "execution_count": 122,
   "metadata": {},
   "outputs": [
    {
     "data": {
      "image/png": "[encoded data removed]",
      "text/plain": [
       "<Figure size 1800x600 with 2 Axes>"
      ]
     },
     "metadata": {},
     "output_type": "display_data"
    }
   ],
   "source": [
    "dataframes = [emojis_relevant_df2, stopwords_relevant_df2]\n",
    "titles = ['With Emojis and Without Stopwords', 'Without Emojis and With Stopwords']\n",
    "\n",
    "sentiment_differences_across_genres(dataframes, titles, ncols=2)"
   ]
  },
  {
   "cell_type": "markdown",
   "metadata": {},
   "source": [
    "#### Revelant + Common"
   ]
  },
  {
   "cell_type": "markdown",
   "metadata": {},
   "source": [
    "With Emojis and Without Stopwords VS Without Emojis and With Stopwords"
   ]
  },
  {
   "cell_type": "code",
   "execution_count": 123,
   "metadata": {},
   "outputs": [
    {
     "data": {
      "image/png": "[encoded data removed]",
      "text/plain": [
       "<Figure size 1800x600 with 2 Axes>"
      ]
     },
     "metadata": {},
     "output_type": "display_data"
    }
   ],
   "source": [
    "dataframes = [emojis_relevant_common_df2, stopwords_relevant_common_df2]\n",
    "titles = ['With Emojis and Without Stopwords', 'Without Emojis and With Stopwords']\n",
    "\n",
    "sentiment_differences_across_genres(dataframes, titles, ncols=2)"
   ]
  },
  {
   "cell_type": "markdown",
   "metadata": {},
   "source": [
    "#### Common"
   ]
  },
  {
   "cell_type": "markdown",
   "metadata": {},
   "source": [
    "With Emojis and Without Stopwords VS Without Emojis and With Stopwords"
   ]
  },
  {
   "cell_type": "code",
   "execution_count": 124,
   "metadata": {},
   "outputs": [
    {
     "data": {
      "image/png": "[encoded data removed]",
      "text/plain": [
       "<Figure size 1800x600 with 2 Axes>"
      ]
     },
     "metadata": {},
     "output_type": "display_data"
    }
   ],
   "source": [
    "dataframes = [emojis_common_df2, stopwords_common_df2]\n",
    "titles = ['With Emojis and Without Stopwords', 'Without Emojis and With Stopwords']\n",
    "\n",
    "sentiment_differences_across_genres(dataframes, titles, ncols=2)"
   ]
  },
  {
   "cell_type": "markdown",
   "metadata": {},
   "source": [
    "# **Explore**"
   ]
  },
  {
   "cell_type": "markdown",
   "metadata": {},
   "source": [
    "### **Predominant sentiments in the lyrics of the songs of a specific musical genre:**"
   ]
  },
  {
   "cell_type": "code",
   "execution_count": 125,
   "metadata": {},
   "outputs": [],
   "source": [
    "##### ines :)"
   ]
  },
  {
   "cell_type": "markdown",
   "metadata": {},
   "source": [
    "### **Analyze Changes Over Years:**\n",
    "\n",
    "- Group data by genre and year to see how sentiments change over time.\n",
    "- Identify trends or shifts in emotional tones within genres across different years."
   ]
  },
  {
   "cell_type": "code",
   "execution_count": 126,
   "metadata": {},
   "outputs": [],
   "source": [
    "emojis_relevant_df[[\"year\", \"tag\"]] = train[[\"year\", \"tag\"]]\n",
    "# emojis_relevant_common_df[[\"year\", \"tag\"]] = train[[\"year\", \"tag\"]]\n",
    "# emojis_common_df[[\"year\", \"tag\"]] = train[[\"year\", \"tag\"]]\n",
    "\n",
    "# stopwords_relevant_df[[\"year\", \"tag\"]] = train[[\"year\", \"tag\"]]\n",
    "# stopwords_relevant_common_df[[\"year\", \"tag\"]] = train[[\"year\", \"tag\"]]\n",
    "# stopwords_common_df[[\"year\", \"tag\"]] = train[[\"year\", \"tag\"]]\n",
    "\n",
    "# emojis_relevant_df2[[\"year\", \"tag\"]] = train[[\"year\", \"tag\"]]\n",
    "# emojis_relevant_common_df2[[\"year\", \"tag\"]] = train[[\"year\", \"tag\"]]\n",
    "# emojis_common_df2[[\"year\", \"tag\"]] = train[[\"year\", \"tag\"]]\n",
    "\n",
    "# stopwords_relevant_df2[[\"year\", \"tag\"]] = train[[\"year\", \"tag\"]]\n",
    "# stopwords_relevant_common_df2[[\"year\", \"tag\"]] = train[[\"year\", \"tag\"]]\n",
    "# stopwords_common_df2[[\"year\", \"tag\"]] = train[[\"year\", \"tag\"]]"
   ]
  },
  {
   "cell_type": "code",
   "execution_count": 132,
   "metadata": {},
   "outputs": [],
   "source": [
    "emojis_relevant_df_copy = emojis_relevant_df.copy()"
   ]
  },
  {
   "cell_type": "code",
   "execution_count": 134,
   "metadata": {},
   "outputs": [
    {
     "data": {
      "image/png": "[encoded data removed]",
      "text/plain": [
       "<Figure size 1200x600 with 1 Axes>"
      ]
     },
     "metadata": {},
     "output_type": "display_data"
    }
   ],
   "source": [
    "# Convert the 'sentiment' column to numeric\n",
    "emojis_relevant_df_copy['sentiment_label'] = pd.to_numeric(emojis_relevant_df_copy['sentiment_label'], errors='coerce')\n",
    "\n",
    "# Group by genre and year, then calculate the mean sentiment\n",
    "genre_year_sentiment = emojis_relevant_df_copy.groupby(['tag', 'year'])['sentiment_label'].mean().reset_index()\n",
    "\n",
    "# Visualize changes over the years\n",
    "plt.figure(figsize=(12, 6))\n",
    "sns.lineplot(x='year', y='sentiment_label', hue='tag', data=genre_year_sentiment)\n",
    "plt.title('Changes in Sentiment Over the Years for Each Genre')\n",
    "plt.xlabel('Year')\n",
    "plt.ylabel('Mean Sentiment Score')\n",
    "plt.show()"
   ]
  },
  {
   "cell_type": "code",
   "execution_count": 139,
   "metadata": {},
   "outputs": [
    {
     "data": {
      "image/png": "[encoded data removed]",
      "text/plain": [
       "<Figure size 1200x600 with 1 Axes>"
      ]
     },
     "metadata": {},
     "output_type": "display_data"
    }
   ],
   "source": [
    "# Visualize changes over the years for each genre\n",
    "plt.figure(figsize=(12, 6))\n",
    "sns.lineplot(x='year', y='sentiment_label', hue='tag', data=emojis_relevant_df_copy, marker='o')\n",
    "plt.title('Changes in Sentiment Over the Years for Each Genre')\n",
    "plt.xlabel('Year')\n",
    "plt.ylabel('Sentiment')\n",
    "plt.show()"
   ]
  },
  {
   "cell_type": "code",
   "execution_count": null,
   "metadata": {},
   "outputs": [],
   "source": [
    "import seaborn as sns\n",
    "import matplotlib.pyplot as plt\n",
    "\n",
    "# Example: Line plot\n",
    "plt.figure(figsize=(12, 6))\n",
    "sns.lineplot(x='year', y='sentiment', hue='genre', data=genre_year_sentiment)\n",
    "plt.title('Changes in Sentiment Over the Years for Each Genre')\n",
    "plt.xlabel('Year')\n",
    "plt.ylabel('Mean Sentiment Score')\n",
    "plt.show()"
   ]
  },
  {
   "cell_type": "code",
   "execution_count": null,
   "metadata": {},
   "outputs": [],
   "source": [
    "# agrupar anos"
   ]
  },
  {
   "cell_type": "code",
   "execution_count": null,
   "metadata": {},
   "outputs": [],
   "source": [
    "lyrics_preproc[]"
   ]
  },
  {
   "cell_type": "code",
   "execution_count": null,
   "metadata": {},
   "outputs": [],
   "source": []
  },
  {
   "cell_type": "markdown",
   "metadata": {},
   "source": [
    "### **Explore the Impact on Popularity:**\n",
    "\n",
    "- Investigate whether sentiment correlates with song popularity (views).\n",
    "- Analyze if certain sentiments are more appealing to audiences within and across genres."
   ]
  },
  {
   "cell_type": "markdown",
   "metadata": {},
   "source": [
    "### **Collaborations and Sentiment:**\n",
    "   - How does the sentiment of a song vary when there are collaborations with other artists?\n",
    "   - Do collaborations tend to result in songs with more positive or diverse sentiments?"
   ]
  },
  {
   "cell_type": "markdown",
   "metadata": {},
   "source": [
    "### **Sentiment and Song Popularity:**\n",
    "   - Is there a correlation between the sentiment of a song and its popularity (number of views)?\n",
    "   - Do songs with certain sentiments tend to attract more views?"
   ]
  },
  {
   "cell_type": "markdown",
   "metadata": {},
   "source": [
    "### **Lyrics Length and Sentiment:**\n",
    "   - Is there a correlation between the length of song lyrics and the expressed sentiment?\n",
    "   - Do shorter or longer lyrics tend to convey specific sentiments?"
   ]
  },
  {
   "cell_type": "markdown",
   "metadata": {},
   "source": [
    "### **Cross-Genre Sentiment Analysis:**\n",
    "   - Are there common sentiments shared between different genres, and how do they differ?\n",
    "   - How do sentiments vary when songs from different genres collaborate or blend influences?"
   ]
  },
  {
   "cell_type": "code",
   "execution_count": 142,
   "metadata": {},
   "outputs": [],
   "source": [
    "##### so depois da parte da ines :)"
   ]
  },
  {
   "cell_type": "markdown",
   "metadata": {},
   "source": [
    "### **Impact of Lyrics on Views:**\n",
    "- Is there evidence that certain sentiments in lyrics contribute to more views on the online music service?\n",
    "- Do specific sentiments correlate with songs that go viral or become trending?"
   ]
  },
  {
   "cell_type": "markdown",
   "metadata": {},
   "source": [
    "### **Sentiment and Musical Trends:**\n",
    "- Are there patterns in sentiment that align with broader musical trends or movements?\n",
    "- How does sentiment correlate with the evolution of music styles over time?"
   ]
  },
  {
   "cell_type": "code",
   "execution_count": null,
   "metadata": {},
   "outputs": [],
   "source": []
  },
  {
   "cell_type": "code",
   "execution_count": null,
   "metadata": {},
   "outputs": [],
   "source": []
  },
  {
   "cell_type": "markdown",
   "metadata": {},
   "source": [
    "### By gender"
   ]
  },
  {
   "cell_type": "code",
   "execution_count": null,
   "metadata": {},
   "outputs": [
    {
     "data": {
      "text/plain": [
       "73.16791690709752"
      ]
     },
     "metadata": {},
     "output_type": "display_data"
    }
   ],
   "source": [
    "# ### country\n",
    "# country_positive_df = labels_df[(labels_df['tag'] == \"country\") & (labels_df['compound'] > 0.2)]\n",
    "# country_df = labels_df[labels_df['tag'] == \"country\"]\n",
    "# country_overall = len(country_positive_df[\"compound\"]) / len(country_df[\"compound\"])*100\n",
    "# display(country_overall)"
   ]
  },
  {
   "cell_type": "code",
   "execution_count": null,
   "metadata": {},
   "outputs": [
    {
     "data": {
      "text/plain": [
       "65.31914893617021"
      ]
     },
     "metadata": {},
     "output_type": "display_data"
    }
   ],
   "source": [
    "# ### misc\n",
    "# misc_positive_df = labels_df[(labels_df['tag'] == \"misc\") & (labels_df['compound'] > 0.2)]\n",
    "# misc_df = labels_df[labels_df['tag'] == \"misc\"]\n",
    "# misc_overall = len(misc_positive_df[\"compound\"]) / len(misc_df[\"compound\"])*100\n",
    "# display(misc_overall)"
   ]
  },
  {
   "cell_type": "markdown",
   "metadata": {},
   "source": [
    "### Export Dataset"
   ]
  },
  {
   "cell_type": "code",
   "execution_count": null,
   "metadata": {},
   "outputs": [],
   "source": [
    "# lyrics_train = pd.read_csv(r'C:\\Users\\bruna\\Desktop\\data_updated\\lyrics_train.csv', index_col=-1)"
   ]
  }
 ],
 "metadata": {
  "kernelspec": {
   "display_name": "Python 3",
   "language": "python",
   "name": "python3"
  },
  "language_info": {
   "codemirror_mode": {
    "name": "ipython",
    "version": 3
   },
   "file_extension": ".py",
   "mimetype": "text/x-python",
   "name": "python",
   "nbconvert_exporter": "python",
   "pygments_lexer": "ipython3",
   "version": "3.11.5"
  }
 },
 "nbformat": 4,
 "nbformat_minor": 2
}
